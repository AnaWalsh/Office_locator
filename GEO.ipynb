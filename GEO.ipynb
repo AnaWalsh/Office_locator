{
 "cells": [
  {
   "cell_type": "markdown",
   "id": "a6b4e18e",
   "metadata": {},
   "source": [
    "# W4-geospatial-data-project"
   ]
  },
  {
   "cell_type": "code",
   "execution_count": 1,
   "id": "c1bd9c16",
   "metadata": {},
   "outputs": [],
   "source": [
    "#Import the necessary libraries.\n",
    "import folium\n",
    "from folium import Choropleth, Circle, Marker, Icon, Map\n",
    "from folium.plugins import HeatMap, MarkerCluster\n",
    "import pandas as pd\n",
    "import requests\n",
    "import json\n",
    "from dotenv import load_dotenv\n",
    "import os\n",
    "import pandas as pd\n",
    "import re"
   ]
  },
  {
   "cell_type": "code",
   "execution_count": 2,
   "id": "338d0754",
   "metadata": {},
   "outputs": [],
   "source": [
    "from functools import reduce\n",
    "import operator"
   ]
  },
  {
   "cell_type": "code",
   "execution_count": 3,
   "id": "6ca2efe6",
   "metadata": {},
   "outputs": [
    {
     "name": "stderr",
     "output_type": "stream",
     "text": [
      "/Users/awalsh/IRONHACK/PROYECTOS/W4-geospatial-data-project/src/api_functions.py:112: SyntaxWarning: \"is\" with a literal. Did you mean \"==\"?\n",
      "  if city_name is \"Madrid\":\n",
      "/Users/awalsh/IRONHACK/PROYECTOS/W4-geospatial-data-project/src/api_functions.py:114: SyntaxWarning: \"is\" with a literal. Did you mean \"==\"?\n",
      "  if city_name is \"Sevilla\":\n",
      "/Users/awalsh/IRONHACK/PROYECTOS/W4-geospatial-data-project/src/api_functions.py:116: SyntaxWarning: \"is\" with a literal. Did you mean \"==\"?\n",
      "  if city_name is \"Barcelona\":\n"
     ]
    }
   ],
   "source": [
    "#Import functions from .py\n",
    "import src.api_functions as af "
   ]
  },
  {
   "cell_type": "markdown",
   "id": "115aa78b",
   "metadata": {},
   "source": [
    "# Option 1: Madrid"
   ]
  },
  {
   "cell_type": "code",
   "execution_count": 4,
   "id": "13508136",
   "metadata": {},
   "outputs": [
    {
     "data": {
      "text/plain": [
       "{'type': 'Point', 'coordinates': ['40.41703', '-3.70343']}"
      ]
     },
     "execution_count": 4,
     "metadata": {},
     "output_type": "execute_result"
    }
   ],
   "source": [
    "#We define \"name\", \"address\" and \"place\" for the Madrid location.\n",
    "city_name = \"Madrid\"\n",
    "city_address = \"Puerta del sol\"\n",
    "city_place = \"starbucks\"\n",
    "\n",
    "#We use format to parameterize the string that will receive geocode and be able to use it for each of the locations.\n",
    "geocode_address = f'{city_address}, {city_name}' \n",
    "\n",
    "#We search the coordinates for the location of Madrid using the function geocode.\n",
    "madrid = af.geocode(geocode_address)\n",
    "madrid"
   ]
  },
  {
   "cell_type": "code",
   "execution_count": 5,
   "id": "c96a9ca4",
   "metadata": {},
   "outputs": [
    {
     "data": {
      "text/plain": [
       "True"
      ]
     },
     "execution_count": 5,
     "metadata": {},
     "output_type": "execute_result"
    }
   ],
   "source": [
    "load_dotenv() "
   ]
  },
  {
   "cell_type": "code",
   "execution_count": 6,
   "id": "d830411e",
   "metadata": {},
   "outputs": [],
   "source": [
    "#To store our tokens in variables.\n",
    "client_id = os.getenv(\"tok1\")\n",
    "client_secret = os.getenv(\"tok2\")"
   ]
  },
  {
   "cell_type": "code",
   "execution_count": 7,
   "id": "f760a4bf",
   "metadata": {},
   "outputs": [],
   "source": [
    "#Define the URLs where we will make the API requests.\n",
    "url_query = 'https://api.foursquare.com/v2/venues/search' \n",
    "url_recomendados = 'https://api.foursquare.com/v2/venues/explore'"
   ]
  },
  {
   "cell_type": "markdown",
   "id": "24e5398c",
   "metadata": {},
   "source": [
    "## 1.1. Find Starbucks in Madrid"
   ]
  },
  {
   "cell_type": "code",
   "execution_count": 8,
   "id": "d686a2ca",
   "metadata": {},
   "outputs": [],
   "source": [
    "#Call the function \"find_places\"\n",
    "madrid_starbucks_dict = af.find_places(\"starbucks\", madrid)"
   ]
  },
  {
   "cell_type": "code",
   "execution_count": 9,
   "id": "29c738d1",
   "metadata": {},
   "outputs": [],
   "source": [
    "#print(madrid_starbucks_dict)"
   ]
  },
  {
   "cell_type": "code",
   "execution_count": 10,
   "id": "61da9e1c",
   "metadata": {},
   "outputs": [
    {
     "data": {
      "text/html": [
       "<div>\n",
       "<style scoped>\n",
       "    .dataframe tbody tr th:only-of-type {\n",
       "        vertical-align: middle;\n",
       "    }\n",
       "\n",
       "    .dataframe tbody tr th {\n",
       "        vertical-align: top;\n",
       "    }\n",
       "\n",
       "    .dataframe thead th {\n",
       "        text-align: right;\n",
       "    }\n",
       "</style>\n",
       "<table border=\"1\" class=\"dataframe\">\n",
       "  <thead>\n",
       "    <tr style=\"text-align: right;\">\n",
       "      <th></th>\n",
       "      <th>nombre</th>\n",
       "      <th>latitud</th>\n",
       "      <th>longitud</th>\n",
       "      <th>location</th>\n",
       "    </tr>\n",
       "  </thead>\n",
       "  <tbody>\n",
       "    <tr>\n",
       "      <th>0</th>\n",
       "      <td>Starbucks</td>\n",
       "      <td>40.417195</td>\n",
       "      <td>-3.706119</td>\n",
       "      <td>{'type': 'Point', 'coordinates': [40.417195167...</td>\n",
       "    </tr>\n",
       "    <tr>\n",
       "      <th>1</th>\n",
       "      <td>Starbucks</td>\n",
       "      <td>40.417539</td>\n",
       "      <td>-3.702775</td>\n",
       "      <td>{'type': 'Point', 'coordinates': [40.417539, -...</td>\n",
       "    </tr>\n",
       "    <tr>\n",
       "      <th>2</th>\n",
       "      <td>Starbucks</td>\n",
       "      <td>40.420140</td>\n",
       "      <td>-3.702886</td>\n",
       "      <td>{'type': 'Point', 'coordinates': [40.420140393...</td>\n",
       "    </tr>\n",
       "    <tr>\n",
       "      <th>3</th>\n",
       "      <td>Starbucks</td>\n",
       "      <td>40.418038</td>\n",
       "      <td>-3.699372</td>\n",
       "      <td>{'type': 'Point', 'coordinates': [40.418038185...</td>\n",
       "    </tr>\n",
       "    <tr>\n",
       "      <th>4</th>\n",
       "      <td>Starbucks</td>\n",
       "      <td>40.417489</td>\n",
       "      <td>-3.704665</td>\n",
       "      <td>{'type': 'Point', 'coordinates': [40.417489421...</td>\n",
       "    </tr>\n",
       "  </tbody>\n",
       "</table>\n",
       "</div>"
      ],
      "text/plain": [
       "      nombre    latitud  longitud  \\\n",
       "0  Starbucks  40.417195 -3.706119   \n",
       "1  Starbucks  40.417539 -3.702775   \n",
       "2  Starbucks  40.420140 -3.702886   \n",
       "3  Starbucks  40.418038 -3.699372   \n",
       "4  Starbucks  40.417489 -3.704665   \n",
       "\n",
       "                                            location  \n",
       "0  {'type': 'Point', 'coordinates': [40.417195167...  \n",
       "1  {'type': 'Point', 'coordinates': [40.417539, -...  \n",
       "2  {'type': 'Point', 'coordinates': [40.420140393...  \n",
       "3  {'type': 'Point', 'coordinates': [40.418038185...  \n",
       "4  {'type': 'Point', 'coordinates': [40.417489421...  "
      ]
     },
     "execution_count": 10,
     "metadata": {},
     "output_type": "execute_result"
    }
   ],
   "source": [
    "#Call the function \"build_df\" to build a df from the dictionary obtained with \"find_places\"\n",
    "madrid_starbucks_df = af.build_df(madrid_starbucks_dict)\n",
    "madrid_starbucks_df.head()"
   ]
  },
  {
   "cell_type": "code",
   "execution_count": 11,
   "id": "b5c485ae",
   "metadata": {},
   "outputs": [],
   "source": [
    "#Call the function \"build_json\" to store the data in a json and save it. \n",
    "af.build_json(city_place, city_name, madrid_starbucks_dict)"
   ]
  },
  {
   "cell_type": "markdown",
   "id": "1198d2af",
   "metadata": {},
   "source": [
    "import geopandas as gpd"
   ]
  },
  {
   "cell_type": "markdown",
   "id": "cb08a09b",
   "metadata": {},
   "source": [
    "madrid_starbucks_df.sample()"
   ]
  },
  {
   "cell_type": "markdown",
   "id": "9b27f150",
   "metadata": {},
   "source": [
    "gdf_starbucks_madrid = gpd.GeoDataFrame(madrid_starbucks_df, geometry=gpd.points_from_xy(madrid_starbucks_df.longitud, madrid_starbucks_df.latitud))"
   ]
  },
  {
   "cell_type": "markdown",
   "id": "613491cf",
   "metadata": {},
   "source": [
    "gdf_starbucks_madrid.sample()"
   ]
  },
  {
   "cell_type": "markdown",
   "id": "db7035a5",
   "metadata": {},
   "source": [
    "from cartoframes.viz import Map, Layer, popup_element"
   ]
  },
  {
   "cell_type": "markdown",
   "id": "54abb595",
   "metadata": {},
   "source": [
    "Map(Layer(gdf_starbucks_madrid, \"color:green\", popup_hover=[popup_element(\"nombre\", \"Starbucks en Madrid\")]))"
   ]
  },
  {
   "cell_type": "markdown",
   "id": "d992734a",
   "metadata": {},
   "source": [
    "## 1.2. Find vegan restaurants in Madrid"
   ]
  },
  {
   "cell_type": "code",
   "execution_count": 12,
   "id": "80f3ea54",
   "metadata": {},
   "outputs": [],
   "source": [
    "city_place = \"vegan\""
   ]
  },
  {
   "cell_type": "code",
   "execution_count": 13,
   "id": "edc94caf",
   "metadata": {},
   "outputs": [],
   "source": [
    "madrid_vegans_dict = af.find_places(\"vegano\", madrid)"
   ]
  },
  {
   "cell_type": "code",
   "execution_count": 14,
   "id": "4a6e98e3",
   "metadata": {},
   "outputs": [
    {
     "data": {
      "text/html": [
       "<div>\n",
       "<style scoped>\n",
       "    .dataframe tbody tr th:only-of-type {\n",
       "        vertical-align: middle;\n",
       "    }\n",
       "\n",
       "    .dataframe tbody tr th {\n",
       "        vertical-align: top;\n",
       "    }\n",
       "\n",
       "    .dataframe thead th {\n",
       "        text-align: right;\n",
       "    }\n",
       "</style>\n",
       "<table border=\"1\" class=\"dataframe\">\n",
       "  <thead>\n",
       "    <tr style=\"text-align: right;\">\n",
       "      <th></th>\n",
       "      <th>nombre</th>\n",
       "      <th>latitud</th>\n",
       "      <th>longitud</th>\n",
       "      <th>location</th>\n",
       "    </tr>\n",
       "  </thead>\n",
       "  <tbody>\n",
       "    <tr>\n",
       "      <th>0</th>\n",
       "      <td>RESTAURANTE VEGANO PLANT GRILL</td>\n",
       "      <td>40.415583</td>\n",
       "      <td>-3.701298</td>\n",
       "      <td>{'type': 'Point', 'coordinates': [40.415583141...</td>\n",
       "    </tr>\n",
       "    <tr>\n",
       "      <th>1</th>\n",
       "      <td>Planeta Vegano</td>\n",
       "      <td>40.410285</td>\n",
       "      <td>-3.700524</td>\n",
       "      <td>{'type': 'Point', 'coordinates': [40.410285211...</td>\n",
       "    </tr>\n",
       "    <tr>\n",
       "      <th>2</th>\n",
       "      <td>Planeta Vegano</td>\n",
       "      <td>40.408534</td>\n",
       "      <td>-3.700901</td>\n",
       "      <td>{'type': 'Point', 'coordinates': [40.408533876...</td>\n",
       "    </tr>\n",
       "    <tr>\n",
       "      <th>3</th>\n",
       "      <td>El Templo Vegano</td>\n",
       "      <td>40.426277</td>\n",
       "      <td>-3.699349</td>\n",
       "      <td>{'type': 'Point', 'coordinates': [40.426277, -...</td>\n",
       "    </tr>\n",
       "    <tr>\n",
       "      <th>4</th>\n",
       "      <td>Punto Vegano</td>\n",
       "      <td>40.424821</td>\n",
       "      <td>-3.715852</td>\n",
       "      <td>{'type': 'Point', 'coordinates': [40.424821212...</td>\n",
       "    </tr>\n",
       "  </tbody>\n",
       "</table>\n",
       "</div>"
      ],
      "text/plain": [
       "                           nombre    latitud  longitud  \\\n",
       "0  RESTAURANTE VEGANO PLANT GRILL  40.415583 -3.701298   \n",
       "1                  Planeta Vegano  40.410285 -3.700524   \n",
       "2                  Planeta Vegano  40.408534 -3.700901   \n",
       "3                El Templo Vegano  40.426277 -3.699349   \n",
       "4                    Punto Vegano  40.424821 -3.715852   \n",
       "\n",
       "                                            location  \n",
       "0  {'type': 'Point', 'coordinates': [40.415583141...  \n",
       "1  {'type': 'Point', 'coordinates': [40.410285211...  \n",
       "2  {'type': 'Point', 'coordinates': [40.408533876...  \n",
       "3  {'type': 'Point', 'coordinates': [40.426277, -...  \n",
       "4  {'type': 'Point', 'coordinates': [40.424821212...  "
      ]
     },
     "execution_count": 14,
     "metadata": {},
     "output_type": "execute_result"
    }
   ],
   "source": [
    "madrid_vegans_df = af.build_df(madrid_vegans_dict)\n",
    "madrid_vegans_df.head()"
   ]
  },
  {
   "cell_type": "code",
   "execution_count": 15,
   "id": "d9ddb997",
   "metadata": {},
   "outputs": [],
   "source": [
    "#af.build_json(city_place, city_name, madrid_vegans_dict)"
   ]
  },
  {
   "cell_type": "markdown",
   "id": "d2c18639",
   "metadata": {},
   "source": [
    "## 1.3. Find nurseries in Madrid"
   ]
  },
  {
   "cell_type": "markdown",
   "id": "d66c7ad4",
   "metadata": {},
   "source": [
    "city_place = \"guarderia\""
   ]
  },
  {
   "cell_type": "markdown",
   "id": "1112033d",
   "metadata": {},
   "source": [
    "madrid_guarderia_dict = af.find_places(\"guarderia\", madrid)"
   ]
  },
  {
   "cell_type": "markdown",
   "id": "68eaf2e8",
   "metadata": {},
   "source": [
    "madrid_guarderia_df = af.build_df(madrid_guarderia_dict)\n",
    "madrid_guarderia_df.head()"
   ]
  },
  {
   "cell_type": "markdown",
   "id": "c88fa331",
   "metadata": {},
   "source": [
    "af.build_json(city_place, city_name, madrid_guarderia_dict)"
   ]
  },
  {
   "cell_type": "markdown",
   "id": "5c26de18",
   "metadata": {},
   "source": [
    "madrid_guarderia_df.nombre.unique()"
   ]
  },
  {
   "cell_type": "markdown",
   "id": "6a935a31",
   "metadata": {},
   "source": [
    "af.build_json(city_place, city_name, madrid_starbucks_dict)"
   ]
  },
  {
   "cell_type": "markdown",
   "id": "77c32d5d",
   "metadata": {},
   "source": [
    "## 1.4. Find schools in Madrid"
   ]
  },
  {
   "cell_type": "markdown",
   "id": "2e4427fb",
   "metadata": {},
   "source": [
    "city_place = \"colegio\""
   ]
  },
  {
   "cell_type": "markdown",
   "id": "34352462",
   "metadata": {},
   "source": [
    "madrid_baloncesto_dict = af.find_places(\"colegio\", madrid)"
   ]
  },
  {
   "cell_type": "markdown",
   "id": "3361cf4d",
   "metadata": {},
   "source": [
    "madrid_colegio_df = af.build_df(madrid_baloncesto_dict)\n",
    "madrid_colegio_df.head()"
   ]
  },
  {
   "cell_type": "markdown",
   "id": "691fa7bd",
   "metadata": {},
   "source": [
    "madrid_colegio_df.nombre.unique()"
   ]
  },
  {
   "cell_type": "markdown",
   "id": "2cb82194",
   "metadata": {},
   "source": [
    "## 1.6. Find pet hairdresser in Madrid"
   ]
  },
  {
   "cell_type": "code",
   "execution_count": 16,
   "id": "343fef6c",
   "metadata": {},
   "outputs": [],
   "source": [
    "city_place = \"pets\""
   ]
  },
  {
   "cell_type": "code",
   "execution_count": 17,
   "id": "6fde8d15",
   "metadata": {},
   "outputs": [],
   "source": [
    "madrid_pets_dict = af.find_places(\"peluqueria canina\", madrid)"
   ]
  },
  {
   "cell_type": "code",
   "execution_count": 18,
   "id": "8ba4d855",
   "metadata": {},
   "outputs": [
    {
     "data": {
      "text/html": [
       "<div>\n",
       "<style scoped>\n",
       "    .dataframe tbody tr th:only-of-type {\n",
       "        vertical-align: middle;\n",
       "    }\n",
       "\n",
       "    .dataframe tbody tr th {\n",
       "        vertical-align: top;\n",
       "    }\n",
       "\n",
       "    .dataframe thead th {\n",
       "        text-align: right;\n",
       "    }\n",
       "</style>\n",
       "<table border=\"1\" class=\"dataframe\">\n",
       "  <thead>\n",
       "    <tr style=\"text-align: right;\">\n",
       "      <th></th>\n",
       "      <th>nombre</th>\n",
       "      <th>latitud</th>\n",
       "      <th>longitud</th>\n",
       "      <th>location</th>\n",
       "    </tr>\n",
       "  </thead>\n",
       "  <tbody>\n",
       "    <tr>\n",
       "      <th>0</th>\n",
       "      <td>petworks peluquería canina &amp; animal boutique</td>\n",
       "      <td>40.402467</td>\n",
       "      <td>-3.708326</td>\n",
       "      <td>{'type': 'Point', 'coordinates': [40.402467291...</td>\n",
       "    </tr>\n",
       "    <tr>\n",
       "      <th>1</th>\n",
       "      <td>Peluquería Canina Oh my dog</td>\n",
       "      <td>40.398848</td>\n",
       "      <td>-3.700395</td>\n",
       "      <td>{'type': 'Point', 'coordinates': [40.398848145...</td>\n",
       "    </tr>\n",
       "    <tr>\n",
       "      <th>2</th>\n",
       "      <td>Peluquería canina. Nudogs</td>\n",
       "      <td>40.426059</td>\n",
       "      <td>-3.730614</td>\n",
       "      <td>{'type': 'Point', 'coordinates': [40.426059473...</td>\n",
       "    </tr>\n",
       "    <tr>\n",
       "      <th>3</th>\n",
       "      <td>peluquería canina Daniela Vallejo</td>\n",
       "      <td>40.366642</td>\n",
       "      <td>-3.549458</td>\n",
       "      <td>{'type': 'Point', 'coordinates': [40.366642440...</td>\n",
       "    </tr>\n",
       "    <tr>\n",
       "      <th>4</th>\n",
       "      <td>Peluquería Canina Bichillos</td>\n",
       "      <td>40.338966</td>\n",
       "      <td>-3.867538</td>\n",
       "      <td>{'type': 'Point', 'coordinates': [40.338965750...</td>\n",
       "    </tr>\n",
       "  </tbody>\n",
       "</table>\n",
       "</div>"
      ],
      "text/plain": [
       "                                         nombre    latitud  longitud  \\\n",
       "0  petworks peluquería canina & animal boutique  40.402467 -3.708326   \n",
       "1                   Peluquería Canina Oh my dog  40.398848 -3.700395   \n",
       "2                     Peluquería canina. Nudogs  40.426059 -3.730614   \n",
       "3             peluquería canina Daniela Vallejo  40.366642 -3.549458   \n",
       "4                   Peluquería Canina Bichillos  40.338966 -3.867538   \n",
       "\n",
       "                                            location  \n",
       "0  {'type': 'Point', 'coordinates': [40.402467291...  \n",
       "1  {'type': 'Point', 'coordinates': [40.398848145...  \n",
       "2  {'type': 'Point', 'coordinates': [40.426059473...  \n",
       "3  {'type': 'Point', 'coordinates': [40.366642440...  \n",
       "4  {'type': 'Point', 'coordinates': [40.338965750...  "
      ]
     },
     "execution_count": 18,
     "metadata": {},
     "output_type": "execute_result"
    }
   ],
   "source": [
    "madrid_pets_df = af.build_df(madrid_pets_dict)\n",
    "madrid_pets_df.head()"
   ]
  },
  {
   "cell_type": "code",
   "execution_count": 19,
   "id": "521c0865",
   "metadata": {},
   "outputs": [
    {
     "data": {
      "text/plain": [
       "array(['petworks peluquería canina & animal boutique',\n",
       "       'Peluquería Canina Oh my dog', 'Peluquería canina. Nudogs',\n",
       "       'peluquería canina Daniela Vallejo', 'Peluquería Canina Bichillos',\n",
       "       'Peluquería Canina Peluditos',\n",
       "       'Cursos Peluquería Canina Raul Ferrio',\n",
       "       'Can Cut Peluquería Canina', 'Peluquería Canina Strella',\n",
       "       'Peluqueria Canina', 'Peluquería Canina Plaza Vieja',\n",
       "       'Peluquería Canina \"Lotta & Less\"',\n",
       "       'Peluqueria canina movil Good Dog',\n",
       "       'Peluqueria canina \"El castillo\"', 'Peluquería canina Rock & Dog',\n",
       "       'Pet’Shop Zafra2 Peluquería Canina', 'peluqueria canina queen dog',\n",
       "       'Peluqueria canina Miriam', 'Peluqueria Canina Zar',\n",
       "       'Peluquería Canina Anthares', 'Peluquería canina Canessa',\n",
       "       'Peluquería canina Miss Pulguitas', 'Peluqueria canina',\n",
       "       'Peluquería canina Truka', 'Peluqueria Canina Pelucan',\n",
       "       'Peluquería canina y felina SENDA (a domicilio)',\n",
       "       'Peluqueria canina la dehesa', 'Peluqueria Canina Saray',\n",
       "       'Peluquería Canina Saray', 'Peluquería Canina Boykid y Exóticos'],\n",
       "      dtype=object)"
      ]
     },
     "execution_count": 19,
     "metadata": {},
     "output_type": "execute_result"
    }
   ],
   "source": [
    "madrid_pets_df.nombre.unique()"
   ]
  },
  {
   "cell_type": "code",
   "execution_count": 20,
   "id": "0aa006d8",
   "metadata": {},
   "outputs": [],
   "source": [
    "af.build_json(city_place, city_name, madrid_pets_dict)"
   ]
  },
  {
   "cell_type": "markdown",
   "id": "203c747b",
   "metadata": {},
   "source": [
    "## 1.5. Find train stations in Madrid"
   ]
  },
  {
   "cell_type": "code",
   "execution_count": 21,
   "id": "837c0b8b",
   "metadata": {},
   "outputs": [],
   "source": [
    "city_place = \"stations\""
   ]
  },
  {
   "cell_type": "code",
   "execution_count": 22,
   "id": "9090dec3",
   "metadata": {},
   "outputs": [],
   "source": [
    "madrid_stations_dict = af.find_places(\"estacion renfe\", madrid)"
   ]
  },
  {
   "cell_type": "code",
   "execution_count": 23,
   "id": "bd186c72",
   "metadata": {},
   "outputs": [
    {
     "data": {
      "text/html": [
       "<div>\n",
       "<style scoped>\n",
       "    .dataframe tbody tr th:only-of-type {\n",
       "        vertical-align: middle;\n",
       "    }\n",
       "\n",
       "    .dataframe tbody tr th {\n",
       "        vertical-align: top;\n",
       "    }\n",
       "\n",
       "    .dataframe thead th {\n",
       "        text-align: right;\n",
       "    }\n",
       "</style>\n",
       "<table border=\"1\" class=\"dataframe\">\n",
       "  <thead>\n",
       "    <tr style=\"text-align: right;\">\n",
       "      <th></th>\n",
       "      <th>nombre</th>\n",
       "      <th>latitud</th>\n",
       "      <th>longitud</th>\n",
       "      <th>location</th>\n",
       "    </tr>\n",
       "  </thead>\n",
       "  <tbody>\n",
       "    <tr>\n",
       "      <th>0</th>\n",
       "      <td>Estación de Madrid-Puerta de Atocha</td>\n",
       "      <td>40.406403</td>\n",
       "      <td>-3.689550</td>\n",
       "      <td>{'type': 'Point', 'coordinates': [40.406402503...</td>\n",
       "    </tr>\n",
       "    <tr>\n",
       "      <th>1</th>\n",
       "      <td>estacion renfe cordoba</td>\n",
       "      <td>40.439998</td>\n",
       "      <td>-3.670001</td>\n",
       "      <td>{'type': 'Point', 'coordinates': [40.439998100...</td>\n",
       "    </tr>\n",
       "    <tr>\n",
       "      <th>2</th>\n",
       "      <td>Estación Renfe Villalba de Guadarrama</td>\n",
       "      <td>40.442951</td>\n",
       "      <td>-3.873070</td>\n",
       "      <td>{'type': 'Point', 'coordinates': [40.442951202...</td>\n",
       "    </tr>\n",
       "    <tr>\n",
       "      <th>3</th>\n",
       "      <td>Estación de Cercanías de Madrid-Atocha</td>\n",
       "      <td>40.405497</td>\n",
       "      <td>-3.688216</td>\n",
       "      <td>{'type': 'Point', 'coordinates': [40.405496649...</td>\n",
       "    </tr>\n",
       "    <tr>\n",
       "      <th>4</th>\n",
       "      <td>Aparcamiento de tierra de la estación Renfe</td>\n",
       "      <td>40.158603</td>\n",
       "      <td>-3.611266</td>\n",
       "      <td>{'type': 'Point', 'coordinates': [40.158603062...</td>\n",
       "    </tr>\n",
       "  </tbody>\n",
       "</table>\n",
       "</div>"
      ],
      "text/plain": [
       "                                        nombre    latitud  longitud  \\\n",
       "0          Estación de Madrid-Puerta de Atocha  40.406403 -3.689550   \n",
       "1                       estacion renfe cordoba  40.439998 -3.670001   \n",
       "2        Estación Renfe Villalba de Guadarrama  40.442951 -3.873070   \n",
       "3       Estación de Cercanías de Madrid-Atocha  40.405497 -3.688216   \n",
       "4  Aparcamiento de tierra de la estación Renfe  40.158603 -3.611266   \n",
       "\n",
       "                                            location  \n",
       "0  {'type': 'Point', 'coordinates': [40.406402503...  \n",
       "1  {'type': 'Point', 'coordinates': [40.439998100...  \n",
       "2  {'type': 'Point', 'coordinates': [40.442951202...  \n",
       "3  {'type': 'Point', 'coordinates': [40.405496649...  \n",
       "4  {'type': 'Point', 'coordinates': [40.158603062...  "
      ]
     },
     "execution_count": 23,
     "metadata": {},
     "output_type": "execute_result"
    }
   ],
   "source": [
    "madrid_stations_df = af.build_df(madrid_stations_dict)\n",
    "madrid_stations_df.head()"
   ]
  },
  {
   "cell_type": "code",
   "execution_count": 24,
   "id": "588f2216",
   "metadata": {},
   "outputs": [],
   "source": [
    "af.build_json(city_place, city_name, madrid_stations_dict)"
   ]
  },
  {
   "cell_type": "markdown",
   "id": "4e432e2b",
   "metadata": {},
   "source": [
    "# Option 2 : Barcelona"
   ]
  },
  {
   "cell_type": "code",
   "execution_count": 25,
   "id": "fc6852a4",
   "metadata": {},
   "outputs": [
    {
     "data": {
      "text/plain": [
       "{'type': 'Point', 'coordinates': ['41.38781', '2.16920']}"
      ]
     },
     "execution_count": 25,
     "metadata": {},
     "output_type": "execute_result"
    }
   ],
   "source": [
    "#We define \"name\", \"address\" and \"place\" for the Madrid location.\n",
    "city_name = \"Barcelona\"\n",
    "city_address = \"Plaça de Catalunya\"\n",
    "\n",
    "\n",
    "#We use format to parameterize the string that will receive geocode and be able to use it for each of the locations.\n",
    "geocode_address = f'{city_address}, {city_name}' \n",
    "\n",
    "#We search the coordinates for the location of Madrid using the function geocode.\n",
    "barcelona = af.geocode(geocode_address)\n",
    "barcelona"
   ]
  },
  {
   "cell_type": "markdown",
   "id": "959c8014",
   "metadata": {},
   "source": [
    "## 2.1. Find Starbucks in Barcelona"
   ]
  },
  {
   "cell_type": "code",
   "execution_count": 26,
   "id": "86c50312",
   "metadata": {},
   "outputs": [],
   "source": [
    "city_place = \"starbucks\""
   ]
  },
  {
   "cell_type": "code",
   "execution_count": 27,
   "id": "570a3ee4",
   "metadata": {},
   "outputs": [],
   "source": [
    "barcelona_starbucks_dict = af.find_places(\"starbucks\", barcelona)"
   ]
  },
  {
   "cell_type": "code",
   "execution_count": 28,
   "id": "539d0826",
   "metadata": {},
   "outputs": [
    {
     "data": {
      "text/html": [
       "<div>\n",
       "<style scoped>\n",
       "    .dataframe tbody tr th:only-of-type {\n",
       "        vertical-align: middle;\n",
       "    }\n",
       "\n",
       "    .dataframe tbody tr th {\n",
       "        vertical-align: top;\n",
       "    }\n",
       "\n",
       "    .dataframe thead th {\n",
       "        text-align: right;\n",
       "    }\n",
       "</style>\n",
       "<table border=\"1\" class=\"dataframe\">\n",
       "  <thead>\n",
       "    <tr style=\"text-align: right;\">\n",
       "      <th></th>\n",
       "      <th>nombre</th>\n",
       "      <th>latitud</th>\n",
       "      <th>longitud</th>\n",
       "      <th>location</th>\n",
       "    </tr>\n",
       "  </thead>\n",
       "  <tbody>\n",
       "    <tr>\n",
       "      <th>0</th>\n",
       "      <td>Starbucks Rambla Cataluña</td>\n",
       "      <td>41.387954</td>\n",
       "      <td>2.167901</td>\n",
       "      <td>{'type': 'Point', 'coordinates': [41.387953542...</td>\n",
       "    </tr>\n",
       "    <tr>\n",
       "      <th>1</th>\n",
       "      <td>Starbucks Pelai</td>\n",
       "      <td>41.385805</td>\n",
       "      <td>2.167858</td>\n",
       "      <td>{'type': 'Point', 'coordinates': [41.385804589...</td>\n",
       "    </tr>\n",
       "    <tr>\n",
       "      <th>2</th>\n",
       "      <td>Starbucks Rambla Canaletas</td>\n",
       "      <td>41.383485</td>\n",
       "      <td>2.171382</td>\n",
       "      <td>{'type': 'Point', 'coordinates': [41.383485318...</td>\n",
       "    </tr>\n",
       "    <tr>\n",
       "      <th>3</th>\n",
       "      <td>Starbucks Plaza Universitat</td>\n",
       "      <td>41.386418</td>\n",
       "      <td>2.165150</td>\n",
       "      <td>{'type': 'Point', 'coordinates': [41.386417656...</td>\n",
       "    </tr>\n",
       "    <tr>\n",
       "      <th>4</th>\n",
       "      <td>Starbucks Sant Pere</td>\n",
       "      <td>41.388783</td>\n",
       "      <td>2.172063</td>\n",
       "      <td>{'type': 'Point', 'coordinates': [41.388782617...</td>\n",
       "    </tr>\n",
       "  </tbody>\n",
       "</table>\n",
       "</div>"
      ],
      "text/plain": [
       "                        nombre    latitud  longitud  \\\n",
       "0    Starbucks Rambla Cataluña  41.387954  2.167901   \n",
       "1              Starbucks Pelai  41.385805  2.167858   \n",
       "2   Starbucks Rambla Canaletas  41.383485  2.171382   \n",
       "3  Starbucks Plaza Universitat  41.386418  2.165150   \n",
       "4          Starbucks Sant Pere  41.388783  2.172063   \n",
       "\n",
       "                                            location  \n",
       "0  {'type': 'Point', 'coordinates': [41.387953542...  \n",
       "1  {'type': 'Point', 'coordinates': [41.385804589...  \n",
       "2  {'type': 'Point', 'coordinates': [41.383485318...  \n",
       "3  {'type': 'Point', 'coordinates': [41.386417656...  \n",
       "4  {'type': 'Point', 'coordinates': [41.388782617...  "
      ]
     },
     "execution_count": 28,
     "metadata": {},
     "output_type": "execute_result"
    }
   ],
   "source": [
    "barcelona_starbucks_df = af.build_df(barcelona_starbucks_dict)\n",
    "barcelona_starbucks_df.head()"
   ]
  },
  {
   "cell_type": "code",
   "execution_count": 29,
   "id": "d7be5d3e",
   "metadata": {},
   "outputs": [],
   "source": [
    "#af.build_json(city_place, city_name, barcelona_starbucks_dict)"
   ]
  },
  {
   "cell_type": "markdown",
   "id": "11e452bb",
   "metadata": {},
   "source": [
    "## 2.2. Find vegan restaurants in Barcelona"
   ]
  },
  {
   "cell_type": "code",
   "execution_count": 30,
   "id": "50513dd5",
   "metadata": {},
   "outputs": [],
   "source": [
    "city_place = \"vegan\""
   ]
  },
  {
   "cell_type": "code",
   "execution_count": 31,
   "id": "76d9bb1a",
   "metadata": {},
   "outputs": [],
   "source": [
    "barcelona_vegans_dict = af.find_places(\"vegan\", barcelona)"
   ]
  },
  {
   "cell_type": "code",
   "execution_count": 32,
   "id": "9cb17320",
   "metadata": {},
   "outputs": [
    {
     "data": {
      "text/html": [
       "<div>\n",
       "<style scoped>\n",
       "    .dataframe tbody tr th:only-of-type {\n",
       "        vertical-align: middle;\n",
       "    }\n",
       "\n",
       "    .dataframe tbody tr th {\n",
       "        vertical-align: top;\n",
       "    }\n",
       "\n",
       "    .dataframe thead th {\n",
       "        text-align: right;\n",
       "    }\n",
       "</style>\n",
       "<table border=\"1\" class=\"dataframe\">\n",
       "  <thead>\n",
       "    <tr style=\"text-align: right;\">\n",
       "      <th></th>\n",
       "      <th>nombre</th>\n",
       "      <th>latitud</th>\n",
       "      <th>longitud</th>\n",
       "      <th>location</th>\n",
       "    </tr>\n",
       "  </thead>\n",
       "  <tbody>\n",
       "    <tr>\n",
       "      <th>0</th>\n",
       "      <td>Vegan Junk Food Bar</td>\n",
       "      <td>41.383386</td>\n",
       "      <td>2.180255</td>\n",
       "      <td>{'type': 'Point', 'coordinates': [41.383385646...</td>\n",
       "    </tr>\n",
       "    <tr>\n",
       "      <th>1</th>\n",
       "      <td>All Vegan</td>\n",
       "      <td>41.382820</td>\n",
       "      <td>2.169548</td>\n",
       "      <td>{'type': 'Point', 'coordinates': [41.38282, 2....</td>\n",
       "    </tr>\n",
       "    <tr>\n",
       "      <th>2</th>\n",
       "      <td>Cuco Vegan Fashion</td>\n",
       "      <td>41.382320</td>\n",
       "      <td>2.173978</td>\n",
       "      <td>{'type': 'Point', 'coordinates': [41.38232, 2....</td>\n",
       "    </tr>\n",
       "    <tr>\n",
       "      <th>3</th>\n",
       "      <td>ENJOY VEGAN</td>\n",
       "      <td>41.388152</td>\n",
       "      <td>2.180673</td>\n",
       "      <td>{'type': 'Point', 'coordinates': [41.3881518, ...</td>\n",
       "    </tr>\n",
       "    <tr>\n",
       "      <th>4</th>\n",
       "      <td>Monchito Vegan</td>\n",
       "      <td>41.380971</td>\n",
       "      <td>2.179880</td>\n",
       "      <td>{'type': 'Point', 'coordinates': [41.380970639...</td>\n",
       "    </tr>\n",
       "  </tbody>\n",
       "</table>\n",
       "</div>"
      ],
      "text/plain": [
       "                nombre    latitud  longitud  \\\n",
       "0  Vegan Junk Food Bar  41.383386  2.180255   \n",
       "1            All Vegan  41.382820  2.169548   \n",
       "2   Cuco Vegan Fashion  41.382320  2.173978   \n",
       "3          ENJOY VEGAN  41.388152  2.180673   \n",
       "4       Monchito Vegan  41.380971  2.179880   \n",
       "\n",
       "                                            location  \n",
       "0  {'type': 'Point', 'coordinates': [41.383385646...  \n",
       "1  {'type': 'Point', 'coordinates': [41.38282, 2....  \n",
       "2  {'type': 'Point', 'coordinates': [41.38232, 2....  \n",
       "3  {'type': 'Point', 'coordinates': [41.3881518, ...  \n",
       "4  {'type': 'Point', 'coordinates': [41.380970639...  "
      ]
     },
     "execution_count": 32,
     "metadata": {},
     "output_type": "execute_result"
    }
   ],
   "source": [
    "barcelona_vegans_df = af.build_df(barcelona_vegans_dict)\n",
    "barcelona_vegans_df.head()"
   ]
  },
  {
   "cell_type": "code",
   "execution_count": 33,
   "id": "254df636",
   "metadata": {},
   "outputs": [
    {
     "data": {
      "text/plain": [
       "array(['Vegan Junk Food Bar', 'All Vegan', 'Cuco Vegan Fashion',\n",
       "       'ENJOY VEGAN', 'Monchito Vegan', 'Nae Vegan Shoes',\n",
       "       'Vegan Food Heaven', 'Good Shit, Vegan Kebabs', 'Súper Vegan',\n",
       "       'Vegan Streets Barcelona Glories', 'Veganoteca', 'Tulsi Vegana',\n",
       "       'vegania', 'EnjoyVegan', 'Tamaka Barcelona Eixample',\n",
       "       'Toni Rodríguez Vegan Gastro Academy', 'Veganashi',\n",
       "       'Falafel Vegano - de Shani', 'Fira Vegana Pou De La Figuera',\n",
       "       'Fira vegana', 'Dolce Pizza & Los Veganos',\n",
       "       'Vēgere - Bellesa Vegana', 'Lujuria Vegana', 'vegan shop',\n",
       "       'Pascuala Vegan', 'Veganizzimo',\n",
       "       '2Y Restaurante Vegano y macrobiotico',\n",
       "       '2Y Cuina Vegana, Energética y Macrobiòtica'], dtype=object)"
      ]
     },
     "execution_count": 33,
     "metadata": {},
     "output_type": "execute_result"
    }
   ],
   "source": [
    "barcelona_vegans_df.nombre.unique()"
   ]
  },
  {
   "cell_type": "code",
   "execution_count": 34,
   "id": "b91981bf",
   "metadata": {},
   "outputs": [],
   "source": [
    "#af.build_json(city_place, city_name, barcelona_vegans_dict)"
   ]
  },
  {
   "cell_type": "markdown",
   "id": "f80900c2",
   "metadata": {},
   "source": [
    "## 2.3. Find train stations in Barcelona"
   ]
  },
  {
   "cell_type": "code",
   "execution_count": 35,
   "id": "f0a1f61b",
   "metadata": {},
   "outputs": [],
   "source": [
    "city_place = \"stations\""
   ]
  },
  {
   "cell_type": "code",
   "execution_count": 36,
   "id": "84f6e74d",
   "metadata": {},
   "outputs": [],
   "source": [
    "barcelona_stations_dict = af.find_places(\"renfe\", barcelona)"
   ]
  },
  {
   "cell_type": "code",
   "execution_count": 37,
   "id": "9925dbc0",
   "metadata": {},
   "outputs": [
    {
     "data": {
      "text/html": [
       "<div>\n",
       "<style scoped>\n",
       "    .dataframe tbody tr th:only-of-type {\n",
       "        vertical-align: middle;\n",
       "    }\n",
       "\n",
       "    .dataframe tbody tr th {\n",
       "        vertical-align: top;\n",
       "    }\n",
       "\n",
       "    .dataframe thead th {\n",
       "        text-align: right;\n",
       "    }\n",
       "</style>\n",
       "<table border=\"1\" class=\"dataframe\">\n",
       "  <thead>\n",
       "    <tr style=\"text-align: right;\">\n",
       "      <th></th>\n",
       "      <th>nombre</th>\n",
       "      <th>latitud</th>\n",
       "      <th>longitud</th>\n",
       "      <th>location</th>\n",
       "    </tr>\n",
       "  </thead>\n",
       "  <tbody>\n",
       "    <tr>\n",
       "      <th>0</th>\n",
       "      <td>RENFE Plaça de Catalunya</td>\n",
       "      <td>41.387465</td>\n",
       "      <td>2.168987</td>\n",
       "      <td>{'type': 'Point', 'coordinates': [41.387464725...</td>\n",
       "    </tr>\n",
       "    <tr>\n",
       "      <th>1</th>\n",
       "      <td>RENFE Passeig de Gràcia (Estación RENFE Passei...</td>\n",
       "      <td>41.392671</td>\n",
       "      <td>2.165654</td>\n",
       "      <td>{'type': 'Point', 'coordinates': [41.392671009...</td>\n",
       "    </tr>\n",
       "    <tr>\n",
       "      <th>2</th>\n",
       "      <td>RENFE Arc de Triomf</td>\n",
       "      <td>41.393026</td>\n",
       "      <td>2.181853</td>\n",
       "      <td>{'type': 'Point', 'coordinates': [41.393026487...</td>\n",
       "    </tr>\n",
       "    <tr>\n",
       "      <th>3</th>\n",
       "      <td>Cafè RENFE</td>\n",
       "      <td>41.388991</td>\n",
       "      <td>2.167678</td>\n",
       "      <td>{'type': 'Point', 'coordinates': [41.388991383...</td>\n",
       "    </tr>\n",
       "    <tr>\n",
       "      <th>4</th>\n",
       "      <td>RENFE Barcelona Sants - anden 5</td>\n",
       "      <td>41.387713</td>\n",
       "      <td>2.169367</td>\n",
       "      <td>{'type': 'Point', 'coordinates': [41.387712661...</td>\n",
       "    </tr>\n",
       "  </tbody>\n",
       "</table>\n",
       "</div>"
      ],
      "text/plain": [
       "                                              nombre    latitud  longitud  \\\n",
       "0                           RENFE Plaça de Catalunya  41.387465  2.168987   \n",
       "1  RENFE Passeig de Gràcia (Estación RENFE Passei...  41.392671  2.165654   \n",
       "2                                RENFE Arc de Triomf  41.393026  2.181853   \n",
       "3                                         Cafè RENFE  41.388991  2.167678   \n",
       "4                    RENFE Barcelona Sants - anden 5  41.387713  2.169367   \n",
       "\n",
       "                                            location  \n",
       "0  {'type': 'Point', 'coordinates': [41.387464725...  \n",
       "1  {'type': 'Point', 'coordinates': [41.392671009...  \n",
       "2  {'type': 'Point', 'coordinates': [41.393026487...  \n",
       "3  {'type': 'Point', 'coordinates': [41.388991383...  \n",
       "4  {'type': 'Point', 'coordinates': [41.387712661...  "
      ]
     },
     "execution_count": 37,
     "metadata": {},
     "output_type": "execute_result"
    }
   ],
   "source": [
    "barcelona_stations_df = af.build_df(barcelona_stations_dict)\n",
    "barcelona_stations_df.head()"
   ]
  },
  {
   "cell_type": "code",
   "execution_count": 38,
   "id": "d3801c90",
   "metadata": {},
   "outputs": [],
   "source": [
    "af.build_json(city_place, city_name, barcelona_stations_dict)"
   ]
  },
  {
   "cell_type": "markdown",
   "id": "9b153abb",
   "metadata": {},
   "source": [
    "## 2.4. Find schools in Barcelona"
   ]
  },
  {
   "cell_type": "markdown",
   "id": "c68fed89",
   "metadata": {},
   "source": [
    "city_place = \"schools\""
   ]
  },
  {
   "cell_type": "markdown",
   "id": "eaffe646",
   "metadata": {},
   "source": [
    "barcelona_schools_dict = af.find_places(\"collegi\", barcelona)"
   ]
  },
  {
   "cell_type": "markdown",
   "id": "13fa62ec",
   "metadata": {},
   "source": [
    "barcelona_schools_df = af.build_df(barcelona_schools_dict)\n",
    "barcelona_schools_df.head()"
   ]
  },
  {
   "cell_type": "markdown",
   "id": "b4bfc94f",
   "metadata": {},
   "source": [
    "af.build_json(city_place, city_name, barcelona_schools_dict)"
   ]
  },
  {
   "cell_type": "markdown",
   "id": "0955e7aa",
   "metadata": {},
   "source": [
    "## 2.5. Find nurseries in Barcelona"
   ]
  },
  {
   "cell_type": "markdown",
   "id": "52af5b34",
   "metadata": {},
   "source": [
    "city_place = \"nurseries\""
   ]
  },
  {
   "cell_type": "markdown",
   "id": "318648f5",
   "metadata": {},
   "source": [
    "barcelona_nurseries_dict = af.find_places(\"infantil\", barcelona)"
   ]
  },
  {
   "cell_type": "markdown",
   "id": "7b333dc6",
   "metadata": {},
   "source": [
    "barcelona_nurseries_df = af.build_df(barcelona_nurseries_dict)\n",
    "barcelona_nurseries_df"
   ]
  },
  {
   "cell_type": "markdown",
   "id": "c6d15d2f",
   "metadata": {},
   "source": [
    "barcelona_nurseries_df.nombre.unique()"
   ]
  },
  {
   "cell_type": "markdown",
   "id": "b874b35d",
   "metadata": {},
   "source": [
    "af.build_json(city_place, city_name, barcelona_nurseries_dict)"
   ]
  },
  {
   "cell_type": "markdown",
   "id": "b1a627bf",
   "metadata": {},
   "source": [
    "## 2.5. Find pets hairdresser in Barcelona"
   ]
  },
  {
   "cell_type": "code",
   "execution_count": 39,
   "id": "0c2d45ce",
   "metadata": {},
   "outputs": [],
   "source": [
    "city_place = \"pets\""
   ]
  },
  {
   "cell_type": "code",
   "execution_count": 40,
   "id": "355443fc",
   "metadata": {},
   "outputs": [],
   "source": [
    "barcelona_pets_dict = af.find_places(\"peluqueria canina\", barcelona)"
   ]
  },
  {
   "cell_type": "code",
   "execution_count": 41,
   "id": "b841b9aa",
   "metadata": {},
   "outputs": [
    {
     "data": {
      "text/html": [
       "<div>\n",
       "<style scoped>\n",
       "    .dataframe tbody tr th:only-of-type {\n",
       "        vertical-align: middle;\n",
       "    }\n",
       "\n",
       "    .dataframe tbody tr th {\n",
       "        vertical-align: top;\n",
       "    }\n",
       "\n",
       "    .dataframe thead th {\n",
       "        text-align: right;\n",
       "    }\n",
       "</style>\n",
       "<table border=\"1\" class=\"dataframe\">\n",
       "  <thead>\n",
       "    <tr style=\"text-align: right;\">\n",
       "      <th></th>\n",
       "      <th>nombre</th>\n",
       "      <th>latitud</th>\n",
       "      <th>longitud</th>\n",
       "      <th>location</th>\n",
       "    </tr>\n",
       "  </thead>\n",
       "  <tbody>\n",
       "    <tr>\n",
       "      <th>0</th>\n",
       "      <td>CHIC! Peluquería canina y felina</td>\n",
       "      <td>41.401375</td>\n",
       "      <td>2.167804</td>\n",
       "      <td>{'type': 'Point', 'coordinates': [41.401374630...</td>\n",
       "    </tr>\n",
       "    <tr>\n",
       "      <th>1</th>\n",
       "      <td>Peluqueria Canina</td>\n",
       "      <td>41.404239</td>\n",
       "      <td>2.147919</td>\n",
       "      <td>{'type': 'Point', 'coordinates': [41.404239391...</td>\n",
       "    </tr>\n",
       "    <tr>\n",
       "      <th>2</th>\n",
       "      <td>Peluqueria Canina Marc Oliva</td>\n",
       "      <td>41.395544</td>\n",
       "      <td>2.142846</td>\n",
       "      <td>{'type': 'Point', 'coordinates': [41.395544, 2...</td>\n",
       "    </tr>\n",
       "    <tr>\n",
       "      <th>3</th>\n",
       "      <td>Peluquería Canina Mascotes Alella</td>\n",
       "      <td>41.469803</td>\n",
       "      <td>2.277983</td>\n",
       "      <td>{'type': 'Point', 'coordinates': [41.4698031, ...</td>\n",
       "    </tr>\n",
       "    <tr>\n",
       "      <th>4</th>\n",
       "      <td>Stylcan Peluqueria Canina</td>\n",
       "      <td>41.395289</td>\n",
       "      <td>2.140591</td>\n",
       "      <td>{'type': 'Point', 'coordinates': [41.395289248...</td>\n",
       "    </tr>\n",
       "  </tbody>\n",
       "</table>\n",
       "</div>"
      ],
      "text/plain": [
       "                              nombre    latitud  longitud  \\\n",
       "0   CHIC! Peluquería canina y felina  41.401375  2.167804   \n",
       "1                  Peluqueria Canina  41.404239  2.147919   \n",
       "2       Peluqueria Canina Marc Oliva  41.395544  2.142846   \n",
       "3  Peluquería Canina Mascotes Alella  41.469803  2.277983   \n",
       "4          Stylcan Peluqueria Canina  41.395289  2.140591   \n",
       "\n",
       "                                            location  \n",
       "0  {'type': 'Point', 'coordinates': [41.401374630...  \n",
       "1  {'type': 'Point', 'coordinates': [41.404239391...  \n",
       "2  {'type': 'Point', 'coordinates': [41.395544, 2...  \n",
       "3  {'type': 'Point', 'coordinates': [41.4698031, ...  \n",
       "4  {'type': 'Point', 'coordinates': [41.395289248...  "
      ]
     },
     "execution_count": 41,
     "metadata": {},
     "output_type": "execute_result"
    }
   ],
   "source": [
    "barcelona_pets_df = af.build_df(barcelona_pets_dict)\n",
    "barcelona_pets_df.head()"
   ]
  },
  {
   "cell_type": "code",
   "execution_count": 42,
   "id": "c6e1beb0",
   "metadata": {},
   "outputs": [],
   "source": [
    "af.build_json(city_place, city_name, barcelona_pets_dict)"
   ]
  },
  {
   "cell_type": "markdown",
   "id": "af5b6ea4",
   "metadata": {},
   "source": [
    "## 2.6. Find bascketball courts in Barcelona"
   ]
  },
  {
   "cell_type": "markdown",
   "id": "b7a6e415",
   "metadata": {},
   "source": [
    "city_place = \"bascket\""
   ]
  },
  {
   "cell_type": "markdown",
   "id": "dd7def35",
   "metadata": {},
   "source": [
    "barcelona_bascket_dict = af.find_places(\"baloncesto\", barcelona)"
   ]
  },
  {
   "cell_type": "markdown",
   "id": "7a08d439",
   "metadata": {},
   "source": [
    "barcelona_bascket_df = af.build_df(barcelona_bascket_dict)\n",
    "barcelona_bascket_df.head()"
   ]
  },
  {
   "cell_type": "markdown",
   "id": "04b39124",
   "metadata": {},
   "source": [
    "af.build_json(city_place, city_name, barcelona_vets_dict)"
   ]
  },
  {
   "cell_type": "markdown",
   "id": "4ea93aae",
   "metadata": {},
   "source": [
    "## Option 3 : Sevilla"
   ]
  },
  {
   "cell_type": "code",
   "execution_count": 43,
   "id": "51b02b4f",
   "metadata": {},
   "outputs": [
    {
     "data": {
      "text/plain": [
       "{'type': 'Point', 'coordinates': ['37.38285', '-5.99288']}"
      ]
     },
     "execution_count": 43,
     "metadata": {},
     "output_type": "execute_result"
    }
   ],
   "source": [
    "#We define \"name\", \"address\" and \"place\" for the Seville location.\n",
    "city_name = \"sevilla\"\n",
    "city_address = \"puerta de jerez\"\n",
    "\n",
    "\n",
    "#We use format to parameterize the string that will receive geocode and be able to use it for each of the locations.\n",
    "geocode_address = f'{city_address}, {city_name}' \n",
    "\n",
    "#We search the coordinates for the location of Madrid using the function geocode.\n",
    "sevilla = af.geocode(geocode_address)\n",
    "sevilla"
   ]
  },
  {
   "cell_type": "markdown",
   "id": "4e8030e9",
   "metadata": {},
   "source": [
    "## 2.1. Find starbucks in Sevilla"
   ]
  },
  {
   "cell_type": "code",
   "execution_count": 44,
   "id": "09953a2f",
   "metadata": {},
   "outputs": [],
   "source": [
    "city_place = \"starbucks\""
   ]
  },
  {
   "cell_type": "code",
   "execution_count": 45,
   "id": "03f07c5b",
   "metadata": {},
   "outputs": [],
   "source": [
    "sevilla_starbucks_dict = af.find_places(\"starbucks\", sevilla)"
   ]
  },
  {
   "cell_type": "code",
   "execution_count": 46,
   "id": "7570a1c2",
   "metadata": {},
   "outputs": [
    {
     "data": {
      "text/html": [
       "<div>\n",
       "<style scoped>\n",
       "    .dataframe tbody tr th:only-of-type {\n",
       "        vertical-align: middle;\n",
       "    }\n",
       "\n",
       "    .dataframe tbody tr th {\n",
       "        vertical-align: top;\n",
       "    }\n",
       "\n",
       "    .dataframe thead th {\n",
       "        text-align: right;\n",
       "    }\n",
       "</style>\n",
       "<table border=\"1\" class=\"dataframe\">\n",
       "  <thead>\n",
       "    <tr style=\"text-align: right;\">\n",
       "      <th></th>\n",
       "      <th>nombre</th>\n",
       "      <th>latitud</th>\n",
       "      <th>longitud</th>\n",
       "      <th>location</th>\n",
       "    </tr>\n",
       "  </thead>\n",
       "  <tbody>\n",
       "    <tr>\n",
       "      <th>0</th>\n",
       "      <td>Starbucks Avda Constitución 36 (Starbucks)</td>\n",
       "      <td>37.384195</td>\n",
       "      <td>-5.993863</td>\n",
       "      <td>{'type': 'Point', 'coordinates': [37.384194813...</td>\n",
       "    </tr>\n",
       "    <tr>\n",
       "      <th>1</th>\n",
       "      <td>Starbucks Puerta Jerez</td>\n",
       "      <td>37.382454</td>\n",
       "      <td>-5.992991</td>\n",
       "      <td>{'type': 'Point', 'coordinates': [37.382453574...</td>\n",
       "    </tr>\n",
       "    <tr>\n",
       "      <th>2</th>\n",
       "      <td>Starbucks Avda Constitución 11</td>\n",
       "      <td>37.386710</td>\n",
       "      <td>-5.993957</td>\n",
       "      <td>{'type': 'Point', 'coordinates': [37.386709629...</td>\n",
       "    </tr>\n",
       "    <tr>\n",
       "      <th>3</th>\n",
       "      <td>Starbucks Torre Sevilla</td>\n",
       "      <td>37.393171</td>\n",
       "      <td>-6.009272</td>\n",
       "      <td>{'type': 'Point', 'coordinates': [37.393171, -...</td>\n",
       "    </tr>\n",
       "    <tr>\n",
       "      <th>4</th>\n",
       "      <td>Starbucks On The Go</td>\n",
       "      <td>37.376749</td>\n",
       "      <td>-5.974370</td>\n",
       "      <td>{'type': 'Point', 'coordinates': [37.37674909,...</td>\n",
       "    </tr>\n",
       "  </tbody>\n",
       "</table>\n",
       "</div>"
      ],
      "text/plain": [
       "                                       nombre    latitud  longitud  \\\n",
       "0  Starbucks Avda Constitución 36 (Starbucks)  37.384195 -5.993863   \n",
       "1                      Starbucks Puerta Jerez  37.382454 -5.992991   \n",
       "2              Starbucks Avda Constitución 11  37.386710 -5.993957   \n",
       "3                     Starbucks Torre Sevilla  37.393171 -6.009272   \n",
       "4                         Starbucks On The Go  37.376749 -5.974370   \n",
       "\n",
       "                                            location  \n",
       "0  {'type': 'Point', 'coordinates': [37.384194813...  \n",
       "1  {'type': 'Point', 'coordinates': [37.382453574...  \n",
       "2  {'type': 'Point', 'coordinates': [37.386709629...  \n",
       "3  {'type': 'Point', 'coordinates': [37.393171, -...  \n",
       "4  {'type': 'Point', 'coordinates': [37.37674909,...  "
      ]
     },
     "execution_count": 46,
     "metadata": {},
     "output_type": "execute_result"
    }
   ],
   "source": [
    "sevilla_starbucks_df = af.build_df(sevilla_starbucks_dict)\n",
    "sevilla_starbucks_df.head()"
   ]
  },
  {
   "cell_type": "code",
   "execution_count": 47,
   "id": "a6036006",
   "metadata": {},
   "outputs": [
    {
     "data": {
      "text/plain": [
       "array(['Starbucks Avda Constitución 36 (Starbucks)',\n",
       "       'Starbucks Puerta Jerez', 'Starbucks Avda Constitución 11',\n",
       "       'Starbucks Torre Sevilla', 'Starbucks On The Go', 'Starbucks'],\n",
       "      dtype=object)"
      ]
     },
     "execution_count": 47,
     "metadata": {},
     "output_type": "execute_result"
    }
   ],
   "source": [
    "sevilla_starbucks_df.nombre.unique()"
   ]
  },
  {
   "cell_type": "code",
   "execution_count": 48,
   "id": "3eaa8610",
   "metadata": {},
   "outputs": [],
   "source": [
    "#af.build_json(city_place, city_name, sevilla_starbucks_dict)"
   ]
  },
  {
   "cell_type": "markdown",
   "id": "6fc6f2d9",
   "metadata": {},
   "source": [
    "## 2.2. Find vegan restaurants in Sevilla"
   ]
  },
  {
   "cell_type": "code",
   "execution_count": 49,
   "id": "2f257fc1",
   "metadata": {},
   "outputs": [],
   "source": [
    "city_place = \"vegan\""
   ]
  },
  {
   "cell_type": "code",
   "execution_count": 50,
   "id": "aa8d51ec",
   "metadata": {},
   "outputs": [],
   "source": [
    "sevilla_vegans_dict = af.find_places(\"vegetariano\", sevilla)"
   ]
  },
  {
   "cell_type": "code",
   "execution_count": 51,
   "id": "69ae8bba",
   "metadata": {},
   "outputs": [
    {
     "data": {
      "text/html": [
       "<div>\n",
       "<style scoped>\n",
       "    .dataframe tbody tr th:only-of-type {\n",
       "        vertical-align: middle;\n",
       "    }\n",
       "\n",
       "    .dataframe tbody tr th {\n",
       "        vertical-align: top;\n",
       "    }\n",
       "\n",
       "    .dataframe thead th {\n",
       "        text-align: right;\n",
       "    }\n",
       "</style>\n",
       "<table border=\"1\" class=\"dataframe\">\n",
       "  <thead>\n",
       "    <tr style=\"text-align: right;\">\n",
       "      <th></th>\n",
       "      <th>nombre</th>\n",
       "      <th>latitud</th>\n",
       "      <th>longitud</th>\n",
       "      <th>location</th>\n",
       "    </tr>\n",
       "  </thead>\n",
       "  <tbody>\n",
       "    <tr>\n",
       "      <th>0</th>\n",
       "      <td>Restaurante Vegetariano Almanara</td>\n",
       "      <td>37.397958</td>\n",
       "      <td>-5.993550</td>\n",
       "      <td>{'type': 'Point', 'coordinates': [37.397958, -...</td>\n",
       "    </tr>\n",
       "    <tr>\n",
       "      <th>1</th>\n",
       "      <td>Vegetariano Verdys</td>\n",
       "      <td>37.364762</td>\n",
       "      <td>-6.077453</td>\n",
       "      <td>{'type': 'Point', 'coordinates': [37.364761889...</td>\n",
       "    </tr>\n",
       "    <tr>\n",
       "      <th>2</th>\n",
       "      <td>Vegetariano Feuille</td>\n",
       "      <td>37.539765</td>\n",
       "      <td>-5.882847</td>\n",
       "      <td>{'type': 'Point', 'coordinates': [37.539765289...</td>\n",
       "    </tr>\n",
       "  </tbody>\n",
       "</table>\n",
       "</div>"
      ],
      "text/plain": [
       "                             nombre    latitud  longitud  \\\n",
       "0  Restaurante Vegetariano Almanara  37.397958 -5.993550   \n",
       "1                Vegetariano Verdys  37.364762 -6.077453   \n",
       "2               Vegetariano Feuille  37.539765 -5.882847   \n",
       "\n",
       "                                            location  \n",
       "0  {'type': 'Point', 'coordinates': [37.397958, -...  \n",
       "1  {'type': 'Point', 'coordinates': [37.364761889...  \n",
       "2  {'type': 'Point', 'coordinates': [37.539765289...  "
      ]
     },
     "execution_count": 51,
     "metadata": {},
     "output_type": "execute_result"
    }
   ],
   "source": [
    "sevilla_vegans_df = af.build_df(sevilla_vegans_dict)\n",
    "sevilla_vegans_df.head()"
   ]
  },
  {
   "cell_type": "code",
   "execution_count": 52,
   "id": "482c15f2",
   "metadata": {},
   "outputs": [],
   "source": [
    "#af.build_json(city_place, city_name, sevilla_vegans_dict)"
   ]
  },
  {
   "cell_type": "markdown",
   "id": "0095131f",
   "metadata": {},
   "source": [
    "## 2.3. Find train stations in Sevilla"
   ]
  },
  {
   "cell_type": "code",
   "execution_count": 53,
   "id": "509af958",
   "metadata": {},
   "outputs": [],
   "source": [
    "city_place = \"stations\""
   ]
  },
  {
   "cell_type": "code",
   "execution_count": 54,
   "id": "13df3434",
   "metadata": {},
   "outputs": [],
   "source": [
    "sevilla_stations_dict = af.find_places(\"estacion de tren\", sevilla)"
   ]
  },
  {
   "cell_type": "code",
   "execution_count": 55,
   "id": "04aa9a40",
   "metadata": {},
   "outputs": [
    {
     "data": {
      "text/html": [
       "<div>\n",
       "<style scoped>\n",
       "    .dataframe tbody tr th:only-of-type {\n",
       "        vertical-align: middle;\n",
       "    }\n",
       "\n",
       "    .dataframe tbody tr th {\n",
       "        vertical-align: top;\n",
       "    }\n",
       "\n",
       "    .dataframe thead th {\n",
       "        text-align: right;\n",
       "    }\n",
       "</style>\n",
       "<table border=\"1\" class=\"dataframe\">\n",
       "  <thead>\n",
       "    <tr style=\"text-align: right;\">\n",
       "      <th></th>\n",
       "      <th>nombre</th>\n",
       "      <th>latitud</th>\n",
       "      <th>longitud</th>\n",
       "      <th>location</th>\n",
       "    </tr>\n",
       "  </thead>\n",
       "  <tbody>\n",
       "    <tr>\n",
       "      <th>0</th>\n",
       "      <td>National Car Rental - Estación de tren de Sevi...</td>\n",
       "      <td>37.390825</td>\n",
       "      <td>-5.974632</td>\n",
       "      <td>{'type': 'Point', 'coordinates': [37.390825, -...</td>\n",
       "    </tr>\n",
       "    <tr>\n",
       "      <th>1</th>\n",
       "      <td>Alamo Rent A Car - Estación de Tren de Sevilla...</td>\n",
       "      <td>37.390866</td>\n",
       "      <td>-5.974639</td>\n",
       "      <td>{'type': 'Point', 'coordinates': [37.3908656, ...</td>\n",
       "    </tr>\n",
       "    <tr>\n",
       "      <th>2</th>\n",
       "      <td>Europcar Sevilla Estación De Tren</td>\n",
       "      <td>37.392044</td>\n",
       "      <td>-5.974795</td>\n",
       "      <td>{'type': 'Point', 'coordinates': [37.392044, -...</td>\n",
       "    </tr>\n",
       "    <tr>\n",
       "      <th>3</th>\n",
       "      <td>estacion de tren alcoi</td>\n",
       "      <td>37.370594</td>\n",
       "      <td>-6.027392</td>\n",
       "      <td>{'type': 'Point', 'coordinates': [37.370594024...</td>\n",
       "    </tr>\n",
       "    <tr>\n",
       "      <th>4</th>\n",
       "      <td>Estación de tren de Carrión de los Céspedes</td>\n",
       "      <td>37.359399</td>\n",
       "      <td>-6.335202</td>\n",
       "      <td>{'type': 'Point', 'coordinates': [37.359399340...</td>\n",
       "    </tr>\n",
       "  </tbody>\n",
       "</table>\n",
       "</div>"
      ],
      "text/plain": [
       "                                              nombre    latitud  longitud  \\\n",
       "0  National Car Rental - Estación de tren de Sevi...  37.390825 -5.974632   \n",
       "1  Alamo Rent A Car - Estación de Tren de Sevilla...  37.390866 -5.974639   \n",
       "2                  Europcar Sevilla Estación De Tren  37.392044 -5.974795   \n",
       "3                             estacion de tren alcoi  37.370594 -6.027392   \n",
       "4        Estación de tren de Carrión de los Céspedes  37.359399 -6.335202   \n",
       "\n",
       "                                            location  \n",
       "0  {'type': 'Point', 'coordinates': [37.390825, -...  \n",
       "1  {'type': 'Point', 'coordinates': [37.3908656, ...  \n",
       "2  {'type': 'Point', 'coordinates': [37.392044, -...  \n",
       "3  {'type': 'Point', 'coordinates': [37.370594024...  \n",
       "4  {'type': 'Point', 'coordinates': [37.359399340...  "
      ]
     },
     "execution_count": 55,
     "metadata": {},
     "output_type": "execute_result"
    }
   ],
   "source": [
    "sevilla_stations_df = af.build_df(sevilla_stations_dict)\n",
    "sevilla_stations_df.head()"
   ]
  },
  {
   "cell_type": "code",
   "execution_count": 56,
   "id": "221b7f08",
   "metadata": {},
   "outputs": [
    {
     "data": {
      "text/plain": [
       "array(['National Car Rental - Estación de tren de Sevilla Santa Justa',\n",
       "       'Alamo Rent A Car - Estación de Tren de Sevilla Santa Justa',\n",
       "       'Europcar Sevilla Estación De Tren', 'estacion de tren alcoi',\n",
       "       'Estación de tren de Carrión de los Céspedes',\n",
       "       'Estación de San Bernardo', 'Estación de tren Guadajoz',\n",
       "       'Estación de Sevilla-Santa Justa',\n",
       "       'Estación de Autobuses Plaza de Armas',\n",
       "       'Estación De Servicio El Ancla', 'Estación de Servicio Repsol',\n",
       "       'Estación de Sevilla-Santa Justa Adif',\n",
       "       'Estación del Prado de San Sebastián',\n",
       "       'Estación de servicio Cepsa', 'Estación Virgen del Rocío',\n",
       "       'La Estación de Córdoba'], dtype=object)"
      ]
     },
     "execution_count": 56,
     "metadata": {},
     "output_type": "execute_result"
    }
   ],
   "source": [
    "sevilla_stations_df.nombre.unique()"
   ]
  },
  {
   "cell_type": "code",
   "execution_count": 57,
   "id": "ebb5e8d4",
   "metadata": {},
   "outputs": [],
   "source": [
    "#af.build_json(city_place, city_name, sevilla_stations_dict)"
   ]
  },
  {
   "cell_type": "markdown",
   "id": "632c2b82",
   "metadata": {},
   "source": [
    "## 2.4. Find schools in Sevilla"
   ]
  },
  {
   "cell_type": "code",
   "execution_count": 58,
   "id": "db840fbe",
   "metadata": {},
   "outputs": [],
   "source": [
    "city_place = \"schools\""
   ]
  },
  {
   "cell_type": "code",
   "execution_count": 59,
   "id": "ba4260a3",
   "metadata": {},
   "outputs": [],
   "source": [
    "sevilla_schools_dict = af.find_places(\"colegio\", sevilla)"
   ]
  },
  {
   "cell_type": "code",
   "execution_count": 60,
   "id": "bb06f42f",
   "metadata": {},
   "outputs": [
    {
     "data": {
      "text/html": [
       "<div>\n",
       "<style scoped>\n",
       "    .dataframe tbody tr th:only-of-type {\n",
       "        vertical-align: middle;\n",
       "    }\n",
       "\n",
       "    .dataframe tbody tr th {\n",
       "        vertical-align: top;\n",
       "    }\n",
       "\n",
       "    .dataframe thead th {\n",
       "        text-align: right;\n",
       "    }\n",
       "</style>\n",
       "<table border=\"1\" class=\"dataframe\">\n",
       "  <thead>\n",
       "    <tr style=\"text-align: right;\">\n",
       "      <th></th>\n",
       "      <th>nombre</th>\n",
       "      <th>latitud</th>\n",
       "      <th>longitud</th>\n",
       "      <th>location</th>\n",
       "    </tr>\n",
       "  </thead>\n",
       "  <tbody>\n",
       "    <tr>\n",
       "      <th>0</th>\n",
       "      <td>Colegio Oficial De Químicos</td>\n",
       "      <td>37.371550</td>\n",
       "      <td>-5.996380</td>\n",
       "      <td>{'type': 'Point', 'coordinates': [37.37155, -5...</td>\n",
       "    </tr>\n",
       "    <tr>\n",
       "      <th>1</th>\n",
       "      <td>Colegio Sagrado Corazón (Esclavas)</td>\n",
       "      <td>37.394194</td>\n",
       "      <td>-5.997886</td>\n",
       "      <td>{'type': 'Point', 'coordinates': [37.394193903...</td>\n",
       "    </tr>\n",
       "    <tr>\n",
       "      <th>2</th>\n",
       "      <td>Caja Ingenieros Colegio de Peritos</td>\n",
       "      <td>37.392399</td>\n",
       "      <td>-5.999502</td>\n",
       "      <td>{'type': 'Point', 'coordinates': [37.39239899,...</td>\n",
       "    </tr>\n",
       "    <tr>\n",
       "      <th>3</th>\n",
       "      <td>Real e Ilustre Colegio de Médicos de Sevilla</td>\n",
       "      <td>37.373233</td>\n",
       "      <td>-5.985126</td>\n",
       "      <td>{'type': 'Point', 'coordinates': [37.373233210...</td>\n",
       "    </tr>\n",
       "    <tr>\n",
       "      <th>4</th>\n",
       "      <td>Colegio Mayor Universitario \"San Juan Bosco\"</td>\n",
       "      <td>37.395391</td>\n",
       "      <td>-5.981154</td>\n",
       "      <td>{'type': 'Point', 'coordinates': [37.395391488...</td>\n",
       "    </tr>\n",
       "  </tbody>\n",
       "</table>\n",
       "</div>"
      ],
      "text/plain": [
       "                                         nombre    latitud  longitud  \\\n",
       "0                   Colegio Oficial De Químicos  37.371550 -5.996380   \n",
       "1            Colegio Sagrado Corazón (Esclavas)  37.394194 -5.997886   \n",
       "2            Caja Ingenieros Colegio de Peritos  37.392399 -5.999502   \n",
       "3  Real e Ilustre Colegio de Médicos de Sevilla  37.373233 -5.985126   \n",
       "4  Colegio Mayor Universitario \"San Juan Bosco\"  37.395391 -5.981154   \n",
       "\n",
       "                                            location  \n",
       "0  {'type': 'Point', 'coordinates': [37.37155, -5...  \n",
       "1  {'type': 'Point', 'coordinates': [37.394193903...  \n",
       "2  {'type': 'Point', 'coordinates': [37.39239899,...  \n",
       "3  {'type': 'Point', 'coordinates': [37.373233210...  \n",
       "4  {'type': 'Point', 'coordinates': [37.395391488...  "
      ]
     },
     "execution_count": 60,
     "metadata": {},
     "output_type": "execute_result"
    }
   ],
   "source": [
    "sevilla_schools_df = af.build_df(sevilla_schools_dict)\n",
    "sevilla_schools_df.head()"
   ]
  },
  {
   "cell_type": "code",
   "execution_count": 61,
   "id": "6fd99fe3",
   "metadata": {},
   "outputs": [
    {
     "data": {
      "text/plain": [
       "array(['Colegio Oficial De Químicos',\n",
       "       'Colegio Sagrado Corazón (Esclavas)',\n",
       "       'Caja Ingenieros Colegio de Peritos',\n",
       "       'Real e Ilustre Colegio de Médicos de Sevilla',\n",
       "       'Colegio Mayor Universitario \"San Juan Bosco\"', 'Colegio ribamar',\n",
       "       'Colegio Nuestra Señora de la Esperanza',\n",
       "       'Colegio Abogados De Sevilla',\n",
       "       'Colegio de Administradores de Fincas de Sevilla',\n",
       "       'Colegio Marista \"San Fernando\",Sevilla',\n",
       "       'Colegio San Fernando (Maristas)', 'Colegio Notarial de Sevilla',\n",
       "       'Colegio Santa Ana', 'Colegio De Ingenieros Tecnicos',\n",
       "       'Colegio Oficial de Peritos e Ingenieros Tecnicos Industriales de Sevilla',\n",
       "       'Colegio Italica. Las Teresianas',\n",
       "       'Colegio Andaluz de Árbitros de Futbol', 'Colegio mayor La Luz',\n",
       "       'Colegio Oficial de Peritos e Ingenieros',\n",
       "       'Colegio Oficial Agentes Comerciales',\n",
       "       'Colegio Oficial De Ingenieros Industriales',\n",
       "       'Colegio Santo Tomás De Aquino', 'Colegio del Sagrado Corazón',\n",
       "       'Colegio San Francisco de Paula', 'Colegio Espiritu Santo',\n",
       "       'Colegio Profesional De Peiodistas De Andalucia',\n",
       "       'Colegio Joaquin Turina', 'Colegio San Agustin',\n",
       "       'Colegio Nuestra Señora del Rosario', 'Colegio Portaceli'],\n",
       "      dtype=object)"
      ]
     },
     "execution_count": 61,
     "metadata": {},
     "output_type": "execute_result"
    }
   ],
   "source": [
    "sevilla_schools_df.nombre.unique()"
   ]
  },
  {
   "cell_type": "code",
   "execution_count": 62,
   "id": "4f31c769",
   "metadata": {},
   "outputs": [],
   "source": [
    "#af.build_json(city_place, city_name, sevilla_schools_dict)"
   ]
  },
  {
   "cell_type": "markdown",
   "id": "6b175f71",
   "metadata": {},
   "source": [
    "## 2.5. Find nurseries in Sevilla"
   ]
  },
  {
   "cell_type": "code",
   "execution_count": 63,
   "id": "05af8be7",
   "metadata": {},
   "outputs": [],
   "source": [
    "city_place = \"nurseries\""
   ]
  },
  {
   "cell_type": "code",
   "execution_count": 64,
   "id": "50c3013a",
   "metadata": {},
   "outputs": [],
   "source": [
    "sevilla_nurseries_dict = af.find_places(\"escuela infantil\", sevilla)"
   ]
  },
  {
   "cell_type": "code",
   "execution_count": 65,
   "id": "fbb9f1bb",
   "metadata": {},
   "outputs": [
    {
     "data": {
      "text/html": [
       "<div>\n",
       "<style scoped>\n",
       "    .dataframe tbody tr th:only-of-type {\n",
       "        vertical-align: middle;\n",
       "    }\n",
       "\n",
       "    .dataframe tbody tr th {\n",
       "        vertical-align: top;\n",
       "    }\n",
       "\n",
       "    .dataframe thead th {\n",
       "        text-align: right;\n",
       "    }\n",
       "</style>\n",
       "<table border=\"1\" class=\"dataframe\">\n",
       "  <thead>\n",
       "    <tr style=\"text-align: right;\">\n",
       "      <th></th>\n",
       "      <th>nombre</th>\n",
       "      <th>latitud</th>\n",
       "      <th>longitud</th>\n",
       "      <th>location</th>\n",
       "    </tr>\n",
       "  </thead>\n",
       "  <tbody>\n",
       "    <tr>\n",
       "      <th>0</th>\n",
       "      <td>Escuela Infantil Los Angelitos</td>\n",
       "      <td>37.382118</td>\n",
       "      <td>-6.001691</td>\n",
       "      <td>{'type': 'Point', 'coordinates': [37.382117614...</td>\n",
       "    </tr>\n",
       "    <tr>\n",
       "      <th>1</th>\n",
       "      <td>Escuela Infantil Smile</td>\n",
       "      <td>37.389978</td>\n",
       "      <td>-5.983774</td>\n",
       "      <td>{'type': 'Point', 'coordinates': [37.3899783, ...</td>\n",
       "    </tr>\n",
       "    <tr>\n",
       "      <th>2</th>\n",
       "      <td>Escuela Infantil el Tobogán</td>\n",
       "      <td>37.375900</td>\n",
       "      <td>-5.998240</td>\n",
       "      <td>{'type': 'Point', 'coordinates': [37.3759, -5....</td>\n",
       "    </tr>\n",
       "    <tr>\n",
       "      <th>3</th>\n",
       "      <td>Escuela Infantil pequeños artistas</td>\n",
       "      <td>37.392754</td>\n",
       "      <td>-5.984199</td>\n",
       "      <td>{'type': 'Point', 'coordinates': [37.392754, -...</td>\n",
       "    </tr>\n",
       "    <tr>\n",
       "      <th>4</th>\n",
       "      <td>Escuela Infantil SolyLuna</td>\n",
       "      <td>37.388847</td>\n",
       "      <td>-5.967769</td>\n",
       "      <td>{'type': 'Point', 'coordinates': [37.388847, -...</td>\n",
       "    </tr>\n",
       "  </tbody>\n",
       "</table>\n",
       "</div>"
      ],
      "text/plain": [
       "                               nombre    latitud  longitud  \\\n",
       "0      Escuela Infantil Los Angelitos  37.382118 -6.001691   \n",
       "1              Escuela Infantil Smile  37.389978 -5.983774   \n",
       "2         Escuela Infantil el Tobogán  37.375900 -5.998240   \n",
       "3  Escuela Infantil pequeños artistas  37.392754 -5.984199   \n",
       "4           Escuela Infantil SolyLuna  37.388847 -5.967769   \n",
       "\n",
       "                                            location  \n",
       "0  {'type': 'Point', 'coordinates': [37.382117614...  \n",
       "1  {'type': 'Point', 'coordinates': [37.3899783, ...  \n",
       "2  {'type': 'Point', 'coordinates': [37.3759, -5....  \n",
       "3  {'type': 'Point', 'coordinates': [37.392754, -...  \n",
       "4  {'type': 'Point', 'coordinates': [37.388847, -...  "
      ]
     },
     "execution_count": 65,
     "metadata": {},
     "output_type": "execute_result"
    }
   ],
   "source": [
    "sevilla_nurseries_df = af.build_df(sevilla_nurseries_dict)\n",
    "sevilla_nurseries_df.head()"
   ]
  },
  {
   "cell_type": "code",
   "execution_count": 66,
   "id": "b8d358d5",
   "metadata": {},
   "outputs": [
    {
     "data": {
      "text/plain": [
       "array(['Escuela Infantil Los Angelitos', 'Escuela Infantil Smile',\n",
       "       'Escuela Infantil el Tobogán',\n",
       "       'Escuela Infantil pequeños artistas', 'Escuela Infantil SolyLuna',\n",
       "       'Escuela Infantil El Pequeño Príncipe',\n",
       "       'Escuela Infantil Patín Macarena', 'Escuela Infantil San Carlos',\n",
       "       'Escuela Infantil St. Andrews Babies - Nursery School',\n",
       "       'Escuela Infantil Piolín',\n",
       "       'Escuela Infantil El Nido De La Palmera',\n",
       "       'Escuela Infantil arco iris', 'Escuela infantil el carmen',\n",
       "       'Escuela infantil bilingüe Paddington',\n",
       "       'Escuela Infantil Las Almenas', 'Escuela Infantil Simón Verde',\n",
       "       'Escuela Infantil La Casita de Chocolate',\n",
       "       'Escuela Infantil Ciudad Aljarafe', 'Escuela Infantil  Itálica',\n",
       "       'escuela infantil caracol',\n",
       "       'CENTRO DE EDUCACIÓN INFANTIL DISNEY - ESCUELA INFANTIL EN BORMUJOS y EN SEVILLA',\n",
       "       'Escuela Infantil Los 3 Cerditos',\n",
       "       'Escuela Infantil Virgen De Belén',\n",
       "       'Escuela  Infantil Bilingüe Los Diminutos',\n",
       "       'Escuela Infantil Europa', 'Escuela Infantil Gloria Fuertes',\n",
       "       'Escuela Infantil Silos', 'Escuela Infantil Mis Bebitos',\n",
       "       'Escuela Infantil Araceli De Silva'], dtype=object)"
      ]
     },
     "execution_count": 66,
     "metadata": {},
     "output_type": "execute_result"
    }
   ],
   "source": [
    "sevilla_nurseries_df.nombre.unique()"
   ]
  },
  {
   "cell_type": "code",
   "execution_count": 67,
   "id": "f81f9013",
   "metadata": {},
   "outputs": [],
   "source": [
    "#af.build_json(city_place, city_name, sevilla_nurseries_dict)"
   ]
  },
  {
   "cell_type": "markdown",
   "id": "5431207b",
   "metadata": {},
   "source": [
    "## 2.7. Find pets hairdresser in Sevilla"
   ]
  },
  {
   "cell_type": "code",
   "execution_count": 68,
   "id": "5062654e",
   "metadata": {},
   "outputs": [],
   "source": [
    "city_place = \"pets\""
   ]
  },
  {
   "cell_type": "code",
   "execution_count": 69,
   "id": "cbffe462",
   "metadata": {},
   "outputs": [],
   "source": [
    "sevilla_pets_dict = af.find_places(\"peluqueria canina\", sevilla)"
   ]
  },
  {
   "cell_type": "code",
   "execution_count": 70,
   "id": "5405c6b2",
   "metadata": {},
   "outputs": [
    {
     "data": {
      "text/html": [
       "<div>\n",
       "<style scoped>\n",
       "    .dataframe tbody tr th:only-of-type {\n",
       "        vertical-align: middle;\n",
       "    }\n",
       "\n",
       "    .dataframe tbody tr th {\n",
       "        vertical-align: top;\n",
       "    }\n",
       "\n",
       "    .dataframe thead th {\n",
       "        text-align: right;\n",
       "    }\n",
       "</style>\n",
       "<table border=\"1\" class=\"dataframe\">\n",
       "  <thead>\n",
       "    <tr style=\"text-align: right;\">\n",
       "      <th></th>\n",
       "      <th>nombre</th>\n",
       "      <th>latitud</th>\n",
       "      <th>longitud</th>\n",
       "      <th>location</th>\n",
       "    </tr>\n",
       "  </thead>\n",
       "  <tbody>\n",
       "    <tr>\n",
       "      <th>0</th>\n",
       "      <td>Estética y Peluquería Canina Woff-dog</td>\n",
       "      <td>37.369195</td>\n",
       "      <td>-5.978871</td>\n",
       "      <td>{'type': 'Point', 'coordinates': [37.369194723...</td>\n",
       "    </tr>\n",
       "    <tr>\n",
       "      <th>1</th>\n",
       "      <td>Peluqueria Canina a Domicilio</td>\n",
       "      <td>37.289027</td>\n",
       "      <td>-5.937676</td>\n",
       "      <td>{'type': 'Point', 'coordinates': [37.289027290...</td>\n",
       "    </tr>\n",
       "    <tr>\n",
       "      <th>2</th>\n",
       "      <td>Peluquería de Caballeros Plaza de Cuba</td>\n",
       "      <td>37.381150</td>\n",
       "      <td>-5.998629</td>\n",
       "      <td>{'type': 'Point', 'coordinates': [37.3811497, ...</td>\n",
       "    </tr>\n",
       "    <tr>\n",
       "      <th>3</th>\n",
       "      <td>Peluquería Memphis</td>\n",
       "      <td>37.378618</td>\n",
       "      <td>-5.998696</td>\n",
       "      <td>{'type': 'Point', 'coordinates': [37.3786179, ...</td>\n",
       "    </tr>\n",
       "    <tr>\n",
       "      <th>4</th>\n",
       "      <td>Peluquería Rocío</td>\n",
       "      <td>37.393712</td>\n",
       "      <td>-5.994251</td>\n",
       "      <td>{'type': 'Point', 'coordinates': [37.393712, -...</td>\n",
       "    </tr>\n",
       "  </tbody>\n",
       "</table>\n",
       "</div>"
      ],
      "text/plain": [
       "                                   nombre    latitud  longitud  \\\n",
       "0   Estética y Peluquería Canina Woff-dog  37.369195 -5.978871   \n",
       "1           Peluqueria Canina a Domicilio  37.289027 -5.937676   \n",
       "2  Peluquería de Caballeros Plaza de Cuba  37.381150 -5.998629   \n",
       "3                      Peluquería Memphis  37.378618 -5.998696   \n",
       "4                        Peluquería Rocío  37.393712 -5.994251   \n",
       "\n",
       "                                            location  \n",
       "0  {'type': 'Point', 'coordinates': [37.369194723...  \n",
       "1  {'type': 'Point', 'coordinates': [37.289027290...  \n",
       "2  {'type': 'Point', 'coordinates': [37.3811497, ...  \n",
       "3  {'type': 'Point', 'coordinates': [37.3786179, ...  \n",
       "4  {'type': 'Point', 'coordinates': [37.393712, -...  "
      ]
     },
     "execution_count": 70,
     "metadata": {},
     "output_type": "execute_result"
    }
   ],
   "source": [
    "sevilla_pets_df = af.build_df(sevilla_pets_dict)\n",
    "sevilla_pets_df.head()"
   ]
  },
  {
   "cell_type": "code",
   "execution_count": 71,
   "id": "70df80a7",
   "metadata": {},
   "outputs": [
    {
     "data": {
      "text/plain": [
       "array(['Estética y Peluquería Canina Woff-dog',\n",
       "       'Peluqueria Canina a Domicilio',\n",
       "       'Peluquería de Caballeros Plaza de Cuba', 'Peluquería Memphis',\n",
       "       'Peluquería Rocío', 'Peluquería Roberto y Vera', 'Peluqueria Alex',\n",
       "       'Peluquería Manolo', 'Peluquería Félix', 'Peluquería buron',\n",
       "       'Peluqueria Coiffure', 'Peluqueria Kuatro C',\n",
       "       'peluqueria Teresa Valle', 'Peluquería Karen', 'Peluquería CHANO',\n",
       "       'peluquería Lowcost', 'Peluqueria Amparo', 'Peluquería Formas',\n",
       "       'peluquería Crew', 'Peluquería Anarte', 'Peluquería Oscar Murillo',\n",
       "       'Peluqueria Caballeros Basilio', 'peluquería luis ramos y equipo',\n",
       "       'Peluquería Caballero Suárez',\n",
       "       'Peluquería Luxury By Manolo González', 'Peluqueria Los Remedios',\n",
       "       'Peluquería Zarco', 'Peluquería El Corte Inglés',\n",
       "       'Peluquería Méndez', 'Peluqueria Lebron Viapol'], dtype=object)"
      ]
     },
     "execution_count": 71,
     "metadata": {},
     "output_type": "execute_result"
    }
   ],
   "source": [
    "sevilla_pets_df.nombre.unique()"
   ]
  },
  {
   "cell_type": "code",
   "execution_count": 72,
   "id": "ad1847a5",
   "metadata": {},
   "outputs": [],
   "source": [
    "#af.build_json(city_place, city_name, sevilla_pets_dict)"
   ]
  },
  {
   "cell_type": "code",
   "execution_count": null,
   "id": "8a43863c",
   "metadata": {},
   "outputs": [],
   "source": []
  },
  {
   "cell_type": "markdown",
   "id": "1d5faeda",
   "metadata": {},
   "source": [
    "## GEOQUERIES"
   ]
  },
  {
   "cell_type": "code",
   "execution_count": 73,
   "id": "623d852a",
   "metadata": {},
   "outputs": [],
   "source": [
    "from pymongo import MongoClient"
   ]
  },
  {
   "cell_type": "code",
   "execution_count": 74,
   "id": "11645f4d",
   "metadata": {},
   "outputs": [
    {
     "data": {
      "text/plain": [
       "Database(MongoClient(host=['localhost:27017'], document_class=dict, tz_aware=False, connect=True), 'geospatial_data')"
      ]
     },
     "execution_count": 74,
     "metadata": {},
     "output_type": "execute_result"
    }
   ],
   "source": [
    "client = MongoClient(\"localhost:27017\")\n",
    "db = client.get_database(\"geospatial_data\")\n",
    "db"
   ]
  },
  {
   "cell_type": "code",
   "execution_count": 75,
   "id": "5341cec0",
   "metadata": {},
   "outputs": [],
   "source": [
    "from pymongo import GEOSPHERE"
   ]
  },
  {
   "cell_type": "markdown",
   "id": "2150eeb7",
   "metadata": {},
   "source": [
    "### MADRID"
   ]
  },
  {
   "cell_type": "code",
   "execution_count": 76,
   "id": "84b4a21a",
   "metadata": {},
   "outputs": [],
   "source": [
    "madrid_mongo = db.get_collection(\"madrid\")"
   ]
  },
  {
   "cell_type": "code",
   "execution_count": 77,
   "id": "1104dc42",
   "metadata": {},
   "outputs": [
    {
     "data": {
      "text/plain": [
       "'location_2dsphere'"
      ]
     },
     "execution_count": 77,
     "metadata": {},
     "output_type": "execute_result"
    }
   ],
   "source": [
    "db.madrid.create_index([(\"location\", GEOSPHERE)])"
   ]
  },
  {
   "cell_type": "code",
   "execution_count": 78,
   "id": "1954adf4",
   "metadata": {},
   "outputs": [
    {
     "data": {
      "text/plain": [
       "{'type': 'Point', 'coordinates': ['40.41703', '-3.70343']}"
      ]
     },
     "execution_count": 78,
     "metadata": {},
     "output_type": "execute_result"
    }
   ],
   "source": [
    "# Utilizamos la función de geocode para que me dé la Latitud y la Longitud, como antes con ironhack\n",
    "madrid"
   ]
  },
  {
   "cell_type": "code",
   "execution_count": 79,
   "id": "ff400579",
   "metadata": {},
   "outputs": [
    {
     "data": {
      "text/plain": [
       "dict_keys(['_id', 'nombre', 'latitud', 'longitud', 'location'])"
      ]
     },
     "execution_count": 79,
     "metadata": {},
     "output_type": "execute_result"
    }
   ],
   "source": [
    "db.madrid.find_one().keys()\n"
   ]
  },
  {
   "cell_type": "code",
   "execution_count": 80,
   "id": "46170c08",
   "metadata": {},
   "outputs": [],
   "source": [
    "madrid_coord = [40.41703,-3.70343]"
   ]
  },
  {
   "cell_type": "code",
   "execution_count": 81,
   "id": "be1a0ca9",
   "metadata": {},
   "outputs": [
    {
     "data": {
      "text/plain": [
       "{'type': 'Point', 'coordinates': [40.41703, -3.70343]}"
      ]
     },
     "execution_count": 81,
     "metadata": {},
     "output_type": "execute_result"
    }
   ],
   "source": [
    "coord_tp_Mad = af.type_point(madrid_coord)\n",
    "coord_tp_Mad"
   ]
  },
  {
   "cell_type": "markdown",
   "id": "099893e3",
   "metadata": {},
   "source": [
    "### SEVILLA"
   ]
  },
  {
   "cell_type": "code",
   "execution_count": 82,
   "id": "5df89f71",
   "metadata": {},
   "outputs": [],
   "source": [
    "sevilla_mongo = db.get_collection(\"sevilla\")"
   ]
  },
  {
   "cell_type": "code",
   "execution_count": 83,
   "id": "69ed89bd",
   "metadata": {},
   "outputs": [
    {
     "data": {
      "text/plain": [
       "'location_2dsphere'"
      ]
     },
     "execution_count": 83,
     "metadata": {},
     "output_type": "execute_result"
    }
   ],
   "source": [
    "db.sevilla.create_index([(\"location\", GEOSPHERE)])"
   ]
  },
  {
   "cell_type": "code",
   "execution_count": 84,
   "id": "2efd0a89",
   "metadata": {},
   "outputs": [],
   "source": [
    "sevilla_coord = [37.38285,-5.99288]"
   ]
  },
  {
   "cell_type": "code",
   "execution_count": 85,
   "id": "bffbadf2",
   "metadata": {},
   "outputs": [
    {
     "data": {
      "text/plain": [
       "{'type': 'Point', 'coordinates': [37.38285, -5.99288]}"
      ]
     },
     "execution_count": 85,
     "metadata": {},
     "output_type": "execute_result"
    }
   ],
   "source": [
    "coord_tp_Sev = af.type_point(sevilla_coord)\n",
    "coord_tp_Sev"
   ]
  },
  {
   "cell_type": "markdown",
   "id": "e803641f",
   "metadata": {},
   "source": [
    "### BARCELONA"
   ]
  },
  {
   "cell_type": "code",
   "execution_count": 86,
   "id": "95d89c91",
   "metadata": {},
   "outputs": [],
   "source": [
    "barcelona_mongo = db.get_collection(\"barcelona\")"
   ]
  },
  {
   "cell_type": "code",
   "execution_count": 87,
   "id": "23a5340b",
   "metadata": {},
   "outputs": [
    {
     "data": {
      "text/plain": [
       "'location_2dsphere'"
      ]
     },
     "execution_count": 87,
     "metadata": {},
     "output_type": "execute_result"
    }
   ],
   "source": [
    "db.barcelona.create_index([(\"location\", GEOSPHERE)])"
   ]
  },
  {
   "cell_type": "code",
   "execution_count": 88,
   "id": "22ea1997",
   "metadata": {},
   "outputs": [],
   "source": [
    "barcelona_coord = [41.38781 , 2.16920]"
   ]
  },
  {
   "cell_type": "code",
   "execution_count": 89,
   "id": "968fef06",
   "metadata": {},
   "outputs": [
    {
     "data": {
      "text/plain": [
       "{'type': 'Point', 'coordinates': [41.38781, 2.1692]}"
      ]
     },
     "execution_count": 89,
     "metadata": {},
     "output_type": "execute_result"
    }
   ],
   "source": [
    "coord_tp_barc = af.type_point(barcelona_coord)\n",
    "coord_tp_barc"
   ]
  },
  {
   "cell_type": "markdown",
   "id": "5452907b",
   "metadata": {},
   "source": [
    "### FINAL DICTIONARY"
   ]
  },
  {
   "cell_type": "code",
   "execution_count": 98,
   "id": "9ebf5a4e",
   "metadata": {},
   "outputs": [],
   "source": [
    "final_dictionary = {}"
   ]
  },
  {
   "cell_type": "code",
   "execution_count": 109,
   "id": "158cf752",
   "metadata": {},
   "outputs": [],
   "source": [
    "distance = 500"
   ]
  },
  {
   "cell_type": "code",
   "execution_count": 110,
   "id": "d6d4ccbe",
   "metadata": {},
   "outputs": [
    {
     "data": {
      "text/plain": [
       "{'Madrid': [2, 8, 0, 1, 24],\n",
       " 'Sevilla': [0, 3, 0, 0, 6],\n",
       " 'Barcelona': [7, 11, 0, 0, 43]}"
      ]
     },
     "execution_count": 110,
     "metadata": {},
     "output_type": "execute_result"
    }
   ],
   "source": [
    "af.build_final_dictionary(final_dictionary, \"Madrid\", coord_tp_Mad, db.madrid, distance)"
   ]
  },
  {
   "cell_type": "code",
   "execution_count": 111,
   "id": "00235c46",
   "metadata": {},
   "outputs": [
    {
     "data": {
      "text/plain": [
       "{'Madrid': [2, 8, 0, 1, 24],\n",
       " 'Sevilla': [0, 3, 0, 0, 6],\n",
       " 'Barcelona': [7, 11, 0, 0, 43]}"
      ]
     },
     "execution_count": 111,
     "metadata": {},
     "output_type": "execute_result"
    }
   ],
   "source": [
    "af.build_final_dictionary(final_dictionary, \"Sevilla\", coord_tp_Sev, db.sevilla, distance)"
   ]
  },
  {
   "cell_type": "code",
   "execution_count": 112,
   "id": "828f6b87",
   "metadata": {},
   "outputs": [
    {
     "data": {
      "text/plain": [
       "{'Madrid': [2, 8, 0, 1, 24],\n",
       " 'Sevilla': [0, 3, 0, 0, 6],\n",
       " 'Barcelona': [3, 6, 0, 0, 21]}"
      ]
     },
     "execution_count": 112,
     "metadata": {},
     "output_type": "execute_result"
    }
   ],
   "source": [
    "af.build_final_dictionary(final_dictionary, \"Barcelona\", coord_tp_barc, db.barcelona, distance)"
   ]
  },
  {
   "cell_type": "code",
   "execution_count": 115,
   "id": "6041fa7b",
   "metadata": {
    "scrolled": true
   },
   "outputs": [
    {
     "data": {
      "text/html": [
       "<div>\n",
       "<style scoped>\n",
       "    .dataframe tbody tr th:only-of-type {\n",
       "        vertical-align: middle;\n",
       "    }\n",
       "\n",
       "    .dataframe tbody tr th {\n",
       "        vertical-align: top;\n",
       "    }\n",
       "\n",
       "    .dataframe thead th {\n",
       "        text-align: right;\n",
       "    }\n",
       "</style>\n",
       "<table border=\"1\" class=\"dataframe\">\n",
       "  <thead>\n",
       "    <tr style=\"text-align: right;\">\n",
       "      <th></th>\n",
       "      <th>Madrid</th>\n",
       "      <th>Sevilla</th>\n",
       "      <th>Barcelona</th>\n",
       "    </tr>\n",
       "  </thead>\n",
       "  <tbody>\n",
       "    <tr>\n",
       "      <th>0</th>\n",
       "      <td>2</td>\n",
       "      <td>0</td>\n",
       "      <td>3</td>\n",
       "    </tr>\n",
       "    <tr>\n",
       "      <th>1</th>\n",
       "      <td>8</td>\n",
       "      <td>3</td>\n",
       "      <td>6</td>\n",
       "    </tr>\n",
       "    <tr>\n",
       "      <th>2</th>\n",
       "      <td>0</td>\n",
       "      <td>0</td>\n",
       "      <td>0</td>\n",
       "    </tr>\n",
       "    <tr>\n",
       "      <th>3</th>\n",
       "      <td>1</td>\n",
       "      <td>0</td>\n",
       "      <td>0</td>\n",
       "    </tr>\n",
       "    <tr>\n",
       "      <th>4</th>\n",
       "      <td>24</td>\n",
       "      <td>6</td>\n",
       "      <td>21</td>\n",
       "    </tr>\n",
       "  </tbody>\n",
       "</table>\n",
       "</div>"
      ],
      "text/plain": [
       "   Madrid  Sevilla  Barcelona\n",
       "0       2        0          3\n",
       "1       8        3          6\n",
       "2       0        0          0\n",
       "3       1        0          0\n",
       "4      24        6         21"
      ]
     },
     "execution_count": 115,
     "metadata": {},
     "output_type": "execute_result"
    }
   ],
   "source": [
    "df = af.build_df(final_dictionary)\n",
    "df"
   ]
  },
  {
   "cell_type": "code",
   "execution_count": 123,
   "id": "c83e0c02",
   "metadata": {},
   "outputs": [],
   "source": [
    "df_2 = pd.DataFrame.from_dict(final_dictionary, orient='index')"
   ]
  },
  {
   "cell_type": "code",
   "execution_count": 126,
   "id": "f3349f73",
   "metadata": {},
   "outputs": [],
   "source": [
    "df_2.columns=['Stations','Starbucks','Pets hairdresser','Vegan restaurants','Total score']\n"
   ]
  },
  {
   "cell_type": "code",
   "execution_count": 127,
   "id": "d0c2a144",
   "metadata": {},
   "outputs": [
    {
     "data": {
      "text/html": [
       "<div>\n",
       "<style scoped>\n",
       "    .dataframe tbody tr th:only-of-type {\n",
       "        vertical-align: middle;\n",
       "    }\n",
       "\n",
       "    .dataframe tbody tr th {\n",
       "        vertical-align: top;\n",
       "    }\n",
       "\n",
       "    .dataframe thead th {\n",
       "        text-align: right;\n",
       "    }\n",
       "</style>\n",
       "<table border=\"1\" class=\"dataframe\">\n",
       "  <thead>\n",
       "    <tr style=\"text-align: right;\">\n",
       "      <th></th>\n",
       "      <th>Stations</th>\n",
       "      <th>Starbucks</th>\n",
       "      <th>Pets hairdresser</th>\n",
       "      <th>Vegan restaurants</th>\n",
       "      <th>Total score</th>\n",
       "    </tr>\n",
       "  </thead>\n",
       "  <tbody>\n",
       "    <tr>\n",
       "      <th>Madrid</th>\n",
       "      <td>2</td>\n",
       "      <td>8</td>\n",
       "      <td>0</td>\n",
       "      <td>1</td>\n",
       "      <td>24</td>\n",
       "    </tr>\n",
       "    <tr>\n",
       "      <th>Sevilla</th>\n",
       "      <td>0</td>\n",
       "      <td>3</td>\n",
       "      <td>0</td>\n",
       "      <td>0</td>\n",
       "      <td>6</td>\n",
       "    </tr>\n",
       "    <tr>\n",
       "      <th>Barcelona</th>\n",
       "      <td>3</td>\n",
       "      <td>6</td>\n",
       "      <td>0</td>\n",
       "      <td>0</td>\n",
       "      <td>21</td>\n",
       "    </tr>\n",
       "  </tbody>\n",
       "</table>\n",
       "</div>"
      ],
      "text/plain": [
       "           Stations  Starbucks  Pets hairdresser  Vegan restaurants  \\\n",
       "Madrid            2          8                 0                  1   \n",
       "Sevilla           0          3                 0                  0   \n",
       "Barcelona         3          6                 0                  0   \n",
       "\n",
       "           Total score  \n",
       "Madrid              24  \n",
       "Sevilla              6  \n",
       "Barcelona           21  "
      ]
     },
     "execution_count": 127,
     "metadata": {},
     "output_type": "execute_result"
    }
   ],
   "source": [
    "df_2"
   ]
  },
  {
   "cell_type": "code",
   "execution_count": 129,
   "id": "10b4a5a0",
   "metadata": {},
   "outputs": [],
   "source": [
    "import seaborn as sns\n",
    "import matplotlib.pyplot as plt\n",
    "import pandas as pd"
   ]
  },
  {
   "cell_type": "code",
   "execution_count": 130,
   "id": "ed639b0c",
   "metadata": {},
   "outputs": [],
   "source": [
    "sns.set_context(\"poster\")\n",
    "sns.set(rc={\"figure.figsize\": (12.,6.)})\n",
    "sns.set_style(\"whitegrid\")"
   ]
  },
  {
   "cell_type": "code",
   "execution_count": null,
   "id": "47020a4a",
   "metadata": {},
   "outputs": [],
   "source": []
  }
 ],
 "metadata": {
  "kernelspec": {
   "display_name": "ironhack",
   "language": "python",
   "name": "ironhack"
  },
  "language_info": {
   "codemirror_mode": {
    "name": "ipython",
    "version": 3
   },
   "file_extension": ".py",
   "mimetype": "text/x-python",
   "name": "python",
   "nbconvert_exporter": "python",
   "pygments_lexer": "ipython3",
   "version": "3.8.5"
  }
 },
 "nbformat": 4,
 "nbformat_minor": 5
}
