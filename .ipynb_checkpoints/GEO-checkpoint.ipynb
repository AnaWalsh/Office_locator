{
 "cells": [
  {
   "cell_type": "markdown",
   "id": "86f37d44",
   "metadata": {},
   "source": [
    "# W4-geospatial-data-project"
   ]
  },
  {
   "cell_type": "code",
   "execution_count": 1,
   "id": "c1bd9c16",
   "metadata": {},
   "outputs": [],
   "source": [
    "#Import the necessary libraries.\n",
    "import folium\n",
    "from folium import Choropleth, Circle, Marker, Icon, Map\n",
    "from folium.plugins import HeatMap, MarkerCluster\n",
    "import pandas as pd\n",
    "import requests\n",
    "import json\n",
    "from dotenv import load_dotenv\n",
    "import os\n",
    "import pandas as pd"
   ]
  },
  {
   "cell_type": "code",
   "execution_count": 2,
   "id": "db917568",
   "metadata": {},
   "outputs": [],
   "source": [
    "from functools import reduce\n",
    "import operator"
   ]
  },
  {
   "cell_type": "code",
   "execution_count": 3,
   "id": "b7b7c18b",
   "metadata": {},
   "outputs": [],
   "source": [
    "#Import functions from .py\n",
    "import src.api_functions as af "
   ]
  },
  {
   "cell_type": "markdown",
   "id": "9cce1080",
   "metadata": {},
   "source": [
    "# Option 1: Madrid"
   ]
  },
  {
   "cell_type": "code",
   "execution_count": 31,
   "id": "bb65ad50",
   "metadata": {},
   "outputs": [
    {
     "data": {
      "text/plain": [
       "{'type': 'Point', 'coordinates': ['40.41703', '-3.70343']}"
      ]
     },
     "execution_count": 31,
     "metadata": {},
     "output_type": "execute_result"
    }
   ],
   "source": [
    "#We use format to parameterize the string that will receive geocode and be able to use it for each of the locations.\n",
    "geocode_address = f'{city_address}, {city_name}'  \n",
    "\n",
    "#We define \"name\", \"address\" and \"place\" for the Madrid location.\n",
    "city_name = \"Madrid\"\n",
    "city_address = \"Puerta del sol\"\n",
    "city_place = \"starbucks\"\n",
    "\n",
    "#We search the coordinates for the location of Madrid using the function geocode.\n",
    "madrid = af.geocode(geocode_address)\n",
    "madrid"
   ]
  },
  {
   "cell_type": "code",
   "execution_count": 32,
   "id": "c96a9ca4",
   "metadata": {},
   "outputs": [
    {
     "data": {
      "text/plain": [
       "True"
      ]
     },
     "execution_count": 32,
     "metadata": {},
     "output_type": "execute_result"
    }
   ],
   "source": [
    "load_dotenv() "
   ]
  },
  {
   "cell_type": "code",
   "execution_count": 33,
   "id": "d830411e",
   "metadata": {},
   "outputs": [],
   "source": [
    "#To store our tokens in variables.\n",
    "client_id = os.getenv(\"tok1\")\n",
    "client_secret = os.getenv(\"tok2\")"
   ]
  },
  {
   "cell_type": "code",
   "execution_count": 34,
   "id": "f760a4bf",
   "metadata": {},
   "outputs": [],
   "source": [
    "#Define the URLs where we will make the API requests.\n",
    "url_query = 'https://api.foursquare.com/v2/venues/search' \n",
    "url_recomendados = 'https://api.foursquare.com/v2/venues/explore'"
   ]
  },
  {
   "cell_type": "code",
   "execution_count": 39,
   "id": "9f328d4b",
   "metadata": {},
   "outputs": [],
   "source": [
    "#Call the function \"find_places\"\n",
    "madrid_starbucks_dict = af.find_places(\"starbucks\", madrid)"
   ]
  },
  {
   "cell_type": "code",
   "execution_count": 44,
   "id": "afe025c3",
   "metadata": {},
   "outputs": [],
   "source": [
    "#print(madrid_starbucks_dict)"
   ]
  },
  {
   "cell_type": "code",
   "execution_count": 45,
   "id": "bc6cc838",
   "metadata": {},
   "outputs": [
    {
     "data": {
      "text/html": [
       "<div>\n",
       "<style scoped>\n",
       "    .dataframe tbody tr th:only-of-type {\n",
       "        vertical-align: middle;\n",
       "    }\n",
       "\n",
       "    .dataframe tbody tr th {\n",
       "        vertical-align: top;\n",
       "    }\n",
       "\n",
       "    .dataframe thead th {\n",
       "        text-align: right;\n",
       "    }\n",
       "</style>\n",
       "<table border=\"1\" class=\"dataframe\">\n",
       "  <thead>\n",
       "    <tr style=\"text-align: right;\">\n",
       "      <th></th>\n",
       "      <th>nombre</th>\n",
       "      <th>latitud</th>\n",
       "      <th>longitud</th>\n",
       "      <th>location</th>\n",
       "    </tr>\n",
       "  </thead>\n",
       "  <tbody>\n",
       "    <tr>\n",
       "      <th>0</th>\n",
       "      <td>Starbucks</td>\n",
       "      <td>40.417195</td>\n",
       "      <td>-3.706119</td>\n",
       "      <td>{'type': 'Point', 'coordinates': [40.417195167...</td>\n",
       "    </tr>\n",
       "    <tr>\n",
       "      <th>1</th>\n",
       "      <td>Starbucks</td>\n",
       "      <td>40.417539</td>\n",
       "      <td>-3.702775</td>\n",
       "      <td>{'type': 'Point', 'coordinates': [40.417539, -...</td>\n",
       "    </tr>\n",
       "    <tr>\n",
       "      <th>2</th>\n",
       "      <td>Starbucks</td>\n",
       "      <td>40.420140</td>\n",
       "      <td>-3.702886</td>\n",
       "      <td>{'type': 'Point', 'coordinates': [40.420140393...</td>\n",
       "    </tr>\n",
       "    <tr>\n",
       "      <th>3</th>\n",
       "      <td>Starbucks</td>\n",
       "      <td>40.418038</td>\n",
       "      <td>-3.699372</td>\n",
       "      <td>{'type': 'Point', 'coordinates': [40.418038185...</td>\n",
       "    </tr>\n",
       "    <tr>\n",
       "      <th>4</th>\n",
       "      <td>Starbucks</td>\n",
       "      <td>40.417489</td>\n",
       "      <td>-3.704665</td>\n",
       "      <td>{'type': 'Point', 'coordinates': [40.417489421...</td>\n",
       "    </tr>\n",
       "  </tbody>\n",
       "</table>\n",
       "</div>"
      ],
      "text/plain": [
       "      nombre    latitud  longitud  \\\n",
       "0  Starbucks  40.417195 -3.706119   \n",
       "1  Starbucks  40.417539 -3.702775   \n",
       "2  Starbucks  40.420140 -3.702886   \n",
       "3  Starbucks  40.418038 -3.699372   \n",
       "4  Starbucks  40.417489 -3.704665   \n",
       "\n",
       "                                            location  \n",
       "0  {'type': 'Point', 'coordinates': [40.417195167...  \n",
       "1  {'type': 'Point', 'coordinates': [40.417539, -...  \n",
       "2  {'type': 'Point', 'coordinates': [40.420140393...  \n",
       "3  {'type': 'Point', 'coordinates': [40.418038185...  \n",
       "4  {'type': 'Point', 'coordinates': [40.417489421...  "
      ]
     },
     "execution_count": 45,
     "metadata": {},
     "output_type": "execute_result"
    }
   ],
   "source": [
    "#Call the function \"build_df\" to build a df from the dictionary obtained with \"find_places\"\n",
    "madrid_starbucks_df = af.build_df(madrid_starbucks_dict)\n",
    "madrid_starbucks_df.head()"
   ]
  },
  {
   "cell_type": "code",
   "execution_count": 43,
   "id": "2f0f00d4",
   "metadata": {},
   "outputs": [],
   "source": [
    "#Call the function \"build_json\" to store the data in a json and save it. \n",
    "af.build_json(city_place, city_name, madrid_starbucks_dict)"
   ]
  },
  {
   "cell_type": "code",
   "execution_count": null,
   "id": "237e7aab",
   "metadata": {},
   "outputs": [],
   "source": [
    "#HASTA AQUÍ LLEGA. LO SIQUIENTE ES BASURA"
   ]
  },
  {
   "cell_type": "code",
   "execution_count": null,
   "id": "9c9b964e",
   "metadata": {},
   "outputs": [],
   "source": []
  },
  {
   "cell_type": "code",
   "execution_count": null,
   "id": "5a279ecd",
   "metadata": {},
   "outputs": [],
   "source": []
  },
  {
   "cell_type": "code",
   "execution_count": null,
   "id": "47efb2df",
   "metadata": {},
   "outputs": [],
   "source": []
  },
  {
   "cell_type": "code",
   "execution_count": null,
   "id": "590181d7",
   "metadata": {},
   "outputs": [],
   "source": []
  },
  {
   "cell_type": "code",
   "execution_count": null,
   "id": "917461a6",
   "metadata": {},
   "outputs": [],
   "source": []
  },
  {
   "cell_type": "markdown",
   "id": "88a4f65f",
   "metadata": {},
   "source": [
    "starburks_madrid=funcion(\"Starbucks\")\n",
    "starburks_madrid.head()"
   ]
  },
  {
   "cell_type": "code",
   "execution_count": null,
   "id": "28ffcd68",
   "metadata": {},
   "outputs": [],
   "source": [
    "resp_starbucks = requests.get(url_query, params = parametros).json() # convierte la response en json"
   ]
  },
  {
   "cell_type": "code",
   "execution_count": null,
   "id": "1d18c947",
   "metadata": {},
   "outputs": [],
   "source": [
    "#resp_starbucks"
   ]
  },
  {
   "cell_type": "code",
   "execution_count": null,
   "id": "1d5d46d7",
   "metadata": {},
   "outputs": [],
   "source": [
    "#resp_starbucks[\"response\"].keys() #nos devuelve las keys de response"
   ]
  },
  {
   "cell_type": "code",
   "execution_count": null,
   "id": "d6f80fe7",
   "metadata": {},
   "outputs": [],
   "source": [
    "import pyjsonviewer #para visualizar json"
   ]
  },
  {
   "cell_type": "code",
   "execution_count": null,
   "id": "37ac3dbd",
   "metadata": {},
   "outputs": [],
   "source": [
    "import json\n",
    "with open('data.json', 'w') as f:\n",
    "    json.dump(resp, f)"
   ]
  },
  {
   "cell_type": "code",
   "execution_count": null,
   "id": "72b92d97",
   "metadata": {},
   "outputs": [],
   "source": [
    "#pyjsonviewer.view_data(json_file=\"data.json\")"
   ]
  },
  {
   "cell_type": "code",
   "execution_count": null,
   "id": "91afd847",
   "metadata": {},
   "outputs": [],
   "source": [
    "#pyjsonviewer.view_data(json_data=resp)"
   ]
  },
  {
   "cell_type": "code",
   "execution_count": null,
   "id": "b6ea2169",
   "metadata": {},
   "outputs": [],
   "source": [
    "#data = resp_starbucks[\"response\"][\"venues\"]"
   ]
  },
  {
   "cell_type": "code",
   "execution_count": null,
   "id": "aa266bb3",
   "metadata": {},
   "outputs": [],
   "source": [
    "#starbucks = pd.DataFrame(data)"
   ]
  },
  {
   "cell_type": "code",
   "execution_count": null,
   "id": "7cc66011",
   "metadata": {},
   "outputs": [],
   "source": [
    "#starbucks.head()"
   ]
  },
  {
   "cell_type": "code",
   "execution_count": null,
   "id": "0958c37a",
   "metadata": {},
   "outputs": [],
   "source": [
    "starbucks.loc[1][\"location\"]"
   ]
  },
  {
   "cell_type": "code",
   "execution_count": null,
   "id": "08a3151a",
   "metadata": {},
   "outputs": [],
   "source": [
    "def getFromDict(diccionario,mapa):\n",
    "    return reduce(operator.getitem,mapa,diccionario)"
   ]
  },
  {
   "cell_type": "code",
   "execution_count": null,
   "id": "2d20e33f",
   "metadata": {},
   "outputs": [],
   "source": [
    "resp_starbucks[\"response\"][\"venues\"][0]"
   ]
  },
  {
   "cell_type": "code",
   "execution_count": null,
   "id": "c4b5e3f9",
   "metadata": {},
   "outputs": [],
   "source": [
    "map_ = [\"location\", \"lat\"]"
   ]
  },
  {
   "cell_type": "code",
   "execution_count": null,
   "id": "8770d9be",
   "metadata": {},
   "outputs": [],
   "source": [
    "getFromDict(resp_starbucks[\"response\"][\"venues\"][0], map_)"
   ]
  },
  {
   "cell_type": "code",
   "execution_count": null,
   "id": "42fd01bc",
   "metadata": {},
   "outputs": [],
   "source": [
    "resp_starbucks[\"response\"][\"venues\"][0][\"location\"][\"address\"] "
   ]
  },
  {
   "cell_type": "code",
   "execution_count": null,
   "id": "85529132",
   "metadata": {},
   "outputs": [],
   "source": [
    "def type_point(lista):\n",
    "    return {\"type\":\"Point\", \"coordinates\": lista}"
   ]
  },
  {
   "cell_type": "code",
   "execution_count": null,
   "id": "4f2511b1",
   "metadata": {},
   "outputs": [],
   "source": [
    "todo = {\"nombre\": [\"name\"], \"dirección\": [\"location\", \"address\"], \"latitud\": [\"location\", \"lat\"], \"longitud\": [\"location\", \"lng\"]}"
   ]
  },
  {
   "cell_type": "code",
   "execution_count": null,
   "id": "013d6a62",
   "metadata": {},
   "outputs": [],
   "source": [
    "starbucks_madrid = resp[\"response\"][\"venues\"] #Librerías es el json grande donde tengo toda la info de cada starbucks"
   ]
  },
  {
   "cell_type": "code",
   "execution_count": null,
   "id": "ad43418e",
   "metadata": {},
   "outputs": [],
   "source": [
    "type(starbucks_madrid)"
   ]
  },
  {
   "cell_type": "code",
   "execution_count": null,
   "id": "5a9f232d",
   "metadata": {},
   "outputs": [],
   "source": [
    "def extraetodo(json):\n",
    "    todo = {\"nombre\": [\"name\"], \"latitud\": [\"location\", \"lat\"], \"longitud\": [\"location\", \"lng\"]} \n",
    "    total = []\n",
    "    for elemento in json:\n",
    "        libre = {key: getFromDict(elemento, value) for key,value in todo.items()}\n",
    "        libre[\"location\"] = type_point([libre[\"latitud\"], libre[\"longitud\"]])\n",
    "        total.append(libre)\n",
    "    return total\n"
   ]
  },
  {
   "cell_type": "code",
   "execution_count": null,
   "id": "c7b574b8",
   "metadata": {},
   "outputs": [],
   "source": [
    "data_starbucks = extraetodo(starbucks_) "
   ]
  },
  {
   "cell_type": "code",
   "execution_count": null,
   "id": "0f544c0d",
   "metadata": {},
   "outputs": [],
   "source": [
    "type(data_starbucks)"
   ]
  },
  {
   "cell_type": "code",
   "execution_count": null,
   "id": "2ed8ce4d",
   "metadata": {},
   "outputs": [],
   "source": [
    "\n",
    "data_ = pd.DataFrame(data_starbucks)"
   ]
  },
  {
   "cell_type": "code",
   "execution_count": null,
   "id": "8041e080",
   "metadata": {},
   "outputs": [],
   "source": [
    "\n",
    "data_.head()"
   ]
  },
  {
   "cell_type": "code",
   "execution_count": null,
   "id": "5ca70d5e",
   "metadata": {},
   "outputs": [],
   "source": [
    "\n",
    "starbucks_madrid = data_.copy()"
   ]
  },
  {
   "cell_type": "code",
   "execution_count": null,
   "id": "1ac203bc",
   "metadata": {},
   "outputs": [],
   "source": [
    "import json\n",
    "with open (\"starbucks_.json\",\"w\") as f: # creamos un archivo vacío en el que vamos a escribir\n",
    "    json.dump(data_starbucks,f) # cargamos nuestra lista de diccionarios en ese archivo"
   ]
  },
  {
   "cell_type": "code",
   "execution_count": null,
   "id": "62a0d383",
   "metadata": {},
   "outputs": [],
   "source": [
    "\n",
    "type(f)"
   ]
  },
  {
   "cell_type": "code",
   "execution_count": null,
   "id": "b5414d73",
   "metadata": {},
   "outputs": [],
   "source": [
    "import geopandas as gpd"
   ]
  },
  {
   "cell_type": "code",
   "execution_count": null,
   "id": "b9698aba",
   "metadata": {},
   "outputs": [],
   "source": [
    "type(starbucks_madrid)"
   ]
  },
  {
   "cell_type": "code",
   "execution_count": null,
   "id": "cfc11a94",
   "metadata": {},
   "outputs": [],
   "source": [
    "starbucks_madrid.sample()"
   ]
  },
  {
   "cell_type": "code",
   "execution_count": null,
   "id": "e8a6f0d7",
   "metadata": {},
   "outputs": [],
   "source": [
    "gdf = gpd.GeoDataFrame(starbucks_madrid, geometry=gpd.points_from_xy(starbucks_madrid.longitud, starbucks_madrid.latitud))"
   ]
  },
  {
   "cell_type": "code",
   "execution_count": null,
   "id": "c4c95f59",
   "metadata": {},
   "outputs": [],
   "source": [
    "\n",
    "gdf.sample()"
   ]
  },
  {
   "cell_type": "code",
   "execution_count": null,
   "id": "5c733bcc",
   "metadata": {},
   "outputs": [],
   "source": [
    "from cartoframes.viz import Map, Layer, popup_element"
   ]
  },
  {
   "cell_type": "code",
   "execution_count": 23,
   "id": "f45b5d46",
   "metadata": {},
   "outputs": [
    {
     "ename": "NameError",
     "evalue": "name 'Layer' is not defined",
     "output_type": "error",
     "traceback": [
      "\u001b[0;31m---------------------------------------------------------------------------\u001b[0m",
      "\u001b[0;31mNameError\u001b[0m                                 Traceback (most recent call last)",
      "\u001b[0;32m<ipython-input-23-fc9888ae2716>\u001b[0m in \u001b[0;36m<module>\u001b[0;34m\u001b[0m\n\u001b[0;32m----> 1\u001b[0;31m \u001b[0mMap\u001b[0m\u001b[0;34m(\u001b[0m\u001b[0mLayer\u001b[0m\u001b[0;34m(\u001b[0m\u001b[0mgdf\u001b[0m\u001b[0;34m,\u001b[0m \u001b[0;34m\"color:green\"\u001b[0m\u001b[0;34m,\u001b[0m \u001b[0mpopup_hover\u001b[0m\u001b[0;34m=\u001b[0m\u001b[0;34m[\u001b[0m\u001b[0mpopup_element\u001b[0m\u001b[0;34m(\u001b[0m\u001b[0;34m\"nombre\"\u001b[0m\u001b[0;34m,\u001b[0m \u001b[0;34m\"Starbucks en Madrid\"\u001b[0m\u001b[0;34m)\u001b[0m\u001b[0;34m]\u001b[0m\u001b[0;34m)\u001b[0m\u001b[0;34m)\u001b[0m\u001b[0;34m\u001b[0m\u001b[0;34m\u001b[0m\u001b[0m\n\u001b[0m",
      "\u001b[0;31mNameError\u001b[0m: name 'Layer' is not defined"
     ]
    }
   ],
   "source": [
    "Map(Layer(gdf, \"color:green\", popup_hover=[popup_element(\"nombre\", \"Starbucks en Madrid\")]))"
   ]
  },
  {
   "cell_type": "code",
   "execution_count": null,
   "id": "ebd13198",
   "metadata": {},
   "outputs": [],
   "source": []
  }
 ],
 "metadata": {
  "kernelspec": {
   "display_name": "ironhack",
   "language": "python",
   "name": "ironhack"
  },
  "language_info": {
   "codemirror_mode": {
    "name": "ipython",
    "version": 3
   },
   "file_extension": ".py",
   "mimetype": "text/x-python",
   "name": "python",
   "nbconvert_exporter": "python",
   "pygments_lexer": "ipython3",
   "version": "3.8.5"
  }
 },
 "nbformat": 4,
 "nbformat_minor": 5
}
