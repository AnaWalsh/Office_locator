{
 "cells": [
  {
   "cell_type": "markdown",
   "id": "a6b4e18e",
   "metadata": {},
   "source": [
    "# W4-geospatial-data-project"
   ]
  },
  {
   "cell_type": "code",
   "execution_count": 1,
   "id": "c1bd9c16",
   "metadata": {},
   "outputs": [],
   "source": [
    "#Import the necessary libraries.\n",
    "import folium\n",
    "from folium import Choropleth, Circle, Marker, Icon, Map\n",
    "from folium.plugins import HeatMap, MarkerCluster\n",
    "import pandas as pd\n",
    "import requests\n",
    "import json\n",
    "from dotenv import load_dotenv\n",
    "import os\n",
    "import pandas as pd\n",
    "import re"
   ]
  },
  {
   "cell_type": "code",
   "execution_count": 2,
   "id": "338d0754",
   "metadata": {},
   "outputs": [],
   "source": [
    "from functools import reduce\n",
    "import operator"
   ]
  },
  {
   "cell_type": "code",
   "execution_count": 3,
   "id": "6ca2efe6",
   "metadata": {},
   "outputs": [],
   "source": [
    "#Import functions from .py\n",
    "import src.api_functions as af "
   ]
  },
  {
   "cell_type": "markdown",
   "id": "d2663e78",
   "metadata": {},
   "source": [
    "#### The three options for the location of the new office will be: Madrid, Barcelona and Seville. We are going to study the services ( Starbucks, train stations, vegan restaurants and pet hairdressers) offered by each city around specific coordinates."
   ]
  },
  {
   "cell_type": "markdown",
   "id": "f0aec8d1",
   "metadata": {},
   "source": [
    "# 1. Find places in each city"
   ]
  },
  {
   "cell_type": "markdown",
   "id": "115aa78b",
   "metadata": {},
   "source": [
    "## A. Madrid"
   ]
  },
  {
   "cell_type": "code",
   "execution_count": 4,
   "id": "13508136",
   "metadata": {},
   "outputs": [
    {
     "data": {
      "text/plain": [
       "{'type': 'Point', 'coordinates': ['40.41703', '-3.70343']}"
      ]
     },
     "execution_count": 4,
     "metadata": {},
     "output_type": "execute_result"
    }
   ],
   "source": [
    "#We define \"name\", \"address\" and \"place\" for the Madrid location.\n",
    "city_name = \"Madrid\"\n",
    "city_address = \"Puerta del sol\"\n",
    "city_place = \"starbucks\"\n",
    "\n",
    "#We use format to parameterize the string that will receive geocode and be able to use it for each of the locations.\n",
    "geocode_address = f'{city_address}, {city_name}' \n",
    "\n",
    "#We search the coordinates for the location of Madrid using the function geocode.\n",
    "madrid = af.geocode(geocode_address)\n",
    "madrid"
   ]
  },
  {
   "cell_type": "code",
   "execution_count": 5,
   "id": "c96a9ca4",
   "metadata": {},
   "outputs": [
    {
     "data": {
      "text/plain": [
       "True"
      ]
     },
     "execution_count": 5,
     "metadata": {},
     "output_type": "execute_result"
    }
   ],
   "source": [
    "load_dotenv() "
   ]
  },
  {
   "cell_type": "code",
   "execution_count": 6,
   "id": "d830411e",
   "metadata": {},
   "outputs": [],
   "source": [
    "#To store our tokens in variables.\n",
    "client_id = os.getenv(\"tok1\")\n",
    "client_secret = os.getenv(\"tok2\")"
   ]
  },
  {
   "cell_type": "code",
   "execution_count": 7,
   "id": "f760a4bf",
   "metadata": {},
   "outputs": [],
   "source": [
    "#Define the URLs where we will make the API requests.\n",
    "url_query = 'https://api.foursquare.com/v2/venues/search' \n",
    "url_recomendados = 'https://api.foursquare.com/v2/venues/explore'"
   ]
  },
  {
   "cell_type": "markdown",
   "id": "24e5398c",
   "metadata": {},
   "source": [
    "## A.1. Find Starbucks in Madrid"
   ]
  },
  {
   "cell_type": "code",
   "execution_count": 8,
   "id": "d686a2ca",
   "metadata": {},
   "outputs": [],
   "source": [
    "#Call the function \"find_places\"\n",
    "madrid_starbucks_dict = af.find_places(\"starbucks\", madrid)"
   ]
  },
  {
   "cell_type": "code",
   "execution_count": 9,
   "id": "29c738d1",
   "metadata": {},
   "outputs": [],
   "source": [
    "#print(madrid_starbucks_dict)"
   ]
  },
  {
   "cell_type": "code",
   "execution_count": 10,
   "id": "61da9e1c",
   "metadata": {},
   "outputs": [
    {
     "data": {
      "text/html": [
       "<div>\n",
       "<style scoped>\n",
       "    .dataframe tbody tr th:only-of-type {\n",
       "        vertical-align: middle;\n",
       "    }\n",
       "\n",
       "    .dataframe tbody tr th {\n",
       "        vertical-align: top;\n",
       "    }\n",
       "\n",
       "    .dataframe thead th {\n",
       "        text-align: right;\n",
       "    }\n",
       "</style>\n",
       "<table border=\"1\" class=\"dataframe\">\n",
       "  <thead>\n",
       "    <tr style=\"text-align: right;\">\n",
       "      <th></th>\n",
       "      <th>nombre</th>\n",
       "      <th>latitud</th>\n",
       "      <th>longitud</th>\n",
       "      <th>location</th>\n",
       "    </tr>\n",
       "  </thead>\n",
       "  <tbody>\n",
       "    <tr>\n",
       "      <th>0</th>\n",
       "      <td>Starbucks</td>\n",
       "      <td>40.417195</td>\n",
       "      <td>-3.706119</td>\n",
       "      <td>{'type': 'Point', 'coordinates': [40.417195167...</td>\n",
       "    </tr>\n",
       "    <tr>\n",
       "      <th>1</th>\n",
       "      <td>Starbucks</td>\n",
       "      <td>40.417539</td>\n",
       "      <td>-3.702775</td>\n",
       "      <td>{'type': 'Point', 'coordinates': [40.417539, -...</td>\n",
       "    </tr>\n",
       "    <tr>\n",
       "      <th>2</th>\n",
       "      <td>Starbucks</td>\n",
       "      <td>40.420140</td>\n",
       "      <td>-3.702886</td>\n",
       "      <td>{'type': 'Point', 'coordinates': [40.420140393...</td>\n",
       "    </tr>\n",
       "    <tr>\n",
       "      <th>3</th>\n",
       "      <td>Starbucks</td>\n",
       "      <td>40.418038</td>\n",
       "      <td>-3.699372</td>\n",
       "      <td>{'type': 'Point', 'coordinates': [40.418038185...</td>\n",
       "    </tr>\n",
       "    <tr>\n",
       "      <th>4</th>\n",
       "      <td>Starbucks</td>\n",
       "      <td>40.417489</td>\n",
       "      <td>-3.704665</td>\n",
       "      <td>{'type': 'Point', 'coordinates': [40.417489421...</td>\n",
       "    </tr>\n",
       "  </tbody>\n",
       "</table>\n",
       "</div>"
      ],
      "text/plain": [
       "      nombre    latitud  longitud  \\\n",
       "0  Starbucks  40.417195 -3.706119   \n",
       "1  Starbucks  40.417539 -3.702775   \n",
       "2  Starbucks  40.420140 -3.702886   \n",
       "3  Starbucks  40.418038 -3.699372   \n",
       "4  Starbucks  40.417489 -3.704665   \n",
       "\n",
       "                                            location  \n",
       "0  {'type': 'Point', 'coordinates': [40.417195167...  \n",
       "1  {'type': 'Point', 'coordinates': [40.417539, -...  \n",
       "2  {'type': 'Point', 'coordinates': [40.420140393...  \n",
       "3  {'type': 'Point', 'coordinates': [40.418038185...  \n",
       "4  {'type': 'Point', 'coordinates': [40.417489421...  "
      ]
     },
     "execution_count": 10,
     "metadata": {},
     "output_type": "execute_result"
    }
   ],
   "source": [
    "#Call the function \"build_df\" to build a df from the dictionary obtained with \"find_places\"\n",
    "madrid_starbucks_df = af.build_df(madrid_starbucks_dict)\n",
    "madrid_starbucks_df.head()"
   ]
  },
  {
   "cell_type": "code",
   "execution_count": 11,
   "id": "b5c485ae",
   "metadata": {},
   "outputs": [],
   "source": [
    "#Call the function \"build_json\" to store the data in a json and save it. \n",
    "af.build_json(city_place, city_name, madrid_starbucks_dict)"
   ]
  },
  {
   "cell_type": "markdown",
   "id": "203c747b",
   "metadata": {},
   "source": [
    "## A.2. Find train stations in Madrid"
   ]
  },
  {
   "cell_type": "code",
   "execution_count": 12,
   "id": "837c0b8b",
   "metadata": {},
   "outputs": [],
   "source": [
    "city_place = \"stations\""
   ]
  },
  {
   "cell_type": "code",
   "execution_count": 13,
   "id": "9090dec3",
   "metadata": {},
   "outputs": [],
   "source": [
    "madrid_stations_dict = af.find_places(\"renfe\", madrid)"
   ]
  },
  {
   "cell_type": "code",
   "execution_count": 14,
   "id": "bd186c72",
   "metadata": {},
   "outputs": [
    {
     "data": {
      "text/html": [
       "<div>\n",
       "<style scoped>\n",
       "    .dataframe tbody tr th:only-of-type {\n",
       "        vertical-align: middle;\n",
       "    }\n",
       "\n",
       "    .dataframe tbody tr th {\n",
       "        vertical-align: top;\n",
       "    }\n",
       "\n",
       "    .dataframe thead th {\n",
       "        text-align: right;\n",
       "    }\n",
       "</style>\n",
       "<table border=\"1\" class=\"dataframe\">\n",
       "  <thead>\n",
       "    <tr style=\"text-align: right;\">\n",
       "      <th></th>\n",
       "      <th>nombre</th>\n",
       "      <th>latitud</th>\n",
       "      <th>longitud</th>\n",
       "      <th>location</th>\n",
       "    </tr>\n",
       "  </thead>\n",
       "  <tbody>\n",
       "    <tr>\n",
       "      <th>0</th>\n",
       "      <td>Renfe Oficina Estación de Madrid-Puerta de Atocha</td>\n",
       "      <td>40.407349</td>\n",
       "      <td>-3.690610</td>\n",
       "      <td>{'type': 'Point', 'coordinates': [40.407348773...</td>\n",
       "    </tr>\n",
       "    <tr>\n",
       "      <th>1</th>\n",
       "      <td>RENFE AVE</td>\n",
       "      <td>40.406506</td>\n",
       "      <td>-3.689947</td>\n",
       "      <td>{'type': 'Point', 'coordinates': [40.406506232...</td>\n",
       "    </tr>\n",
       "    <tr>\n",
       "      <th>2</th>\n",
       "      <td>Metro Atocha Renfe</td>\n",
       "      <td>40.406951</td>\n",
       "      <td>-3.689387</td>\n",
       "      <td>{'type': 'Point', 'coordinates': [40.406950836...</td>\n",
       "    </tr>\n",
       "    <tr>\n",
       "      <th>3</th>\n",
       "      <td>Parada Atocha Renfe - Línea Exprés Aeropuerto</td>\n",
       "      <td>40.406724</td>\n",
       "      <td>-3.689763</td>\n",
       "      <td>{'type': 'Point', 'coordinates': [40.406724103...</td>\n",
       "    </tr>\n",
       "    <tr>\n",
       "      <th>4</th>\n",
       "      <td>Renfe Media Distancia Extremadura</td>\n",
       "      <td>40.403725</td>\n",
       "      <td>-3.687638</td>\n",
       "      <td>{'type': 'Point', 'coordinates': [40.403725303...</td>\n",
       "    </tr>\n",
       "    <tr>\n",
       "      <th>5</th>\n",
       "      <td>Centro Cultural Deportivo Recreativo Renfe</td>\n",
       "      <td>40.397806</td>\n",
       "      <td>-3.690046</td>\n",
       "      <td>{'type': 'Point', 'coordinates': [40.397806063...</td>\n",
       "    </tr>\n",
       "    <tr>\n",
       "      <th>6</th>\n",
       "      <td>Informática Renfe Delicias</td>\n",
       "      <td>40.399633</td>\n",
       "      <td>-3.692631</td>\n",
       "      <td>{'type': 'Point', 'coordinates': [40.399632741...</td>\n",
       "    </tr>\n",
       "    <tr>\n",
       "      <th>7</th>\n",
       "      <td>Renfe Trenhotel Madrid-Chamartin To Barcelona-...</td>\n",
       "      <td>40.420924</td>\n",
       "      <td>-3.711188</td>\n",
       "      <td>{'type': 'Point', 'coordinates': [40.420923963...</td>\n",
       "    </tr>\n",
       "    <tr>\n",
       "      <th>8</th>\n",
       "      <td>Comedores de RENFE</td>\n",
       "      <td>40.398683</td>\n",
       "      <td>-3.692314</td>\n",
       "      <td>{'type': 'Point', 'coordinates': [40.398683339...</td>\n",
       "    </tr>\n",
       "    <tr>\n",
       "      <th>9</th>\n",
       "      <td>Cercanías Sol</td>\n",
       "      <td>40.416943</td>\n",
       "      <td>-3.703006</td>\n",
       "      <td>{'type': 'Point', 'coordinates': [40.416942649...</td>\n",
       "    </tr>\n",
       "    <tr>\n",
       "      <th>10</th>\n",
       "      <td>RENFE ADIF</td>\n",
       "      <td>40.474039</td>\n",
       "      <td>-3.679074</td>\n",
       "      <td>{'type': 'Point', 'coordinates': [40.474038906...</td>\n",
       "    </tr>\n",
       "    <tr>\n",
       "      <th>11</th>\n",
       "      <td>Colección de Escultura Contemporánea Renfe</td>\n",
       "      <td>40.409950</td>\n",
       "      <td>-3.697045</td>\n",
       "      <td>{'type': 'Point', 'coordinates': [40.4099504, ...</td>\n",
       "    </tr>\n",
       "    <tr>\n",
       "      <th>12</th>\n",
       "      <td>Metro Sol</td>\n",
       "      <td>40.416882</td>\n",
       "      <td>-3.703038</td>\n",
       "      <td>{'type': 'Point', 'coordinates': [40.416881555...</td>\n",
       "    </tr>\n",
       "    <tr>\n",
       "      <th>13</th>\n",
       "      <td>Estación de Madrid-Puerta de Atocha</td>\n",
       "      <td>40.406403</td>\n",
       "      <td>-3.689550</td>\n",
       "      <td>{'type': 'Point', 'coordinates': [40.406402503...</td>\n",
       "    </tr>\n",
       "    <tr>\n",
       "      <th>14</th>\n",
       "      <td>Renfe Madrid - Alcazar De San Juan</td>\n",
       "      <td>40.406144</td>\n",
       "      <td>-3.689461</td>\n",
       "      <td>{'type': 'Point', 'coordinates': [40.406143509...</td>\n",
       "    </tr>\n",
       "    <tr>\n",
       "      <th>15</th>\n",
       "      <td>Renfe AVE 5110 Madrid - Valencia</td>\n",
       "      <td>40.406076</td>\n",
       "      <td>-3.689831</td>\n",
       "      <td>{'type': 'Point', 'coordinates': [40.406076, -...</td>\n",
       "    </tr>\n",
       "    <tr>\n",
       "      <th>16</th>\n",
       "      <td>Renfe MD-17900 Madrid-Illescas-Merida-Huelva</td>\n",
       "      <td>40.406404</td>\n",
       "      <td>-3.689332</td>\n",
       "      <td>{'type': 'Point', 'coordinates': [40.406403625...</td>\n",
       "    </tr>\n",
       "    <tr>\n",
       "      <th>17</th>\n",
       "      <td>RENFE-Cercanías C-3 Madrid-Getafe-Aranjuez</td>\n",
       "      <td>40.406563</td>\n",
       "      <td>-3.689129</td>\n",
       "      <td>{'type': 'Point', 'coordinates': [40.406563, -...</td>\n",
       "    </tr>\n",
       "    <tr>\n",
       "      <th>18</th>\n",
       "      <td>renfe media distancia Salamanca</td>\n",
       "      <td>40.473127</td>\n",
       "      <td>-3.681491</td>\n",
       "      <td>{'type': 'Point', 'coordinates': [40.473127223...</td>\n",
       "    </tr>\n",
       "    <tr>\n",
       "      <th>19</th>\n",
       "      <td>renfe 05162 madrid-alicante</td>\n",
       "      <td>40.405481</td>\n",
       "      <td>-3.688507</td>\n",
       "      <td>{'type': 'Point', 'coordinates': [40.405481, -...</td>\n",
       "    </tr>\n",
       "    <tr>\n",
       "      <th>20</th>\n",
       "      <td>RENFE 02072 MAD - MAL</td>\n",
       "      <td>40.404086</td>\n",
       "      <td>-3.688431</td>\n",
       "      <td>{'type': 'Point', 'coordinates': [40.404086137...</td>\n",
       "    </tr>\n",
       "    <tr>\n",
       "      <th>21</th>\n",
       "      <td>Renfe 02130</td>\n",
       "      <td>40.403602</td>\n",
       "      <td>-3.687626</td>\n",
       "      <td>{'type': 'Point', 'coordinates': [40.403602, -...</td>\n",
       "    </tr>\n",
       "    <tr>\n",
       "      <th>22</th>\n",
       "      <td>Quiosco de helados Metro Atocha Renfe</td>\n",
       "      <td>40.407417</td>\n",
       "      <td>-3.689188</td>\n",
       "      <td>{'type': 'Point', 'coordinates': [40.407417, -...</td>\n",
       "    </tr>\n",
       "    <tr>\n",
       "      <th>23</th>\n",
       "      <td>Renfe Direccion General De Viajeros</td>\n",
       "      <td>40.405425</td>\n",
       "      <td>-3.685241</td>\n",
       "      <td>{'type': 'Point', 'coordinates': [40.405425435...</td>\n",
       "    </tr>\n",
       "    <tr>\n",
       "      <th>24</th>\n",
       "      <td>SIXT Alquiler de Coches y Furgonetas | Madrid ...</td>\n",
       "      <td>40.471733</td>\n",
       "      <td>-3.681802</td>\n",
       "      <td>{'type': 'Point', 'coordinates': [40.471733, -...</td>\n",
       "    </tr>\n",
       "    <tr>\n",
       "      <th>25</th>\n",
       "      <td>Sala Club RENFE Lounge Chamartín</td>\n",
       "      <td>40.473950</td>\n",
       "      <td>-3.680669</td>\n",
       "      <td>{'type': 'Point', 'coordinates': [40.473950027...</td>\n",
       "    </tr>\n",
       "    <tr>\n",
       "      <th>26</th>\n",
       "      <td>Estación de Cercanías de Madrid-Atocha</td>\n",
       "      <td>40.405497</td>\n",
       "      <td>-3.688216</td>\n",
       "      <td>{'type': 'Point', 'coordinates': [40.405496649...</td>\n",
       "    </tr>\n",
       "    <tr>\n",
       "      <th>27</th>\n",
       "      <td>Mantenimiento Renfe Cercanias Principe Pio</td>\n",
       "      <td>40.426107</td>\n",
       "      <td>-3.724784</td>\n",
       "      <td>{'type': 'Point', 'coordinates': [40.426107, -...</td>\n",
       "    </tr>\n",
       "    <tr>\n",
       "      <th>28</th>\n",
       "      <td>Auxilio Social Comedor Laboral Renfe</td>\n",
       "      <td>40.405116</td>\n",
       "      <td>-3.685488</td>\n",
       "      <td>{'type': 'Point', 'coordinates': [40.405116366...</td>\n",
       "    </tr>\n",
       "    <tr>\n",
       "      <th>29</th>\n",
       "      <td>Talleres De Renfe En Villaverde</td>\n",
       "      <td>40.407201</td>\n",
       "      <td>-3.682152</td>\n",
       "      <td>{'type': 'Point', 'coordinates': [40.407201057...</td>\n",
       "    </tr>\n",
       "  </tbody>\n",
       "</table>\n",
       "</div>"
      ],
      "text/plain": [
       "                                               nombre    latitud  longitud  \\\n",
       "0   Renfe Oficina Estación de Madrid-Puerta de Atocha  40.407349 -3.690610   \n",
       "1                                           RENFE AVE  40.406506 -3.689947   \n",
       "2                                  Metro Atocha Renfe  40.406951 -3.689387   \n",
       "3       Parada Atocha Renfe - Línea Exprés Aeropuerto  40.406724 -3.689763   \n",
       "4                   Renfe Media Distancia Extremadura  40.403725 -3.687638   \n",
       "5          Centro Cultural Deportivo Recreativo Renfe  40.397806 -3.690046   \n",
       "6                          Informática Renfe Delicias  40.399633 -3.692631   \n",
       "7   Renfe Trenhotel Madrid-Chamartin To Barcelona-...  40.420924 -3.711188   \n",
       "8                                  Comedores de RENFE  40.398683 -3.692314   \n",
       "9                                       Cercanías Sol  40.416943 -3.703006   \n",
       "10                                         RENFE ADIF  40.474039 -3.679074   \n",
       "11         Colección de Escultura Contemporánea Renfe  40.409950 -3.697045   \n",
       "12                                          Metro Sol  40.416882 -3.703038   \n",
       "13                Estación de Madrid-Puerta de Atocha  40.406403 -3.689550   \n",
       "14                 Renfe Madrid - Alcazar De San Juan  40.406144 -3.689461   \n",
       "15                   Renfe AVE 5110 Madrid - Valencia  40.406076 -3.689831   \n",
       "16       Renfe MD-17900 Madrid-Illescas-Merida-Huelva  40.406404 -3.689332   \n",
       "17         RENFE-Cercanías C-3 Madrid-Getafe-Aranjuez  40.406563 -3.689129   \n",
       "18                    renfe media distancia Salamanca  40.473127 -3.681491   \n",
       "19                        renfe 05162 madrid-alicante  40.405481 -3.688507   \n",
       "20                              RENFE 02072 MAD - MAL  40.404086 -3.688431   \n",
       "21                                        Renfe 02130  40.403602 -3.687626   \n",
       "22              Quiosco de helados Metro Atocha Renfe  40.407417 -3.689188   \n",
       "23                Renfe Direccion General De Viajeros  40.405425 -3.685241   \n",
       "24  SIXT Alquiler de Coches y Furgonetas | Madrid ...  40.471733 -3.681802   \n",
       "25                   Sala Club RENFE Lounge Chamartín  40.473950 -3.680669   \n",
       "26             Estación de Cercanías de Madrid-Atocha  40.405497 -3.688216   \n",
       "27         Mantenimiento Renfe Cercanias Principe Pio  40.426107 -3.724784   \n",
       "28               Auxilio Social Comedor Laboral Renfe  40.405116 -3.685488   \n",
       "29                    Talleres De Renfe En Villaverde  40.407201 -3.682152   \n",
       "\n",
       "                                             location  \n",
       "0   {'type': 'Point', 'coordinates': [40.407348773...  \n",
       "1   {'type': 'Point', 'coordinates': [40.406506232...  \n",
       "2   {'type': 'Point', 'coordinates': [40.406950836...  \n",
       "3   {'type': 'Point', 'coordinates': [40.406724103...  \n",
       "4   {'type': 'Point', 'coordinates': [40.403725303...  \n",
       "5   {'type': 'Point', 'coordinates': [40.397806063...  \n",
       "6   {'type': 'Point', 'coordinates': [40.399632741...  \n",
       "7   {'type': 'Point', 'coordinates': [40.420923963...  \n",
       "8   {'type': 'Point', 'coordinates': [40.398683339...  \n",
       "9   {'type': 'Point', 'coordinates': [40.416942649...  \n",
       "10  {'type': 'Point', 'coordinates': [40.474038906...  \n",
       "11  {'type': 'Point', 'coordinates': [40.4099504, ...  \n",
       "12  {'type': 'Point', 'coordinates': [40.416881555...  \n",
       "13  {'type': 'Point', 'coordinates': [40.406402503...  \n",
       "14  {'type': 'Point', 'coordinates': [40.406143509...  \n",
       "15  {'type': 'Point', 'coordinates': [40.406076, -...  \n",
       "16  {'type': 'Point', 'coordinates': [40.406403625...  \n",
       "17  {'type': 'Point', 'coordinates': [40.406563, -...  \n",
       "18  {'type': 'Point', 'coordinates': [40.473127223...  \n",
       "19  {'type': 'Point', 'coordinates': [40.405481, -...  \n",
       "20  {'type': 'Point', 'coordinates': [40.404086137...  \n",
       "21  {'type': 'Point', 'coordinates': [40.403602, -...  \n",
       "22  {'type': 'Point', 'coordinates': [40.407417, -...  \n",
       "23  {'type': 'Point', 'coordinates': [40.405425435...  \n",
       "24  {'type': 'Point', 'coordinates': [40.471733, -...  \n",
       "25  {'type': 'Point', 'coordinates': [40.473950027...  \n",
       "26  {'type': 'Point', 'coordinates': [40.405496649...  \n",
       "27  {'type': 'Point', 'coordinates': [40.426107, -...  \n",
       "28  {'type': 'Point', 'coordinates': [40.405116366...  \n",
       "29  {'type': 'Point', 'coordinates': [40.407201057...  "
      ]
     },
     "execution_count": 14,
     "metadata": {},
     "output_type": "execute_result"
    }
   ],
   "source": [
    "madrid_stations_df = af.build_df(madrid_stations_dict)\n",
    "madrid_stations_df"
   ]
  },
  {
   "cell_type": "code",
   "execution_count": 15,
   "id": "e279d498",
   "metadata": {},
   "outputs": [],
   "source": [
    "#madrid_stations_df.nombre.unique()"
   ]
  },
  {
   "cell_type": "code",
   "execution_count": 16,
   "id": "588f2216",
   "metadata": {},
   "outputs": [],
   "source": [
    "af.build_json(city_place, city_name, madrid_stations_dict)"
   ]
  },
  {
   "cell_type": "markdown",
   "id": "d992734a",
   "metadata": {},
   "source": [
    "## A.3. Find vegan restaurants in Madrid"
   ]
  },
  {
   "cell_type": "code",
   "execution_count": 17,
   "id": "80f3ea54",
   "metadata": {},
   "outputs": [],
   "source": [
    "city_place = \"vegan\""
   ]
  },
  {
   "cell_type": "code",
   "execution_count": 18,
   "id": "edc94caf",
   "metadata": {},
   "outputs": [],
   "source": [
    "madrid_vegans_dict = af.find_places(\"vegano\", madrid)\n",
    "#madrid_vegans_dict"
   ]
  },
  {
   "cell_type": "code",
   "execution_count": 19,
   "id": "4a6e98e3",
   "metadata": {},
   "outputs": [],
   "source": [
    "madrid_vegans_df = af.build_df(madrid_vegans_dict)\n",
    "#madrid_vegans_df"
   ]
  },
  {
   "cell_type": "code",
   "execution_count": 20,
   "id": "ece8043c",
   "metadata": {},
   "outputs": [
    {
     "data": {
      "text/html": [
       "<div>\n",
       "<style scoped>\n",
       "    .dataframe tbody tr th:only-of-type {\n",
       "        vertical-align: middle;\n",
       "    }\n",
       "\n",
       "    .dataframe tbody tr th {\n",
       "        vertical-align: top;\n",
       "    }\n",
       "\n",
       "    .dataframe thead th {\n",
       "        text-align: right;\n",
       "    }\n",
       "</style>\n",
       "<table border=\"1\" class=\"dataframe\">\n",
       "  <thead>\n",
       "    <tr style=\"text-align: right;\">\n",
       "      <th></th>\n",
       "      <th>nombre</th>\n",
       "      <th>latitud</th>\n",
       "      <th>longitud</th>\n",
       "      <th>location</th>\n",
       "    </tr>\n",
       "  </thead>\n",
       "  <tbody>\n",
       "    <tr>\n",
       "      <th>0</th>\n",
       "      <td>RESTAURANTE VEGANO PLANT GRILL</td>\n",
       "      <td>40.415583</td>\n",
       "      <td>-3.701298</td>\n",
       "      <td>{'type': 'Point', 'coordinates': [40.415583141...</td>\n",
       "    </tr>\n",
       "    <tr>\n",
       "      <th>1</th>\n",
       "      <td>Planeta Vegano</td>\n",
       "      <td>40.410285</td>\n",
       "      <td>-3.700524</td>\n",
       "      <td>{'type': 'Point', 'coordinates': [40.410285211...</td>\n",
       "    </tr>\n",
       "    <tr>\n",
       "      <th>2</th>\n",
       "      <td>Planeta Vegano</td>\n",
       "      <td>40.408534</td>\n",
       "      <td>-3.700901</td>\n",
       "      <td>{'type': 'Point', 'coordinates': [40.408533876...</td>\n",
       "    </tr>\n",
       "    <tr>\n",
       "      <th>3</th>\n",
       "      <td>Distrito Vegano</td>\n",
       "      <td>40.406972</td>\n",
       "      <td>-3.699679</td>\n",
       "      <td>{'type': 'Point', 'coordinates': [40.406972037...</td>\n",
       "    </tr>\n",
       "    <tr>\n",
       "      <th>4</th>\n",
       "      <td>El Templo Vegano</td>\n",
       "      <td>40.426277</td>\n",
       "      <td>-3.699349</td>\n",
       "      <td>{'type': 'Point', 'coordinates': [40.426277, -...</td>\n",
       "    </tr>\n",
       "    <tr>\n",
       "      <th>5</th>\n",
       "      <td>Punto Vegano</td>\n",
       "      <td>40.424821</td>\n",
       "      <td>-3.715852</td>\n",
       "      <td>{'type': 'Point', 'coordinates': [40.424821212...</td>\n",
       "    </tr>\n",
       "    <tr>\n",
       "      <th>7</th>\n",
       "      <td>Encuentro Vegano</td>\n",
       "      <td>40.406691</td>\n",
       "      <td>-3.639279</td>\n",
       "      <td>{'type': 'Point', 'coordinates': [40.406691, -...</td>\n",
       "    </tr>\n",
       "    <tr>\n",
       "      <th>9</th>\n",
       "      <td>Vegano's</td>\n",
       "      <td>40.408641</td>\n",
       "      <td>-3.891513</td>\n",
       "      <td>{'type': 'Point', 'coordinates': [40.408641, -...</td>\n",
       "    </tr>\n",
       "  </tbody>\n",
       "</table>\n",
       "</div>"
      ],
      "text/plain": [
       "                           nombre    latitud  longitud  \\\n",
       "0  RESTAURANTE VEGANO PLANT GRILL  40.415583 -3.701298   \n",
       "1                  Planeta Vegano  40.410285 -3.700524   \n",
       "2                  Planeta Vegano  40.408534 -3.700901   \n",
       "3                 Distrito Vegano  40.406972 -3.699679   \n",
       "4                El Templo Vegano  40.426277 -3.699349   \n",
       "5                    Punto Vegano  40.424821 -3.715852   \n",
       "7                Encuentro Vegano  40.406691 -3.639279   \n",
       "9                        Vegano's  40.408641 -3.891513   \n",
       "\n",
       "                                            location  \n",
       "0  {'type': 'Point', 'coordinates': [40.415583141...  \n",
       "1  {'type': 'Point', 'coordinates': [40.410285211...  \n",
       "2  {'type': 'Point', 'coordinates': [40.408533876...  \n",
       "3  {'type': 'Point', 'coordinates': [40.406972037...  \n",
       "4  {'type': 'Point', 'coordinates': [40.426277, -...  \n",
       "5  {'type': 'Point', 'coordinates': [40.424821212...  \n",
       "7  {'type': 'Point', 'coordinates': [40.406691, -...  \n",
       "9  {'type': 'Point', 'coordinates': [40.408641, -...  "
      ]
     },
     "execution_count": 20,
     "metadata": {},
     "output_type": "execute_result"
    }
   ],
   "source": [
    "madrid_vegans_df_1 = madrid_vegans_df.drop([6,8,10],axis=0)\n",
    "madrid_vegans_df_1"
   ]
  },
  {
   "cell_type": "code",
   "execution_count": 21,
   "id": "d9ddb997",
   "metadata": {},
   "outputs": [],
   "source": [
    "af.build_json(city_place, city_name, madrid_vegans_dict)"
   ]
  },
  {
   "cell_type": "markdown",
   "id": "2cb82194",
   "metadata": {},
   "source": [
    "## A.4.  Find pet hairdresser in Madrid"
   ]
  },
  {
   "cell_type": "code",
   "execution_count": 22,
   "id": "343fef6c",
   "metadata": {},
   "outputs": [],
   "source": [
    "city_place = \"pets\""
   ]
  },
  {
   "cell_type": "code",
   "execution_count": 23,
   "id": "6fde8d15",
   "metadata": {},
   "outputs": [],
   "source": [
    "madrid_pets_dict = af.find_places(\"peluqueria canina\", madrid)"
   ]
  },
  {
   "cell_type": "code",
   "execution_count": 24,
   "id": "8ba4d855",
   "metadata": {},
   "outputs": [
    {
     "data": {
      "text/html": [
       "<div>\n",
       "<style scoped>\n",
       "    .dataframe tbody tr th:only-of-type {\n",
       "        vertical-align: middle;\n",
       "    }\n",
       "\n",
       "    .dataframe tbody tr th {\n",
       "        vertical-align: top;\n",
       "    }\n",
       "\n",
       "    .dataframe thead th {\n",
       "        text-align: right;\n",
       "    }\n",
       "</style>\n",
       "<table border=\"1\" class=\"dataframe\">\n",
       "  <thead>\n",
       "    <tr style=\"text-align: right;\">\n",
       "      <th></th>\n",
       "      <th>nombre</th>\n",
       "      <th>latitud</th>\n",
       "      <th>longitud</th>\n",
       "      <th>location</th>\n",
       "    </tr>\n",
       "  </thead>\n",
       "  <tbody>\n",
       "    <tr>\n",
       "      <th>0</th>\n",
       "      <td>petworks peluquería canina &amp; animal boutique</td>\n",
       "      <td>40.402467</td>\n",
       "      <td>-3.708326</td>\n",
       "      <td>{'type': 'Point', 'coordinates': [40.402467291...</td>\n",
       "    </tr>\n",
       "    <tr>\n",
       "      <th>1</th>\n",
       "      <td>Peluquería Canina Oh my dog</td>\n",
       "      <td>40.398848</td>\n",
       "      <td>-3.700395</td>\n",
       "      <td>{'type': 'Point', 'coordinates': [40.398848145...</td>\n",
       "    </tr>\n",
       "    <tr>\n",
       "      <th>2</th>\n",
       "      <td>Peluquería canina. Nudogs</td>\n",
       "      <td>40.426059</td>\n",
       "      <td>-3.730614</td>\n",
       "      <td>{'type': 'Point', 'coordinates': [40.426059473...</td>\n",
       "    </tr>\n",
       "    <tr>\n",
       "      <th>3</th>\n",
       "      <td>peluquería canina Daniela Vallejo</td>\n",
       "      <td>40.366642</td>\n",
       "      <td>-3.549458</td>\n",
       "      <td>{'type': 'Point', 'coordinates': [40.366642440...</td>\n",
       "    </tr>\n",
       "    <tr>\n",
       "      <th>4</th>\n",
       "      <td>Peluquería Canina Bichillos</td>\n",
       "      <td>40.338966</td>\n",
       "      <td>-3.867538</td>\n",
       "      <td>{'type': 'Point', 'coordinates': [40.338965750...</td>\n",
       "    </tr>\n",
       "  </tbody>\n",
       "</table>\n",
       "</div>"
      ],
      "text/plain": [
       "                                         nombre    latitud  longitud  \\\n",
       "0  petworks peluquería canina & animal boutique  40.402467 -3.708326   \n",
       "1                   Peluquería Canina Oh my dog  40.398848 -3.700395   \n",
       "2                     Peluquería canina. Nudogs  40.426059 -3.730614   \n",
       "3             peluquería canina Daniela Vallejo  40.366642 -3.549458   \n",
       "4                   Peluquería Canina Bichillos  40.338966 -3.867538   \n",
       "\n",
       "                                            location  \n",
       "0  {'type': 'Point', 'coordinates': [40.402467291...  \n",
       "1  {'type': 'Point', 'coordinates': [40.398848145...  \n",
       "2  {'type': 'Point', 'coordinates': [40.426059473...  \n",
       "3  {'type': 'Point', 'coordinates': [40.366642440...  \n",
       "4  {'type': 'Point', 'coordinates': [40.338965750...  "
      ]
     },
     "execution_count": 24,
     "metadata": {},
     "output_type": "execute_result"
    }
   ],
   "source": [
    "madrid_pets_df = af.build_df(madrid_pets_dict)\n",
    "madrid_pets_df.head()"
   ]
  },
  {
   "cell_type": "code",
   "execution_count": 25,
   "id": "0aa006d8",
   "metadata": {},
   "outputs": [],
   "source": [
    "af.build_json(city_place, city_name, madrid_pets_dict)"
   ]
  },
  {
   "cell_type": "markdown",
   "id": "4e432e2b",
   "metadata": {},
   "source": [
    "## B. Barcelona"
   ]
  },
  {
   "cell_type": "code",
   "execution_count": 26,
   "id": "fc6852a4",
   "metadata": {},
   "outputs": [
    {
     "data": {
      "text/plain": [
       "{'type': 'Point', 'coordinates': ['41.38781', '2.16920']}"
      ]
     },
     "execution_count": 26,
     "metadata": {},
     "output_type": "execute_result"
    }
   ],
   "source": [
    "#We define \"name\", \"address\" and \"place\" for the Madrid location.\n",
    "city_name = \"Barcelona\"\n",
    "city_address = \"Plaça de Catalunya\"\n",
    "\n",
    "\n",
    "#We use format to parameterize the string that will receive geocode and be able to use it for each of the locations.\n",
    "geocode_address = f'{city_address}, {city_name}' \n",
    "\n",
    "#We search the coordinates for the location of Madrid using the function geocode.\n",
    "barcelona = af.geocode(geocode_address)\n",
    "barcelona"
   ]
  },
  {
   "cell_type": "markdown",
   "id": "959c8014",
   "metadata": {},
   "source": [
    "## B.1. Find Starbucks in Barcelona"
   ]
  },
  {
   "cell_type": "code",
   "execution_count": 27,
   "id": "86c50312",
   "metadata": {},
   "outputs": [],
   "source": [
    "city_place = \"starbucks\""
   ]
  },
  {
   "cell_type": "code",
   "execution_count": 28,
   "id": "570a3ee4",
   "metadata": {},
   "outputs": [],
   "source": [
    "barcelona_starbucks_dict = af.find_places(\"starbucks\", barcelona)"
   ]
  },
  {
   "cell_type": "code",
   "execution_count": 29,
   "id": "539d0826",
   "metadata": {},
   "outputs": [
    {
     "data": {
      "text/html": [
       "<div>\n",
       "<style scoped>\n",
       "    .dataframe tbody tr th:only-of-type {\n",
       "        vertical-align: middle;\n",
       "    }\n",
       "\n",
       "    .dataframe tbody tr th {\n",
       "        vertical-align: top;\n",
       "    }\n",
       "\n",
       "    .dataframe thead th {\n",
       "        text-align: right;\n",
       "    }\n",
       "</style>\n",
       "<table border=\"1\" class=\"dataframe\">\n",
       "  <thead>\n",
       "    <tr style=\"text-align: right;\">\n",
       "      <th></th>\n",
       "      <th>nombre</th>\n",
       "      <th>latitud</th>\n",
       "      <th>longitud</th>\n",
       "      <th>location</th>\n",
       "    </tr>\n",
       "  </thead>\n",
       "  <tbody>\n",
       "    <tr>\n",
       "      <th>0</th>\n",
       "      <td>Starbucks Rambla Cataluña</td>\n",
       "      <td>41.387954</td>\n",
       "      <td>2.167901</td>\n",
       "      <td>{'type': 'Point', 'coordinates': [41.387953542...</td>\n",
       "    </tr>\n",
       "    <tr>\n",
       "      <th>1</th>\n",
       "      <td>Starbucks Pelai</td>\n",
       "      <td>41.385805</td>\n",
       "      <td>2.167858</td>\n",
       "      <td>{'type': 'Point', 'coordinates': [41.385804589...</td>\n",
       "    </tr>\n",
       "    <tr>\n",
       "      <th>2</th>\n",
       "      <td>Starbucks Rambla Canaletas</td>\n",
       "      <td>41.383485</td>\n",
       "      <td>2.171382</td>\n",
       "      <td>{'type': 'Point', 'coordinates': [41.383485318...</td>\n",
       "    </tr>\n",
       "    <tr>\n",
       "      <th>3</th>\n",
       "      <td>Starbucks Plaza Universitat</td>\n",
       "      <td>41.386418</td>\n",
       "      <td>2.165150</td>\n",
       "      <td>{'type': 'Point', 'coordinates': [41.386417656...</td>\n",
       "    </tr>\n",
       "    <tr>\n",
       "      <th>4</th>\n",
       "      <td>Starbucks Sant Pere</td>\n",
       "      <td>41.388783</td>\n",
       "      <td>2.172063</td>\n",
       "      <td>{'type': 'Point', 'coordinates': [41.388782617...</td>\n",
       "    </tr>\n",
       "  </tbody>\n",
       "</table>\n",
       "</div>"
      ],
      "text/plain": [
       "                        nombre    latitud  longitud  \\\n",
       "0    Starbucks Rambla Cataluña  41.387954  2.167901   \n",
       "1              Starbucks Pelai  41.385805  2.167858   \n",
       "2   Starbucks Rambla Canaletas  41.383485  2.171382   \n",
       "3  Starbucks Plaza Universitat  41.386418  2.165150   \n",
       "4          Starbucks Sant Pere  41.388783  2.172063   \n",
       "\n",
       "                                            location  \n",
       "0  {'type': 'Point', 'coordinates': [41.387953542...  \n",
       "1  {'type': 'Point', 'coordinates': [41.385804589...  \n",
       "2  {'type': 'Point', 'coordinates': [41.383485318...  \n",
       "3  {'type': 'Point', 'coordinates': [41.386417656...  \n",
       "4  {'type': 'Point', 'coordinates': [41.388782617...  "
      ]
     },
     "execution_count": 29,
     "metadata": {},
     "output_type": "execute_result"
    }
   ],
   "source": [
    "barcelona_starbucks_df = af.build_df(barcelona_starbucks_dict)\n",
    "barcelona_starbucks_df.head()"
   ]
  },
  {
   "cell_type": "code",
   "execution_count": 30,
   "id": "d7be5d3e",
   "metadata": {},
   "outputs": [],
   "source": [
    "af.build_json(city_place, city_name, barcelona_starbucks_dict)"
   ]
  },
  {
   "cell_type": "markdown",
   "id": "f80900c2",
   "metadata": {},
   "source": [
    "## B.2. Find train stations in Barcelona"
   ]
  },
  {
   "cell_type": "code",
   "execution_count": 31,
   "id": "f0a1f61b",
   "metadata": {},
   "outputs": [],
   "source": [
    "city_place = \"stations\""
   ]
  },
  {
   "cell_type": "code",
   "execution_count": 32,
   "id": "84f6e74d",
   "metadata": {},
   "outputs": [],
   "source": [
    "barcelona_stations_dict = af.find_places(\"renfe\", barcelona)"
   ]
  },
  {
   "cell_type": "code",
   "execution_count": 33,
   "id": "9925dbc0",
   "metadata": {},
   "outputs": [
    {
     "data": {
      "text/html": [
       "<div>\n",
       "<style scoped>\n",
       "    .dataframe tbody tr th:only-of-type {\n",
       "        vertical-align: middle;\n",
       "    }\n",
       "\n",
       "    .dataframe tbody tr th {\n",
       "        vertical-align: top;\n",
       "    }\n",
       "\n",
       "    .dataframe thead th {\n",
       "        text-align: right;\n",
       "    }\n",
       "</style>\n",
       "<table border=\"1\" class=\"dataframe\">\n",
       "  <thead>\n",
       "    <tr style=\"text-align: right;\">\n",
       "      <th></th>\n",
       "      <th>nombre</th>\n",
       "      <th>latitud</th>\n",
       "      <th>longitud</th>\n",
       "      <th>location</th>\n",
       "    </tr>\n",
       "  </thead>\n",
       "  <tbody>\n",
       "    <tr>\n",
       "      <th>0</th>\n",
       "      <td>RENFE Plaça de Catalunya</td>\n",
       "      <td>41.387465</td>\n",
       "      <td>2.168987</td>\n",
       "      <td>{'type': 'Point', 'coordinates': [41.387464725...</td>\n",
       "    </tr>\n",
       "    <tr>\n",
       "      <th>1</th>\n",
       "      <td>RENFE Passeig de Gràcia (Estación RENFE Passei...</td>\n",
       "      <td>41.392671</td>\n",
       "      <td>2.165654</td>\n",
       "      <td>{'type': 'Point', 'coordinates': [41.392671009...</td>\n",
       "    </tr>\n",
       "    <tr>\n",
       "      <th>2</th>\n",
       "      <td>RENFE Arc de Triomf</td>\n",
       "      <td>41.393026</td>\n",
       "      <td>2.181853</td>\n",
       "      <td>{'type': 'Point', 'coordinates': [41.393026487...</td>\n",
       "    </tr>\n",
       "    <tr>\n",
       "      <th>3</th>\n",
       "      <td>Cafè RENFE</td>\n",
       "      <td>41.388991</td>\n",
       "      <td>2.167678</td>\n",
       "      <td>{'type': 'Point', 'coordinates': [41.388991383...</td>\n",
       "    </tr>\n",
       "    <tr>\n",
       "      <th>4</th>\n",
       "      <td>RENFE Barcelona Sants - anden 5</td>\n",
       "      <td>41.387713</td>\n",
       "      <td>2.169367</td>\n",
       "      <td>{'type': 'Point', 'coordinates': [41.387712661...</td>\n",
       "    </tr>\n",
       "  </tbody>\n",
       "</table>\n",
       "</div>"
      ],
      "text/plain": [
       "                                              nombre    latitud  longitud  \\\n",
       "0                           RENFE Plaça de Catalunya  41.387465  2.168987   \n",
       "1  RENFE Passeig de Gràcia (Estación RENFE Passei...  41.392671  2.165654   \n",
       "2                                RENFE Arc de Triomf  41.393026  2.181853   \n",
       "3                                         Cafè RENFE  41.388991  2.167678   \n",
       "4                    RENFE Barcelona Sants - anden 5  41.387713  2.169367   \n",
       "\n",
       "                                            location  \n",
       "0  {'type': 'Point', 'coordinates': [41.387464725...  \n",
       "1  {'type': 'Point', 'coordinates': [41.392671009...  \n",
       "2  {'type': 'Point', 'coordinates': [41.393026487...  \n",
       "3  {'type': 'Point', 'coordinates': [41.388991383...  \n",
       "4  {'type': 'Point', 'coordinates': [41.387712661...  "
      ]
     },
     "execution_count": 33,
     "metadata": {},
     "output_type": "execute_result"
    }
   ],
   "source": [
    "barcelona_stations_df = af.build_df(barcelona_stations_dict)\n",
    "barcelona_stations_df.head()"
   ]
  },
  {
   "cell_type": "code",
   "execution_count": 34,
   "id": "d3801c90",
   "metadata": {},
   "outputs": [],
   "source": [
    "af.build_json(city_place, city_name, barcelona_stations_dict)"
   ]
  },
  {
   "cell_type": "markdown",
   "id": "11e452bb",
   "metadata": {},
   "source": [
    "## B.3. Find vegan restaurants in Barcelona"
   ]
  },
  {
   "cell_type": "code",
   "execution_count": 35,
   "id": "50513dd5",
   "metadata": {},
   "outputs": [],
   "source": [
    "city_place = \"vegan\""
   ]
  },
  {
   "cell_type": "code",
   "execution_count": 36,
   "id": "76d9bb1a",
   "metadata": {},
   "outputs": [],
   "source": [
    "barcelona_vegans_dict = af.find_places(\"vegan\", barcelona)"
   ]
  },
  {
   "cell_type": "code",
   "execution_count": 37,
   "id": "9cb17320",
   "metadata": {},
   "outputs": [],
   "source": [
    "barcelona_vegans_df = af.build_df(barcelona_vegans_dict)\n",
    "#barcelona_vegans_df.head()"
   ]
  },
  {
   "cell_type": "code",
   "execution_count": 38,
   "id": "254df636",
   "metadata": {},
   "outputs": [],
   "source": [
    "#barcelona_vegans_df.nombre.unique()"
   ]
  },
  {
   "cell_type": "code",
   "execution_count": 39,
   "id": "b91981bf",
   "metadata": {},
   "outputs": [],
   "source": [
    "af.build_json(city_place, city_name, barcelona_vegans_dict)"
   ]
  },
  {
   "cell_type": "markdown",
   "id": "b1a627bf",
   "metadata": {},
   "source": [
    "## B.4. Find pets hairdressers in Barcelona"
   ]
  },
  {
   "cell_type": "code",
   "execution_count": 40,
   "id": "0c2d45ce",
   "metadata": {},
   "outputs": [],
   "source": [
    "city_place = \"pets\""
   ]
  },
  {
   "cell_type": "code",
   "execution_count": 41,
   "id": "355443fc",
   "metadata": {},
   "outputs": [],
   "source": [
    "barcelona_pets_dict = af.find_places(\"peluqueria canina\", barcelona)"
   ]
  },
  {
   "cell_type": "code",
   "execution_count": 42,
   "id": "b841b9aa",
   "metadata": {},
   "outputs": [
    {
     "data": {
      "text/html": [
       "<div>\n",
       "<style scoped>\n",
       "    .dataframe tbody tr th:only-of-type {\n",
       "        vertical-align: middle;\n",
       "    }\n",
       "\n",
       "    .dataframe tbody tr th {\n",
       "        vertical-align: top;\n",
       "    }\n",
       "\n",
       "    .dataframe thead th {\n",
       "        text-align: right;\n",
       "    }\n",
       "</style>\n",
       "<table border=\"1\" class=\"dataframe\">\n",
       "  <thead>\n",
       "    <tr style=\"text-align: right;\">\n",
       "      <th></th>\n",
       "      <th>nombre</th>\n",
       "      <th>latitud</th>\n",
       "      <th>longitud</th>\n",
       "      <th>location</th>\n",
       "    </tr>\n",
       "  </thead>\n",
       "  <tbody>\n",
       "    <tr>\n",
       "      <th>0</th>\n",
       "      <td>CHIC! Peluquería canina y felina</td>\n",
       "      <td>41.401375</td>\n",
       "      <td>2.167804</td>\n",
       "      <td>{'type': 'Point', 'coordinates': [41.401374630...</td>\n",
       "    </tr>\n",
       "    <tr>\n",
       "      <th>1</th>\n",
       "      <td>Peluqueria Canina</td>\n",
       "      <td>41.404239</td>\n",
       "      <td>2.147919</td>\n",
       "      <td>{'type': 'Point', 'coordinates': [41.404239391...</td>\n",
       "    </tr>\n",
       "    <tr>\n",
       "      <th>2</th>\n",
       "      <td>Peluqueria Canina Marc Oliva</td>\n",
       "      <td>41.395544</td>\n",
       "      <td>2.142846</td>\n",
       "      <td>{'type': 'Point', 'coordinates': [41.395544, 2...</td>\n",
       "    </tr>\n",
       "    <tr>\n",
       "      <th>3</th>\n",
       "      <td>Peluquería Canina Mascotes Alella</td>\n",
       "      <td>41.469803</td>\n",
       "      <td>2.277983</td>\n",
       "      <td>{'type': 'Point', 'coordinates': [41.4698031, ...</td>\n",
       "    </tr>\n",
       "    <tr>\n",
       "      <th>4</th>\n",
       "      <td>Stylcan Peluqueria Canina</td>\n",
       "      <td>41.395289</td>\n",
       "      <td>2.140591</td>\n",
       "      <td>{'type': 'Point', 'coordinates': [41.395289248...</td>\n",
       "    </tr>\n",
       "  </tbody>\n",
       "</table>\n",
       "</div>"
      ],
      "text/plain": [
       "                              nombre    latitud  longitud  \\\n",
       "0   CHIC! Peluquería canina y felina  41.401375  2.167804   \n",
       "1                  Peluqueria Canina  41.404239  2.147919   \n",
       "2       Peluqueria Canina Marc Oliva  41.395544  2.142846   \n",
       "3  Peluquería Canina Mascotes Alella  41.469803  2.277983   \n",
       "4          Stylcan Peluqueria Canina  41.395289  2.140591   \n",
       "\n",
       "                                            location  \n",
       "0  {'type': 'Point', 'coordinates': [41.401374630...  \n",
       "1  {'type': 'Point', 'coordinates': [41.404239391...  \n",
       "2  {'type': 'Point', 'coordinates': [41.395544, 2...  \n",
       "3  {'type': 'Point', 'coordinates': [41.4698031, ...  \n",
       "4  {'type': 'Point', 'coordinates': [41.395289248...  "
      ]
     },
     "execution_count": 42,
     "metadata": {},
     "output_type": "execute_result"
    }
   ],
   "source": [
    "barcelona_pets_df = af.build_df(barcelona_pets_dict)\n",
    "barcelona_pets_df.head()"
   ]
  },
  {
   "cell_type": "code",
   "execution_count": 43,
   "id": "c6e1beb0",
   "metadata": {},
   "outputs": [],
   "source": [
    "af.build_json(city_place, city_name, barcelona_pets_dict)"
   ]
  },
  {
   "cell_type": "markdown",
   "id": "4ea93aae",
   "metadata": {},
   "source": [
    "## C. Sevilla"
   ]
  },
  {
   "cell_type": "code",
   "execution_count": 44,
   "id": "51b02b4f",
   "metadata": {},
   "outputs": [
    {
     "data": {
      "text/plain": [
       "{'type': 'Point', 'coordinates': ['37.38285', '-5.99288']}"
      ]
     },
     "execution_count": 44,
     "metadata": {},
     "output_type": "execute_result"
    }
   ],
   "source": [
    "#We define \"name\", \"address\" and \"place\" for the Seville location.\n",
    "city_name = \"sevilla\"\n",
    "city_address = \"puerta de jerez\"\n",
    "\n",
    "\n",
    "#We use format to parameterize the string that will receive geocode and be able to use it for each of the locations.\n",
    "geocode_address = f'{city_address}, {city_name}' \n",
    "\n",
    "#We search the coordinates for the location of Madrid using the function geocode.\n",
    "sevilla = af.geocode(geocode_address)\n",
    "sevilla"
   ]
  },
  {
   "cell_type": "markdown",
   "id": "4e8030e9",
   "metadata": {},
   "source": [
    "## C.1. Find starbucks in Sevilla"
   ]
  },
  {
   "cell_type": "code",
   "execution_count": 45,
   "id": "09953a2f",
   "metadata": {},
   "outputs": [],
   "source": [
    "city_place = \"starbucks\""
   ]
  },
  {
   "cell_type": "code",
   "execution_count": 46,
   "id": "03f07c5b",
   "metadata": {},
   "outputs": [],
   "source": [
    "sevilla_starbucks_dict = af.find_places(\"starbucks\", sevilla)"
   ]
  },
  {
   "cell_type": "code",
   "execution_count": 47,
   "id": "7570a1c2",
   "metadata": {},
   "outputs": [
    {
     "data": {
      "text/html": [
       "<div>\n",
       "<style scoped>\n",
       "    .dataframe tbody tr th:only-of-type {\n",
       "        vertical-align: middle;\n",
       "    }\n",
       "\n",
       "    .dataframe tbody tr th {\n",
       "        vertical-align: top;\n",
       "    }\n",
       "\n",
       "    .dataframe thead th {\n",
       "        text-align: right;\n",
       "    }\n",
       "</style>\n",
       "<table border=\"1\" class=\"dataframe\">\n",
       "  <thead>\n",
       "    <tr style=\"text-align: right;\">\n",
       "      <th></th>\n",
       "      <th>nombre</th>\n",
       "      <th>latitud</th>\n",
       "      <th>longitud</th>\n",
       "      <th>location</th>\n",
       "    </tr>\n",
       "  </thead>\n",
       "  <tbody>\n",
       "    <tr>\n",
       "      <th>0</th>\n",
       "      <td>Starbucks Avda Constitución 36 (Starbucks)</td>\n",
       "      <td>37.384195</td>\n",
       "      <td>-5.993863</td>\n",
       "      <td>{'type': 'Point', 'coordinates': [37.384194813...</td>\n",
       "    </tr>\n",
       "    <tr>\n",
       "      <th>1</th>\n",
       "      <td>Starbucks Puerta Jerez</td>\n",
       "      <td>37.382454</td>\n",
       "      <td>-5.992991</td>\n",
       "      <td>{'type': 'Point', 'coordinates': [37.382453574...</td>\n",
       "    </tr>\n",
       "    <tr>\n",
       "      <th>2</th>\n",
       "      <td>Starbucks Avda Constitución 11</td>\n",
       "      <td>37.386710</td>\n",
       "      <td>-5.993957</td>\n",
       "      <td>{'type': 'Point', 'coordinates': [37.386709629...</td>\n",
       "    </tr>\n",
       "    <tr>\n",
       "      <th>3</th>\n",
       "      <td>Starbucks Torre Sevilla</td>\n",
       "      <td>37.393171</td>\n",
       "      <td>-6.009272</td>\n",
       "      <td>{'type': 'Point', 'coordinates': [37.393171, -...</td>\n",
       "    </tr>\n",
       "    <tr>\n",
       "      <th>4</th>\n",
       "      <td>Starbucks On The Go</td>\n",
       "      <td>37.376749</td>\n",
       "      <td>-5.974370</td>\n",
       "      <td>{'type': 'Point', 'coordinates': [37.37674909,...</td>\n",
       "    </tr>\n",
       "  </tbody>\n",
       "</table>\n",
       "</div>"
      ],
      "text/plain": [
       "                                       nombre    latitud  longitud  \\\n",
       "0  Starbucks Avda Constitución 36 (Starbucks)  37.384195 -5.993863   \n",
       "1                      Starbucks Puerta Jerez  37.382454 -5.992991   \n",
       "2              Starbucks Avda Constitución 11  37.386710 -5.993957   \n",
       "3                     Starbucks Torre Sevilla  37.393171 -6.009272   \n",
       "4                         Starbucks On The Go  37.376749 -5.974370   \n",
       "\n",
       "                                            location  \n",
       "0  {'type': 'Point', 'coordinates': [37.384194813...  \n",
       "1  {'type': 'Point', 'coordinates': [37.382453574...  \n",
       "2  {'type': 'Point', 'coordinates': [37.386709629...  \n",
       "3  {'type': 'Point', 'coordinates': [37.393171, -...  \n",
       "4  {'type': 'Point', 'coordinates': [37.37674909,...  "
      ]
     },
     "execution_count": 47,
     "metadata": {},
     "output_type": "execute_result"
    }
   ],
   "source": [
    "sevilla_starbucks_df = af.build_df(sevilla_starbucks_dict)\n",
    "sevilla_starbucks_df.head()"
   ]
  },
  {
   "cell_type": "code",
   "execution_count": 48,
   "id": "a6036006",
   "metadata": {},
   "outputs": [
    {
     "data": {
      "text/plain": [
       "array(['Starbucks Avda Constitución 36 (Starbucks)',\n",
       "       'Starbucks Puerta Jerez', 'Starbucks Avda Constitución 11',\n",
       "       'Starbucks Torre Sevilla', 'Starbucks On The Go', 'Starbucks'],\n",
       "      dtype=object)"
      ]
     },
     "execution_count": 48,
     "metadata": {},
     "output_type": "execute_result"
    }
   ],
   "source": [
    "sevilla_starbucks_df.nombre.unique()"
   ]
  },
  {
   "cell_type": "code",
   "execution_count": 49,
   "id": "3eaa8610",
   "metadata": {},
   "outputs": [],
   "source": [
    "af.build_json(city_place, city_name, sevilla_starbucks_dict)"
   ]
  },
  {
   "cell_type": "markdown",
   "id": "0095131f",
   "metadata": {},
   "source": [
    "## C.2. Find train stations in Sevilla"
   ]
  },
  {
   "cell_type": "code",
   "execution_count": 50,
   "id": "509af958",
   "metadata": {},
   "outputs": [],
   "source": [
    "city_place = \"stations\""
   ]
  },
  {
   "cell_type": "code",
   "execution_count": 51,
   "id": "13df3434",
   "metadata": {},
   "outputs": [],
   "source": [
    "sevilla_stations_dict = af.find_places(\"renfe\", sevilla)"
   ]
  },
  {
   "cell_type": "code",
   "execution_count": 52,
   "id": "04aa9a40",
   "metadata": {},
   "outputs": [],
   "source": [
    "sevilla_stations_df = af.build_df(sevilla_stations_dict)\n",
    "#sevilla_stations_df.head()"
   ]
  },
  {
   "cell_type": "code",
   "execution_count": 53,
   "id": "221b7f08",
   "metadata": {},
   "outputs": [],
   "source": [
    "#sevilla_stations_df.nombre.unique()"
   ]
  },
  {
   "cell_type": "code",
   "execution_count": 54,
   "id": "ebb5e8d4",
   "metadata": {},
   "outputs": [],
   "source": [
    "af.build_json(city_place, city_name, sevilla_stations_dict)"
   ]
  },
  {
   "cell_type": "markdown",
   "id": "6fc6f2d9",
   "metadata": {},
   "source": [
    "## C.3. Find vegan restaurants in Sevilla"
   ]
  },
  {
   "cell_type": "code",
   "execution_count": 55,
   "id": "2f257fc1",
   "metadata": {},
   "outputs": [],
   "source": [
    "city_place = \"vegan\""
   ]
  },
  {
   "cell_type": "code",
   "execution_count": 56,
   "id": "aa8d51ec",
   "metadata": {},
   "outputs": [],
   "source": [
    "sevilla_vegans_dict = af.find_places(\"vegetariano\", sevilla)"
   ]
  },
  {
   "cell_type": "code",
   "execution_count": 57,
   "id": "69ae8bba",
   "metadata": {},
   "outputs": [
    {
     "data": {
      "text/html": [
       "<div>\n",
       "<style scoped>\n",
       "    .dataframe tbody tr th:only-of-type {\n",
       "        vertical-align: middle;\n",
       "    }\n",
       "\n",
       "    .dataframe tbody tr th {\n",
       "        vertical-align: top;\n",
       "    }\n",
       "\n",
       "    .dataframe thead th {\n",
       "        text-align: right;\n",
       "    }\n",
       "</style>\n",
       "<table border=\"1\" class=\"dataframe\">\n",
       "  <thead>\n",
       "    <tr style=\"text-align: right;\">\n",
       "      <th></th>\n",
       "      <th>nombre</th>\n",
       "      <th>latitud</th>\n",
       "      <th>longitud</th>\n",
       "      <th>location</th>\n",
       "    </tr>\n",
       "  </thead>\n",
       "  <tbody>\n",
       "    <tr>\n",
       "      <th>0</th>\n",
       "      <td>Restaurante Vegetariano Almanara</td>\n",
       "      <td>37.397958</td>\n",
       "      <td>-5.993550</td>\n",
       "      <td>{'type': 'Point', 'coordinates': [37.397958, -...</td>\n",
       "    </tr>\n",
       "    <tr>\n",
       "      <th>1</th>\n",
       "      <td>Vegetariano Verdys</td>\n",
       "      <td>37.364762</td>\n",
       "      <td>-6.077453</td>\n",
       "      <td>{'type': 'Point', 'coordinates': [37.364761889...</td>\n",
       "    </tr>\n",
       "    <tr>\n",
       "      <th>2</th>\n",
       "      <td>Vegetariano Feuille</td>\n",
       "      <td>37.539765</td>\n",
       "      <td>-5.882847</td>\n",
       "      <td>{'type': 'Point', 'coordinates': [37.539765289...</td>\n",
       "    </tr>\n",
       "  </tbody>\n",
       "</table>\n",
       "</div>"
      ],
      "text/plain": [
       "                             nombre    latitud  longitud  \\\n",
       "0  Restaurante Vegetariano Almanara  37.397958 -5.993550   \n",
       "1                Vegetariano Verdys  37.364762 -6.077453   \n",
       "2               Vegetariano Feuille  37.539765 -5.882847   \n",
       "\n",
       "                                            location  \n",
       "0  {'type': 'Point', 'coordinates': [37.397958, -...  \n",
       "1  {'type': 'Point', 'coordinates': [37.364761889...  \n",
       "2  {'type': 'Point', 'coordinates': [37.539765289...  "
      ]
     },
     "execution_count": 57,
     "metadata": {},
     "output_type": "execute_result"
    }
   ],
   "source": [
    "sevilla_vegans_df = af.build_df(sevilla_vegans_dict)\n",
    "sevilla_vegans_df.head()"
   ]
  },
  {
   "cell_type": "code",
   "execution_count": 58,
   "id": "482c15f2",
   "metadata": {},
   "outputs": [],
   "source": [
    "#af.build_json(city_place, city_name, sevilla_vegans_dict)"
   ]
  },
  {
   "cell_type": "code",
   "execution_count": 59,
   "id": "4f31c769",
   "metadata": {},
   "outputs": [],
   "source": [
    "#af.build_json(city_place, city_name, sevilla_schools_dict)"
   ]
  },
  {
   "cell_type": "code",
   "execution_count": 60,
   "id": "f81f9013",
   "metadata": {},
   "outputs": [],
   "source": [
    "#af.build_json(city_place, city_name, sevilla_nurseries_dict)"
   ]
  },
  {
   "cell_type": "markdown",
   "id": "5431207b",
   "metadata": {},
   "source": [
    "## C.4. Find pets hairdresser in Sevilla"
   ]
  },
  {
   "cell_type": "code",
   "execution_count": 61,
   "id": "5062654e",
   "metadata": {},
   "outputs": [],
   "source": [
    "city_place = \"pets\""
   ]
  },
  {
   "cell_type": "code",
   "execution_count": 62,
   "id": "cbffe462",
   "metadata": {},
   "outputs": [],
   "source": [
    "sevilla_pets_dict = af.find_places(\"peluqueria canina\", sevilla)"
   ]
  },
  {
   "cell_type": "code",
   "execution_count": 63,
   "id": "5405c6b2",
   "metadata": {},
   "outputs": [
    {
     "data": {
      "text/html": [
       "<div>\n",
       "<style scoped>\n",
       "    .dataframe tbody tr th:only-of-type {\n",
       "        vertical-align: middle;\n",
       "    }\n",
       "\n",
       "    .dataframe tbody tr th {\n",
       "        vertical-align: top;\n",
       "    }\n",
       "\n",
       "    .dataframe thead th {\n",
       "        text-align: right;\n",
       "    }\n",
       "</style>\n",
       "<table border=\"1\" class=\"dataframe\">\n",
       "  <thead>\n",
       "    <tr style=\"text-align: right;\">\n",
       "      <th></th>\n",
       "      <th>nombre</th>\n",
       "      <th>latitud</th>\n",
       "      <th>longitud</th>\n",
       "      <th>location</th>\n",
       "    </tr>\n",
       "  </thead>\n",
       "  <tbody>\n",
       "    <tr>\n",
       "      <th>0</th>\n",
       "      <td>Estética y Peluquería Canina Woff-dog</td>\n",
       "      <td>37.369195</td>\n",
       "      <td>-5.978871</td>\n",
       "      <td>{'type': 'Point', 'coordinates': [37.369194723...</td>\n",
       "    </tr>\n",
       "    <tr>\n",
       "      <th>1</th>\n",
       "      <td>Peluqueria Canina a Domicilio</td>\n",
       "      <td>37.289027</td>\n",
       "      <td>-5.937676</td>\n",
       "      <td>{'type': 'Point', 'coordinates': [37.289027290...</td>\n",
       "    </tr>\n",
       "    <tr>\n",
       "      <th>2</th>\n",
       "      <td>Peluquería de Caballeros Plaza de Cuba</td>\n",
       "      <td>37.381150</td>\n",
       "      <td>-5.998629</td>\n",
       "      <td>{'type': 'Point', 'coordinates': [37.3811497, ...</td>\n",
       "    </tr>\n",
       "    <tr>\n",
       "      <th>3</th>\n",
       "      <td>Peluquería Memphis</td>\n",
       "      <td>37.378618</td>\n",
       "      <td>-5.998696</td>\n",
       "      <td>{'type': 'Point', 'coordinates': [37.3786179, ...</td>\n",
       "    </tr>\n",
       "    <tr>\n",
       "      <th>4</th>\n",
       "      <td>Peluquería Rocío</td>\n",
       "      <td>37.393712</td>\n",
       "      <td>-5.994251</td>\n",
       "      <td>{'type': 'Point', 'coordinates': [37.393712, -...</td>\n",
       "    </tr>\n",
       "  </tbody>\n",
       "</table>\n",
       "</div>"
      ],
      "text/plain": [
       "                                   nombre    latitud  longitud  \\\n",
       "0   Estética y Peluquería Canina Woff-dog  37.369195 -5.978871   \n",
       "1           Peluqueria Canina a Domicilio  37.289027 -5.937676   \n",
       "2  Peluquería de Caballeros Plaza de Cuba  37.381150 -5.998629   \n",
       "3                      Peluquería Memphis  37.378618 -5.998696   \n",
       "4                        Peluquería Rocío  37.393712 -5.994251   \n",
       "\n",
       "                                            location  \n",
       "0  {'type': 'Point', 'coordinates': [37.369194723...  \n",
       "1  {'type': 'Point', 'coordinates': [37.289027290...  \n",
       "2  {'type': 'Point', 'coordinates': [37.3811497, ...  \n",
       "3  {'type': 'Point', 'coordinates': [37.3786179, ...  \n",
       "4  {'type': 'Point', 'coordinates': [37.393712, -...  "
      ]
     },
     "execution_count": 63,
     "metadata": {},
     "output_type": "execute_result"
    }
   ],
   "source": [
    "sevilla_pets_df = af.build_df(sevilla_pets_dict)\n",
    "sevilla_pets_df.head()"
   ]
  },
  {
   "cell_type": "code",
   "execution_count": 64,
   "id": "70df80a7",
   "metadata": {},
   "outputs": [],
   "source": [
    "#sevilla_pets_df.nombre.unique()"
   ]
  },
  {
   "cell_type": "code",
   "execution_count": 65,
   "id": "ad1847a5",
   "metadata": {},
   "outputs": [],
   "source": [
    "#af.build_json(city_place, city_name, sevilla_pets_dict)"
   ]
  },
  {
   "cell_type": "markdown",
   "id": "1d5faeda",
   "metadata": {},
   "source": [
    "# 2. Geo queries"
   ]
  },
  {
   "cell_type": "code",
   "execution_count": 66,
   "id": "623d852a",
   "metadata": {},
   "outputs": [],
   "source": [
    "from pymongo import MongoClient"
   ]
  },
  {
   "cell_type": "code",
   "execution_count": 67,
   "id": "11645f4d",
   "metadata": {},
   "outputs": [
    {
     "data": {
      "text/plain": [
       "Database(MongoClient(host=['localhost:27017'], document_class=dict, tz_aware=False, connect=True), 'geospatial_data')"
      ]
     },
     "execution_count": 67,
     "metadata": {},
     "output_type": "execute_result"
    }
   ],
   "source": [
    "client = MongoClient(\"localhost:27017\")\n",
    "db = client.get_database(\"geospatial_data\")\n",
    "db"
   ]
  },
  {
   "cell_type": "code",
   "execution_count": 68,
   "id": "5341cec0",
   "metadata": {},
   "outputs": [],
   "source": [
    "from pymongo import GEOSPHERE"
   ]
  },
  {
   "cell_type": "code",
   "execution_count": 69,
   "id": "9ebf5a4e",
   "metadata": {},
   "outputs": [],
   "source": [
    "final_dictionary = {}"
   ]
  },
  {
   "cell_type": "code",
   "execution_count": 70,
   "id": "158cf752",
   "metadata": {},
   "outputs": [],
   "source": [
    "distance = 500"
   ]
  },
  {
   "cell_type": "markdown",
   "id": "2150eeb7",
   "metadata": {},
   "source": [
    "## 2.A. Geo query: Madrid"
   ]
  },
  {
   "cell_type": "code",
   "execution_count": 71,
   "id": "84b4a21a",
   "metadata": {},
   "outputs": [],
   "source": [
    "madrid_mongo = db.get_collection(\"madrid\")"
   ]
  },
  {
   "cell_type": "code",
   "execution_count": 72,
   "id": "1104dc42",
   "metadata": {},
   "outputs": [
    {
     "data": {
      "text/plain": [
       "'location_2dsphere'"
      ]
     },
     "execution_count": 72,
     "metadata": {},
     "output_type": "execute_result"
    }
   ],
   "source": [
    "db.madrid.create_index([(\"location\", GEOSPHERE)])"
   ]
  },
  {
   "cell_type": "code",
   "execution_count": 73,
   "id": "1954adf4",
   "metadata": {},
   "outputs": [
    {
     "data": {
      "text/plain": [
       "{'type': 'Point', 'coordinates': ['40.41703', '-3.70343']}"
      ]
     },
     "execution_count": 73,
     "metadata": {},
     "output_type": "execute_result"
    }
   ],
   "source": [
    "# Utilizamos la función de geocode para que me dé la Latitud y la Longitud, como antes con ironhack\n",
    "madrid"
   ]
  },
  {
   "cell_type": "code",
   "execution_count": 74,
   "id": "ff400579",
   "metadata": {},
   "outputs": [
    {
     "data": {
      "text/plain": [
       "dict_keys(['_id', 'nombre', 'latitud', 'longitud', 'location'])"
      ]
     },
     "execution_count": 74,
     "metadata": {},
     "output_type": "execute_result"
    }
   ],
   "source": [
    "db.madrid.find_one().keys()\n"
   ]
  },
  {
   "cell_type": "code",
   "execution_count": 75,
   "id": "46170c08",
   "metadata": {},
   "outputs": [],
   "source": [
    "madrid_coord = [40.41703,-3.70343]"
   ]
  },
  {
   "cell_type": "code",
   "execution_count": 76,
   "id": "be1a0ca9",
   "metadata": {},
   "outputs": [
    {
     "data": {
      "text/plain": [
       "{'type': 'Point', 'coordinates': [40.41703, -3.70343]}"
      ]
     },
     "execution_count": 76,
     "metadata": {},
     "output_type": "execute_result"
    }
   ],
   "source": [
    "coord_tp_Mad = af.type_point(madrid_coord)\n",
    "coord_tp_Mad"
   ]
  },
  {
   "cell_type": "code",
   "execution_count": 77,
   "id": "d6d4ccbe",
   "metadata": {},
   "outputs": [
    {
     "data": {
      "text/plain": [
       "{'Madrid': [1, 8, 0, 1, 22]}"
      ]
     },
     "execution_count": 77,
     "metadata": {},
     "output_type": "execute_result"
    }
   ],
   "source": [
    "af.build_final_dictionary(final_dictionary, \"Madrid\", coord_tp_Mad, db.madrid, distance)"
   ]
  },
  {
   "cell_type": "markdown",
   "id": "885c387d",
   "metadata": {},
   "source": [
    "## General GeoQuery for Madrid"
   ]
  },
  {
   "cell_type": "code",
   "execution_count": 78,
   "id": "4ecc561f",
   "metadata": {},
   "outputs": [],
   "source": [
    "query_madrid = {\"location\": {\"$near\": {\"$geometry\": coord_tp_Mad, \"$maxDistance\": 500}}}"
   ]
  },
  {
   "cell_type": "code",
   "execution_count": 79,
   "id": "815dbdeb",
   "metadata": {},
   "outputs": [
    {
     "data": {
      "text/plain": [
       "<pymongo.cursor.Cursor at 0x7fde4c097a60>"
      ]
     },
     "execution_count": 79,
     "metadata": {},
     "output_type": "execute_result"
    }
   ],
   "source": [
    "db.madrid.find(query_madrid)"
   ]
  },
  {
   "cell_type": "code",
   "execution_count": 80,
   "id": "1529c8d8",
   "metadata": {},
   "outputs": [],
   "source": [
    "#list(db.madrid.find(query_madrid))"
   ]
  },
  {
   "cell_type": "code",
   "execution_count": 81,
   "id": "73f36431",
   "metadata": {},
   "outputs": [],
   "source": [
    "df_madrid = pd.DataFrame(list(db.madrid.find(query_madrid)))"
   ]
  },
  {
   "cell_type": "code",
   "execution_count": 82,
   "id": "8a7238f9",
   "metadata": {},
   "outputs": [
    {
     "data": {
      "text/html": [
       "<div>\n",
       "<style scoped>\n",
       "    .dataframe tbody tr th:only-of-type {\n",
       "        vertical-align: middle;\n",
       "    }\n",
       "\n",
       "    .dataframe tbody tr th {\n",
       "        vertical-align: top;\n",
       "    }\n",
       "\n",
       "    .dataframe thead th {\n",
       "        text-align: right;\n",
       "    }\n",
       "</style>\n",
       "<table border=\"1\" class=\"dataframe\">\n",
       "  <thead>\n",
       "    <tr style=\"text-align: right;\">\n",
       "      <th></th>\n",
       "      <th>_id</th>\n",
       "      <th>nombre</th>\n",
       "      <th>latitud</th>\n",
       "      <th>longitud</th>\n",
       "      <th>location</th>\n",
       "    </tr>\n",
       "  </thead>\n",
       "  <tbody>\n",
       "    <tr>\n",
       "      <th>0</th>\n",
       "      <td>6192b8cbf13bcac15e7930fb</td>\n",
       "      <td>Metro Sol</td>\n",
       "      <td>40.416882</td>\n",
       "      <td>-3.703038</td>\n",
       "      <td>{'type': 'Point', 'coordinates': [40.416881555...</td>\n",
       "    </tr>\n",
       "    <tr>\n",
       "      <th>1</th>\n",
       "      <td>6192b8cbf13bcac15e7930f7</td>\n",
       "      <td>Cercanías Sol</td>\n",
       "      <td>40.416943</td>\n",
       "      <td>-3.703006</td>\n",
       "      <td>{'type': 'Point', 'coordinates': [40.416942649...</td>\n",
       "    </tr>\n",
       "    <tr>\n",
       "      <th>2</th>\n",
       "      <td>6192b8c1f13bcac15e7930d0</td>\n",
       "      <td>Starbucks</td>\n",
       "      <td>40.417539</td>\n",
       "      <td>-3.702775</td>\n",
       "      <td>{'type': 'Point', 'coordinates': [40.417539, -...</td>\n",
       "    </tr>\n",
       "    <tr>\n",
       "      <th>3</th>\n",
       "      <td>6192b8c1f13bcac15e7930e8</td>\n",
       "      <td>Starbucks</td>\n",
       "      <td>40.417467</td>\n",
       "      <td>-3.704396</td>\n",
       "      <td>{'type': 'Point', 'coordinates': [40.4174674, ...</td>\n",
       "    </tr>\n",
       "    <tr>\n",
       "      <th>4</th>\n",
       "      <td>6192b8c1f13bcac15e7930d4</td>\n",
       "      <td>Starbucks</td>\n",
       "      <td>40.417489</td>\n",
       "      <td>-3.704665</td>\n",
       "      <td>{'type': 'Point', 'coordinates': [40.417489421...</td>\n",
       "    </tr>\n",
       "    <tr>\n",
       "      <th>5</th>\n",
       "      <td>6192b8d7f13bcac15e79310c</td>\n",
       "      <td>RESTAURANTE VEGANO PLANT GRILL</td>\n",
       "      <td>40.415583</td>\n",
       "      <td>-3.701298</td>\n",
       "      <td>{'type': 'Point', 'coordinates': [40.415583141...</td>\n",
       "    </tr>\n",
       "    <tr>\n",
       "      <th>6</th>\n",
       "      <td>6192b8c1f13bcac15e7930d1</td>\n",
       "      <td>Starbucks</td>\n",
       "      <td>40.417195</td>\n",
       "      <td>-3.706119</td>\n",
       "      <td>{'type': 'Point', 'coordinates': [40.417195167...</td>\n",
       "    </tr>\n",
       "    <tr>\n",
       "      <th>7</th>\n",
       "      <td>6192b8c1f13bcac15e7930d2</td>\n",
       "      <td>Starbucks</td>\n",
       "      <td>40.420140</td>\n",
       "      <td>-3.702886</td>\n",
       "      <td>{'type': 'Point', 'coordinates': [40.420140393...</td>\n",
       "    </tr>\n",
       "    <tr>\n",
       "      <th>8</th>\n",
       "      <td>6192b8c1f13bcac15e7930d7</td>\n",
       "      <td>Starbucks</td>\n",
       "      <td>40.419668</td>\n",
       "      <td>-3.706135</td>\n",
       "      <td>{'type': 'Point', 'coordinates': [40.419667845...</td>\n",
       "    </tr>\n",
       "    <tr>\n",
       "      <th>9</th>\n",
       "      <td>6192b8d7f13bcac15e793112</td>\n",
       "      <td>Shi-Shang</td>\n",
       "      <td>40.420744</td>\n",
       "      <td>-3.704881</td>\n",
       "      <td>{'type': 'Point', 'coordinates': [40.420743695...</td>\n",
       "    </tr>\n",
       "    <tr>\n",
       "      <th>10</th>\n",
       "      <td>6192b8c1f13bcac15e7930dc</td>\n",
       "      <td>Starbucks</td>\n",
       "      <td>40.421095</td>\n",
       "      <td>-3.702560</td>\n",
       "      <td>{'type': 'Point', 'coordinates': [40.421095, -...</td>\n",
       "    </tr>\n",
       "    <tr>\n",
       "      <th>11</th>\n",
       "      <td>6192b8c1f13bcac15e7930d3</td>\n",
       "      <td>Starbucks</td>\n",
       "      <td>40.418038</td>\n",
       "      <td>-3.699372</td>\n",
       "      <td>{'type': 'Point', 'coordinates': [40.418038185...</td>\n",
       "    </tr>\n",
       "  </tbody>\n",
       "</table>\n",
       "</div>"
      ],
      "text/plain": [
       "                         _id                          nombre    latitud  \\\n",
       "0   6192b8cbf13bcac15e7930fb                       Metro Sol  40.416882   \n",
       "1   6192b8cbf13bcac15e7930f7                   Cercanías Sol  40.416943   \n",
       "2   6192b8c1f13bcac15e7930d0                       Starbucks  40.417539   \n",
       "3   6192b8c1f13bcac15e7930e8                       Starbucks  40.417467   \n",
       "4   6192b8c1f13bcac15e7930d4                       Starbucks  40.417489   \n",
       "5   6192b8d7f13bcac15e79310c  RESTAURANTE VEGANO PLANT GRILL  40.415583   \n",
       "6   6192b8c1f13bcac15e7930d1                       Starbucks  40.417195   \n",
       "7   6192b8c1f13bcac15e7930d2                       Starbucks  40.420140   \n",
       "8   6192b8c1f13bcac15e7930d7                       Starbucks  40.419668   \n",
       "9   6192b8d7f13bcac15e793112                       Shi-Shang  40.420744   \n",
       "10  6192b8c1f13bcac15e7930dc                       Starbucks  40.421095   \n",
       "11  6192b8c1f13bcac15e7930d3                       Starbucks  40.418038   \n",
       "\n",
       "    longitud                                           location  \n",
       "0  -3.703038  {'type': 'Point', 'coordinates': [40.416881555...  \n",
       "1  -3.703006  {'type': 'Point', 'coordinates': [40.416942649...  \n",
       "2  -3.702775  {'type': 'Point', 'coordinates': [40.417539, -...  \n",
       "3  -3.704396  {'type': 'Point', 'coordinates': [40.4174674, ...  \n",
       "4  -3.704665  {'type': 'Point', 'coordinates': [40.417489421...  \n",
       "5  -3.701298  {'type': 'Point', 'coordinates': [40.415583141...  \n",
       "6  -3.706119  {'type': 'Point', 'coordinates': [40.417195167...  \n",
       "7  -3.702886  {'type': 'Point', 'coordinates': [40.420140393...  \n",
       "8  -3.706135  {'type': 'Point', 'coordinates': [40.419667845...  \n",
       "9  -3.704881  {'type': 'Point', 'coordinates': [40.420743695...  \n",
       "10 -3.702560  {'type': 'Point', 'coordinates': [40.421095, -...  \n",
       "11 -3.699372  {'type': 'Point', 'coordinates': [40.418038185...  "
      ]
     },
     "execution_count": 82,
     "metadata": {},
     "output_type": "execute_result"
    }
   ],
   "source": [
    "df_madrid"
   ]
  },
  {
   "cell_type": "code",
   "execution_count": 83,
   "id": "1732c36d",
   "metadata": {},
   "outputs": [],
   "source": [
    "lista = [\"Train\", \"Train\", 'Coffee', 'Coffee', 'Coffee', 'Vegan', 'Coffee', 'Coffee','Coffee',\"Vegan\", 'Coffee', 'Coffee' ]\n",
    "df_madrid[\"category\"] = lista"
   ]
  },
  {
   "cell_type": "code",
   "execution_count": 84,
   "id": "a73e5d53",
   "metadata": {},
   "outputs": [
    {
     "data": {
      "text/html": [
       "<div>\n",
       "<style scoped>\n",
       "    .dataframe tbody tr th:only-of-type {\n",
       "        vertical-align: middle;\n",
       "    }\n",
       "\n",
       "    .dataframe tbody tr th {\n",
       "        vertical-align: top;\n",
       "    }\n",
       "\n",
       "    .dataframe thead th {\n",
       "        text-align: right;\n",
       "    }\n",
       "</style>\n",
       "<table border=\"1\" class=\"dataframe\">\n",
       "  <thead>\n",
       "    <tr style=\"text-align: right;\">\n",
       "      <th></th>\n",
       "      <th>_id</th>\n",
       "      <th>nombre</th>\n",
       "      <th>latitud</th>\n",
       "      <th>longitud</th>\n",
       "      <th>location</th>\n",
       "      <th>category</th>\n",
       "    </tr>\n",
       "  </thead>\n",
       "  <tbody>\n",
       "    <tr>\n",
       "      <th>0</th>\n",
       "      <td>6192b8cbf13bcac15e7930fb</td>\n",
       "      <td>Metro Sol</td>\n",
       "      <td>40.416882</td>\n",
       "      <td>-3.703038</td>\n",
       "      <td>{'type': 'Point', 'coordinates': [40.416881555...</td>\n",
       "      <td>Train</td>\n",
       "    </tr>\n",
       "    <tr>\n",
       "      <th>1</th>\n",
       "      <td>6192b8cbf13bcac15e7930f7</td>\n",
       "      <td>Cercanías Sol</td>\n",
       "      <td>40.416943</td>\n",
       "      <td>-3.703006</td>\n",
       "      <td>{'type': 'Point', 'coordinates': [40.416942649...</td>\n",
       "      <td>Train</td>\n",
       "    </tr>\n",
       "    <tr>\n",
       "      <th>2</th>\n",
       "      <td>6192b8c1f13bcac15e7930d0</td>\n",
       "      <td>Starbucks</td>\n",
       "      <td>40.417539</td>\n",
       "      <td>-3.702775</td>\n",
       "      <td>{'type': 'Point', 'coordinates': [40.417539, -...</td>\n",
       "      <td>Coffee</td>\n",
       "    </tr>\n",
       "    <tr>\n",
       "      <th>3</th>\n",
       "      <td>6192b8c1f13bcac15e7930e8</td>\n",
       "      <td>Starbucks</td>\n",
       "      <td>40.417467</td>\n",
       "      <td>-3.704396</td>\n",
       "      <td>{'type': 'Point', 'coordinates': [40.4174674, ...</td>\n",
       "      <td>Coffee</td>\n",
       "    </tr>\n",
       "    <tr>\n",
       "      <th>4</th>\n",
       "      <td>6192b8c1f13bcac15e7930d4</td>\n",
       "      <td>Starbucks</td>\n",
       "      <td>40.417489</td>\n",
       "      <td>-3.704665</td>\n",
       "      <td>{'type': 'Point', 'coordinates': [40.417489421...</td>\n",
       "      <td>Coffee</td>\n",
       "    </tr>\n",
       "    <tr>\n",
       "      <th>5</th>\n",
       "      <td>6192b8d7f13bcac15e79310c</td>\n",
       "      <td>RESTAURANTE VEGANO PLANT GRILL</td>\n",
       "      <td>40.415583</td>\n",
       "      <td>-3.701298</td>\n",
       "      <td>{'type': 'Point', 'coordinates': [40.415583141...</td>\n",
       "      <td>Vegan</td>\n",
       "    </tr>\n",
       "    <tr>\n",
       "      <th>6</th>\n",
       "      <td>6192b8c1f13bcac15e7930d1</td>\n",
       "      <td>Starbucks</td>\n",
       "      <td>40.417195</td>\n",
       "      <td>-3.706119</td>\n",
       "      <td>{'type': 'Point', 'coordinates': [40.417195167...</td>\n",
       "      <td>Coffee</td>\n",
       "    </tr>\n",
       "    <tr>\n",
       "      <th>7</th>\n",
       "      <td>6192b8c1f13bcac15e7930d2</td>\n",
       "      <td>Starbucks</td>\n",
       "      <td>40.420140</td>\n",
       "      <td>-3.702886</td>\n",
       "      <td>{'type': 'Point', 'coordinates': [40.420140393...</td>\n",
       "      <td>Coffee</td>\n",
       "    </tr>\n",
       "    <tr>\n",
       "      <th>8</th>\n",
       "      <td>6192b8c1f13bcac15e7930d7</td>\n",
       "      <td>Starbucks</td>\n",
       "      <td>40.419668</td>\n",
       "      <td>-3.706135</td>\n",
       "      <td>{'type': 'Point', 'coordinates': [40.419667845...</td>\n",
       "      <td>Coffee</td>\n",
       "    </tr>\n",
       "    <tr>\n",
       "      <th>9</th>\n",
       "      <td>6192b8d7f13bcac15e793112</td>\n",
       "      <td>Shi-Shang</td>\n",
       "      <td>40.420744</td>\n",
       "      <td>-3.704881</td>\n",
       "      <td>{'type': 'Point', 'coordinates': [40.420743695...</td>\n",
       "      <td>Vegan</td>\n",
       "    </tr>\n",
       "    <tr>\n",
       "      <th>10</th>\n",
       "      <td>6192b8c1f13bcac15e7930dc</td>\n",
       "      <td>Starbucks</td>\n",
       "      <td>40.421095</td>\n",
       "      <td>-3.702560</td>\n",
       "      <td>{'type': 'Point', 'coordinates': [40.421095, -...</td>\n",
       "      <td>Coffee</td>\n",
       "    </tr>\n",
       "    <tr>\n",
       "      <th>11</th>\n",
       "      <td>6192b8c1f13bcac15e7930d3</td>\n",
       "      <td>Starbucks</td>\n",
       "      <td>40.418038</td>\n",
       "      <td>-3.699372</td>\n",
       "      <td>{'type': 'Point', 'coordinates': [40.418038185...</td>\n",
       "      <td>Coffee</td>\n",
       "    </tr>\n",
       "  </tbody>\n",
       "</table>\n",
       "</div>"
      ],
      "text/plain": [
       "                         _id                          nombre    latitud  \\\n",
       "0   6192b8cbf13bcac15e7930fb                       Metro Sol  40.416882   \n",
       "1   6192b8cbf13bcac15e7930f7                   Cercanías Sol  40.416943   \n",
       "2   6192b8c1f13bcac15e7930d0                       Starbucks  40.417539   \n",
       "3   6192b8c1f13bcac15e7930e8                       Starbucks  40.417467   \n",
       "4   6192b8c1f13bcac15e7930d4                       Starbucks  40.417489   \n",
       "5   6192b8d7f13bcac15e79310c  RESTAURANTE VEGANO PLANT GRILL  40.415583   \n",
       "6   6192b8c1f13bcac15e7930d1                       Starbucks  40.417195   \n",
       "7   6192b8c1f13bcac15e7930d2                       Starbucks  40.420140   \n",
       "8   6192b8c1f13bcac15e7930d7                       Starbucks  40.419668   \n",
       "9   6192b8d7f13bcac15e793112                       Shi-Shang  40.420744   \n",
       "10  6192b8c1f13bcac15e7930dc                       Starbucks  40.421095   \n",
       "11  6192b8c1f13bcac15e7930d3                       Starbucks  40.418038   \n",
       "\n",
       "    longitud                                           location category  \n",
       "0  -3.703038  {'type': 'Point', 'coordinates': [40.416881555...    Train  \n",
       "1  -3.703006  {'type': 'Point', 'coordinates': [40.416942649...    Train  \n",
       "2  -3.702775  {'type': 'Point', 'coordinates': [40.417539, -...   Coffee  \n",
       "3  -3.704396  {'type': 'Point', 'coordinates': [40.4174674, ...   Coffee  \n",
       "4  -3.704665  {'type': 'Point', 'coordinates': [40.417489421...   Coffee  \n",
       "5  -3.701298  {'type': 'Point', 'coordinates': [40.415583141...    Vegan  \n",
       "6  -3.706119  {'type': 'Point', 'coordinates': [40.417195167...   Coffee  \n",
       "7  -3.702886  {'type': 'Point', 'coordinates': [40.420140393...   Coffee  \n",
       "8  -3.706135  {'type': 'Point', 'coordinates': [40.419667845...   Coffee  \n",
       "9  -3.704881  {'type': 'Point', 'coordinates': [40.420743695...    Vegan  \n",
       "10 -3.702560  {'type': 'Point', 'coordinates': [40.421095, -...   Coffee  \n",
       "11 -3.699372  {'type': 'Point', 'coordinates': [40.418038185...   Coffee  "
      ]
     },
     "execution_count": 84,
     "metadata": {},
     "output_type": "execute_result"
    }
   ],
   "source": [
    "df_madrid"
   ]
  },
  {
   "cell_type": "code",
   "execution_count": 85,
   "id": "d061b657",
   "metadata": {},
   "outputs": [
    {
     "data": {
      "text/plain": [
       "pandas.core.frame.DataFrame"
      ]
     },
     "execution_count": 85,
     "metadata": {},
     "output_type": "execute_result"
    }
   ],
   "source": [
    "type(df_madrid)"
   ]
  },
  {
   "cell_type": "code",
   "execution_count": 86,
   "id": "dc8ace44",
   "metadata": {},
   "outputs": [
    {
     "name": "stdout",
     "output_type": "stream",
     "text": [
      "/Users/awalsh/IRONHACK/PROYECTOS/W4-geospatial-data-project\r\n"
     ]
    }
   ],
   "source": [
    "!pwd\n"
   ]
  },
  {
   "cell_type": "code",
   "execution_count": 87,
   "id": "1e2c70bc",
   "metadata": {},
   "outputs": [],
   "source": [
    "\n",
    "df_madrid.to_csv('clean_df_madrid.csv')"
   ]
  },
  {
   "cell_type": "code",
   "execution_count": 88,
   "id": "9d2fe35e",
   "metadata": {},
   "outputs": [],
   "source": [
    "import folium\n",
    "from folium import Choropleth, Circle, Marker, Icon, Map\n",
    "from folium.plugins import HeatMap, MarkerCluster\n",
    "import pandas as pd"
   ]
  },
  {
   "cell_type": "code",
   "execution_count": 89,
   "id": "ee632091",
   "metadata": {},
   "outputs": [],
   "source": [
    "madrid_lat = 40.41703 \n",
    "madrid_long = -3.7034796"
   ]
  },
  {
   "cell_type": "code",
   "execution_count": 125,
   "id": "84cc81d4",
   "metadata": {},
   "outputs": [],
   "source": [
    "map_madrid= folium.Map(location=[madrid_lat,madrid_long], zoom_start=15)\n",
    "#map_madrid"
   ]
  },
  {
   "cell_type": "code",
   "execution_count": 91,
   "id": "ee5e8a8e",
   "metadata": {},
   "outputs": [
    {
     "data": {
      "text/plain": [
       "array(['Train', 'Coffee', 'Vegan'], dtype=object)"
      ]
     },
     "execution_count": 91,
     "metadata": {},
     "output_type": "execute_result"
    }
   ],
   "source": [
    "df_madrid.category.unique()"
   ]
  },
  {
   "cell_type": "code",
   "execution_count": 92,
   "id": "caac8f5e",
   "metadata": {},
   "outputs": [
    {
     "data": {
      "text/html": [
       "<div>\n",
       "<style scoped>\n",
       "    .dataframe tbody tr th:only-of-type {\n",
       "        vertical-align: middle;\n",
       "    }\n",
       "\n",
       "    .dataframe tbody tr th {\n",
       "        vertical-align: top;\n",
       "    }\n",
       "\n",
       "    .dataframe thead th {\n",
       "        text-align: right;\n",
       "    }\n",
       "</style>\n",
       "<table border=\"1\" class=\"dataframe\">\n",
       "  <thead>\n",
       "    <tr style=\"text-align: right;\">\n",
       "      <th></th>\n",
       "      <th>_id</th>\n",
       "      <th>nombre</th>\n",
       "      <th>latitud</th>\n",
       "      <th>longitud</th>\n",
       "      <th>location</th>\n",
       "      <th>category</th>\n",
       "    </tr>\n",
       "  </thead>\n",
       "  <tbody>\n",
       "    <tr>\n",
       "      <th>0</th>\n",
       "      <td>6192b8cbf13bcac15e7930fb</td>\n",
       "      <td>Metro Sol</td>\n",
       "      <td>40.416882</td>\n",
       "      <td>-3.703038</td>\n",
       "      <td>{'type': 'Point', 'coordinates': [40.416881555...</td>\n",
       "      <td>Train</td>\n",
       "    </tr>\n",
       "    <tr>\n",
       "      <th>1</th>\n",
       "      <td>6192b8cbf13bcac15e7930f7</td>\n",
       "      <td>Cercanías Sol</td>\n",
       "      <td>40.416943</td>\n",
       "      <td>-3.703006</td>\n",
       "      <td>{'type': 'Point', 'coordinates': [40.416942649...</td>\n",
       "      <td>Train</td>\n",
       "    </tr>\n",
       "    <tr>\n",
       "      <th>2</th>\n",
       "      <td>6192b8c1f13bcac15e7930d0</td>\n",
       "      <td>Starbucks</td>\n",
       "      <td>40.417539</td>\n",
       "      <td>-3.702775</td>\n",
       "      <td>{'type': 'Point', 'coordinates': [40.417539, -...</td>\n",
       "      <td>Coffee</td>\n",
       "    </tr>\n",
       "    <tr>\n",
       "      <th>3</th>\n",
       "      <td>6192b8c1f13bcac15e7930e8</td>\n",
       "      <td>Starbucks</td>\n",
       "      <td>40.417467</td>\n",
       "      <td>-3.704396</td>\n",
       "      <td>{'type': 'Point', 'coordinates': [40.4174674, ...</td>\n",
       "      <td>Coffee</td>\n",
       "    </tr>\n",
       "    <tr>\n",
       "      <th>4</th>\n",
       "      <td>6192b8c1f13bcac15e7930d4</td>\n",
       "      <td>Starbucks</td>\n",
       "      <td>40.417489</td>\n",
       "      <td>-3.704665</td>\n",
       "      <td>{'type': 'Point', 'coordinates': [40.417489421...</td>\n",
       "      <td>Coffee</td>\n",
       "    </tr>\n",
       "    <tr>\n",
       "      <th>5</th>\n",
       "      <td>6192b8d7f13bcac15e79310c</td>\n",
       "      <td>RESTAURANTE VEGANO PLANT GRILL</td>\n",
       "      <td>40.415583</td>\n",
       "      <td>-3.701298</td>\n",
       "      <td>{'type': 'Point', 'coordinates': [40.415583141...</td>\n",
       "      <td>Vegan</td>\n",
       "    </tr>\n",
       "    <tr>\n",
       "      <th>6</th>\n",
       "      <td>6192b8c1f13bcac15e7930d1</td>\n",
       "      <td>Starbucks</td>\n",
       "      <td>40.417195</td>\n",
       "      <td>-3.706119</td>\n",
       "      <td>{'type': 'Point', 'coordinates': [40.417195167...</td>\n",
       "      <td>Coffee</td>\n",
       "    </tr>\n",
       "    <tr>\n",
       "      <th>7</th>\n",
       "      <td>6192b8c1f13bcac15e7930d2</td>\n",
       "      <td>Starbucks</td>\n",
       "      <td>40.420140</td>\n",
       "      <td>-3.702886</td>\n",
       "      <td>{'type': 'Point', 'coordinates': [40.420140393...</td>\n",
       "      <td>Coffee</td>\n",
       "    </tr>\n",
       "    <tr>\n",
       "      <th>8</th>\n",
       "      <td>6192b8c1f13bcac15e7930d7</td>\n",
       "      <td>Starbucks</td>\n",
       "      <td>40.419668</td>\n",
       "      <td>-3.706135</td>\n",
       "      <td>{'type': 'Point', 'coordinates': [40.419667845...</td>\n",
       "      <td>Coffee</td>\n",
       "    </tr>\n",
       "    <tr>\n",
       "      <th>9</th>\n",
       "      <td>6192b8d7f13bcac15e793112</td>\n",
       "      <td>Shi-Shang</td>\n",
       "      <td>40.420744</td>\n",
       "      <td>-3.704881</td>\n",
       "      <td>{'type': 'Point', 'coordinates': [40.420743695...</td>\n",
       "      <td>Vegan</td>\n",
       "    </tr>\n",
       "    <tr>\n",
       "      <th>10</th>\n",
       "      <td>6192b8c1f13bcac15e7930dc</td>\n",
       "      <td>Starbucks</td>\n",
       "      <td>40.421095</td>\n",
       "      <td>-3.702560</td>\n",
       "      <td>{'type': 'Point', 'coordinates': [40.421095, -...</td>\n",
       "      <td>Coffee</td>\n",
       "    </tr>\n",
       "    <tr>\n",
       "      <th>11</th>\n",
       "      <td>6192b8c1f13bcac15e7930d3</td>\n",
       "      <td>Starbucks</td>\n",
       "      <td>40.418038</td>\n",
       "      <td>-3.699372</td>\n",
       "      <td>{'type': 'Point', 'coordinates': [40.418038185...</td>\n",
       "      <td>Coffee</td>\n",
       "    </tr>\n",
       "  </tbody>\n",
       "</table>\n",
       "</div>"
      ],
      "text/plain": [
       "                         _id                          nombre    latitud  \\\n",
       "0   6192b8cbf13bcac15e7930fb                       Metro Sol  40.416882   \n",
       "1   6192b8cbf13bcac15e7930f7                   Cercanías Sol  40.416943   \n",
       "2   6192b8c1f13bcac15e7930d0                       Starbucks  40.417539   \n",
       "3   6192b8c1f13bcac15e7930e8                       Starbucks  40.417467   \n",
       "4   6192b8c1f13bcac15e7930d4                       Starbucks  40.417489   \n",
       "5   6192b8d7f13bcac15e79310c  RESTAURANTE VEGANO PLANT GRILL  40.415583   \n",
       "6   6192b8c1f13bcac15e7930d1                       Starbucks  40.417195   \n",
       "7   6192b8c1f13bcac15e7930d2                       Starbucks  40.420140   \n",
       "8   6192b8c1f13bcac15e7930d7                       Starbucks  40.419668   \n",
       "9   6192b8d7f13bcac15e793112                       Shi-Shang  40.420744   \n",
       "10  6192b8c1f13bcac15e7930dc                       Starbucks  40.421095   \n",
       "11  6192b8c1f13bcac15e7930d3                       Starbucks  40.418038   \n",
       "\n",
       "    longitud                                           location category  \n",
       "0  -3.703038  {'type': 'Point', 'coordinates': [40.416881555...    Train  \n",
       "1  -3.703006  {'type': 'Point', 'coordinates': [40.416942649...    Train  \n",
       "2  -3.702775  {'type': 'Point', 'coordinates': [40.417539, -...   Coffee  \n",
       "3  -3.704396  {'type': 'Point', 'coordinates': [40.4174674, ...   Coffee  \n",
       "4  -3.704665  {'type': 'Point', 'coordinates': [40.417489421...   Coffee  \n",
       "5  -3.701298  {'type': 'Point', 'coordinates': [40.415583141...    Vegan  \n",
       "6  -3.706119  {'type': 'Point', 'coordinates': [40.417195167...   Coffee  \n",
       "7  -3.702886  {'type': 'Point', 'coordinates': [40.420140393...   Coffee  \n",
       "8  -3.706135  {'type': 'Point', 'coordinates': [40.419667845...   Coffee  \n",
       "9  -3.704881  {'type': 'Point', 'coordinates': [40.420743695...    Vegan  \n",
       "10 -3.702560  {'type': 'Point', 'coordinates': [40.421095, -...   Coffee  \n",
       "11 -3.699372  {'type': 'Point', 'coordinates': [40.418038185...   Coffee  "
      ]
     },
     "execution_count": 92,
     "metadata": {},
     "output_type": "execute_result"
    }
   ],
   "source": [
    "df_madrid"
   ]
  },
  {
   "cell_type": "code",
   "execution_count": 129,
   "id": "536124b0",
   "metadata": {},
   "outputs": [
    {
     "data": {
      "text/plain": [
       "<folium.map.Marker at 0x7fde4c663640>"
      ]
     },
     "execution_count": 129,
     "metadata": {},
     "output_type": "execute_result"
    }
   ],
   "source": [
    "dic = {\"location\": [madrid_lat, madrid_long], \"tooltip\": \"oficina\"}\n",
    "\n",
    "icono = Icon(color = \"pink\",\n",
    "                     prefix=\"fa\",\n",
    "                     icon=\"map-marker\",\n",
    "                     icon_color=\"black\")\n",
    "\n",
    "mark = Marker(**dic, icon=icono)\n",
    "mark.add_to(map_madrid)"
   ]
  },
  {
   "cell_type": "code",
   "execution_count": 126,
   "id": "00c4e43d",
   "metadata": {},
   "outputs": [],
   "source": [
    "for i,row in df_madrid.iterrows():\n",
    "\n",
    "    dic = {\"location\": [row[\"latitud\"], row[\"longitud\"]], \"tooltip\": row[\"nombre\"]}\n",
    "\n",
    "    if row[\"category\"] == \"Coffee\":\n",
    "        icono = Icon(color = \"red\",\n",
    "                     prefix=\"fa\",\n",
    "                     icon=\"coffee\",\n",
    "                     icon_color=\"black\")\n",
    "\n",
    "    elif row[\"category\"] == 'Vegan':\n",
    "        icono = Icon(color = \"green\",\n",
    "                     prefix=\"fa\",\n",
    "                     icon=\"leaf\",\n",
    "                     icon_color=\"black\")\n",
    "\n",
    "        \n",
    "    elif row[\"category\"] == \"Train\":        \n",
    "        icono = Icon(color = \"cadetblue\",\n",
    "                     prefix=\"fa\",\n",
    "                     icon=\"train\",\n",
    "                     icon_color=\"black\")\n",
    "        \n",
    "\n",
    "    mark = Marker(**dic, icon=icono)\n",
    "    mark.add_to(map_madrid)   \n",
    "    \n"
   ]
  },
  {
   "cell_type": "markdown",
   "id": "e803641f",
   "metadata": {},
   "source": [
    "## 2.B. Geo query: Barcelona"
   ]
  },
  {
   "cell_type": "code",
   "execution_count": 97,
   "id": "95d89c91",
   "metadata": {},
   "outputs": [],
   "source": [
    "barcelona_mongo = db.get_collection(\"barcelona\")"
   ]
  },
  {
   "cell_type": "code",
   "execution_count": 98,
   "id": "23a5340b",
   "metadata": {},
   "outputs": [
    {
     "data": {
      "text/plain": [
       "'location_2dsphere'"
      ]
     },
     "execution_count": 98,
     "metadata": {},
     "output_type": "execute_result"
    }
   ],
   "source": [
    "db.barcelona.create_index([(\"location\", GEOSPHERE)])"
   ]
  },
  {
   "cell_type": "code",
   "execution_count": 99,
   "id": "22ea1997",
   "metadata": {},
   "outputs": [],
   "source": [
    "barcelona_coord = [41.38781 , 2.16920]"
   ]
  },
  {
   "cell_type": "code",
   "execution_count": 100,
   "id": "968fef06",
   "metadata": {},
   "outputs": [
    {
     "data": {
      "text/plain": [
       "{'type': 'Point', 'coordinates': [41.38781, 2.1692]}"
      ]
     },
     "execution_count": 100,
     "metadata": {},
     "output_type": "execute_result"
    }
   ],
   "source": [
    "coord_tp_barc = af.type_point(barcelona_coord)\n",
    "coord_tp_barc"
   ]
  },
  {
   "cell_type": "code",
   "execution_count": 101,
   "id": "828f6b87",
   "metadata": {},
   "outputs": [
    {
     "data": {
      "text/plain": [
       "{'Madrid': [1, 8, 0, 1, 22], 'Barcelona': [3, 6, 0, 0, 21]}"
      ]
     },
     "execution_count": 101,
     "metadata": {},
     "output_type": "execute_result"
    }
   ],
   "source": [
    "af.build_final_dictionary(final_dictionary, \"Barcelona\", coord_tp_barc, db.barcelona, distance)"
   ]
  },
  {
   "cell_type": "markdown",
   "id": "099893e3",
   "metadata": {},
   "source": [
    "## 2.C. Geo query: Sevilla"
   ]
  },
  {
   "cell_type": "code",
   "execution_count": 102,
   "id": "5df89f71",
   "metadata": {},
   "outputs": [],
   "source": [
    "sevilla_mongo = db.get_collection(\"sevilla\")"
   ]
  },
  {
   "cell_type": "code",
   "execution_count": 103,
   "id": "69ed89bd",
   "metadata": {},
   "outputs": [
    {
     "data": {
      "text/plain": [
       "'location_2dsphere'"
      ]
     },
     "execution_count": 103,
     "metadata": {},
     "output_type": "execute_result"
    }
   ],
   "source": [
    "db.sevilla.create_index([(\"location\", GEOSPHERE)])"
   ]
  },
  {
   "cell_type": "code",
   "execution_count": 104,
   "id": "2efd0a89",
   "metadata": {},
   "outputs": [],
   "source": [
    "sevilla_coord = [37.38285,-5.99288]"
   ]
  },
  {
   "cell_type": "code",
   "execution_count": 105,
   "id": "bffbadf2",
   "metadata": {},
   "outputs": [
    {
     "data": {
      "text/plain": [
       "{'type': 'Point', 'coordinates': [37.38285, -5.99288]}"
      ]
     },
     "execution_count": 105,
     "metadata": {},
     "output_type": "execute_result"
    }
   ],
   "source": [
    "coord_tp_Sev = af.type_point(sevilla_coord)\n",
    "coord_tp_Sev"
   ]
  },
  {
   "cell_type": "code",
   "execution_count": 106,
   "id": "00235c46",
   "metadata": {},
   "outputs": [
    {
     "data": {
      "text/plain": [
       "{'Madrid': [1, 8, 0, 1, 22],\n",
       " 'Barcelona': [3, 6, 0, 0, 21],\n",
       " 'Sevilla': [1, 3, 0, 0, 9]}"
      ]
     },
     "execution_count": 106,
     "metadata": {},
     "output_type": "execute_result"
    }
   ],
   "source": [
    "af.build_final_dictionary(final_dictionary, \"Sevilla\", coord_tp_Sev, db.sevilla, distance)"
   ]
  },
  {
   "cell_type": "markdown",
   "id": "5452907b",
   "metadata": {},
   "source": [
    "# 3. Results"
   ]
  },
  {
   "cell_type": "code",
   "execution_count": 107,
   "id": "6041fa7b",
   "metadata": {
    "scrolled": true
   },
   "outputs": [],
   "source": [
    "df = af.build_df(final_dictionary)\n",
    "#df"
   ]
  },
  {
   "cell_type": "code",
   "execution_count": 108,
   "id": "c83e0c02",
   "metadata": {},
   "outputs": [],
   "source": [
    "df_2 = pd.DataFrame.from_dict(final_dictionary, orient='index')"
   ]
  },
  {
   "cell_type": "code",
   "execution_count": 109,
   "id": "f3349f73",
   "metadata": {},
   "outputs": [],
   "source": [
    "df_2.columns=['Stations','Starbucks','Pets hairdresser','Vegan restaurants','Total score']\n"
   ]
  },
  {
   "cell_type": "code",
   "execution_count": 110,
   "id": "d0c2a144",
   "metadata": {},
   "outputs": [
    {
     "data": {
      "text/html": [
       "<div>\n",
       "<style scoped>\n",
       "    .dataframe tbody tr th:only-of-type {\n",
       "        vertical-align: middle;\n",
       "    }\n",
       "\n",
       "    .dataframe tbody tr th {\n",
       "        vertical-align: top;\n",
       "    }\n",
       "\n",
       "    .dataframe thead th {\n",
       "        text-align: right;\n",
       "    }\n",
       "</style>\n",
       "<table border=\"1\" class=\"dataframe\">\n",
       "  <thead>\n",
       "    <tr style=\"text-align: right;\">\n",
       "      <th></th>\n",
       "      <th>Stations</th>\n",
       "      <th>Starbucks</th>\n",
       "      <th>Pets hairdresser</th>\n",
       "      <th>Vegan restaurants</th>\n",
       "      <th>Total score</th>\n",
       "    </tr>\n",
       "  </thead>\n",
       "  <tbody>\n",
       "    <tr>\n",
       "      <th>Madrid</th>\n",
       "      <td>1</td>\n",
       "      <td>8</td>\n",
       "      <td>0</td>\n",
       "      <td>1</td>\n",
       "      <td>22</td>\n",
       "    </tr>\n",
       "    <tr>\n",
       "      <th>Barcelona</th>\n",
       "      <td>3</td>\n",
       "      <td>6</td>\n",
       "      <td>0</td>\n",
       "      <td>0</td>\n",
       "      <td>21</td>\n",
       "    </tr>\n",
       "    <tr>\n",
       "      <th>Sevilla</th>\n",
       "      <td>1</td>\n",
       "      <td>3</td>\n",
       "      <td>0</td>\n",
       "      <td>0</td>\n",
       "      <td>9</td>\n",
       "    </tr>\n",
       "  </tbody>\n",
       "</table>\n",
       "</div>"
      ],
      "text/plain": [
       "           Stations  Starbucks  Pets hairdresser  Vegan restaurants  \\\n",
       "Madrid            1          8                 0                  1   \n",
       "Barcelona         3          6                 0                  0   \n",
       "Sevilla           1          3                 0                  0   \n",
       "\n",
       "           Total score  \n",
       "Madrid              22  \n",
       "Barcelona           21  \n",
       "Sevilla              9  "
      ]
     },
     "execution_count": 110,
     "metadata": {},
     "output_type": "execute_result"
    }
   ],
   "source": [
    "df_2"
   ]
  },
  {
   "cell_type": "markdown",
   "id": "9389bb42",
   "metadata": {},
   "source": [
    "## The city chosen for meeting the most requirements is Madrid with a total of 22 points."
   ]
  },
  {
   "cell_type": "code",
   "execution_count": 130,
   "id": "16767318",
   "metadata": {},
   "outputs": [
    {
     "data": {
      "text/html": [
       "<div style=\"width:100%;\"><div style=\"position:relative;width:100%;height:0;padding-bottom:60%;\"><span style=\"color:#565656\">Make this Notebook Trusted to load map: File -> Trust Notebook</span><iframe src=\"about:blank\" style=\"position:absolute;width:100%;height:100%;left:0;top:0;border:none !important;\" data-html=%3C%21DOCTYPE%20html%3E%0A%3Chead%3E%20%20%20%20%0A%20%20%20%20%3Cmeta%20http-equiv%3D%22content-type%22%20content%3D%22text/html%3B%20charset%3DUTF-8%22%20/%3E%0A%20%20%20%20%0A%20%20%20%20%20%20%20%20%3Cscript%3E%0A%20%20%20%20%20%20%20%20%20%20%20%20L_NO_TOUCH%20%3D%20false%3B%0A%20%20%20%20%20%20%20%20%20%20%20%20L_DISABLE_3D%20%3D%20false%3B%0A%20%20%20%20%20%20%20%20%3C/script%3E%0A%20%20%20%20%0A%20%20%20%20%3Cstyle%3Ehtml%2C%20body%20%7Bwidth%3A%20100%25%3Bheight%3A%20100%25%3Bmargin%3A%200%3Bpadding%3A%200%3B%7D%3C/style%3E%0A%20%20%20%20%3Cstyle%3E%23map%20%7Bposition%3Aabsolute%3Btop%3A0%3Bbottom%3A0%3Bright%3A0%3Bleft%3A0%3B%7D%3C/style%3E%0A%20%20%20%20%3Cscript%20src%3D%22https%3A//cdn.jsdelivr.net/npm/leaflet%401.6.0/dist/leaflet.js%22%3E%3C/script%3E%0A%20%20%20%20%3Cscript%20src%3D%22https%3A//code.jquery.com/jquery-1.12.4.min.js%22%3E%3C/script%3E%0A%20%20%20%20%3Cscript%20src%3D%22https%3A//maxcdn.bootstrapcdn.com/bootstrap/3.2.0/js/bootstrap.min.js%22%3E%3C/script%3E%0A%20%20%20%20%3Cscript%20src%3D%22https%3A//cdnjs.cloudflare.com/ajax/libs/Leaflet.awesome-markers/2.0.2/leaflet.awesome-markers.js%22%3E%3C/script%3E%0A%20%20%20%20%3Clink%20rel%3D%22stylesheet%22%20href%3D%22https%3A//cdn.jsdelivr.net/npm/leaflet%401.6.0/dist/leaflet.css%22/%3E%0A%20%20%20%20%3Clink%20rel%3D%22stylesheet%22%20href%3D%22https%3A//maxcdn.bootstrapcdn.com/bootstrap/3.2.0/css/bootstrap.min.css%22/%3E%0A%20%20%20%20%3Clink%20rel%3D%22stylesheet%22%20href%3D%22https%3A//maxcdn.bootstrapcdn.com/bootstrap/3.2.0/css/bootstrap-theme.min.css%22/%3E%0A%20%20%20%20%3Clink%20rel%3D%22stylesheet%22%20href%3D%22https%3A//maxcdn.bootstrapcdn.com/font-awesome/4.6.3/css/font-awesome.min.css%22/%3E%0A%20%20%20%20%3Clink%20rel%3D%22stylesheet%22%20href%3D%22https%3A//cdnjs.cloudflare.com/ajax/libs/Leaflet.awesome-markers/2.0.2/leaflet.awesome-markers.css%22/%3E%0A%20%20%20%20%3Clink%20rel%3D%22stylesheet%22%20href%3D%22https%3A//cdn.jsdelivr.net/gh/python-visualization/folium/folium/templates/leaflet.awesome.rotate.min.css%22/%3E%0A%20%20%20%20%0A%20%20%20%20%20%20%20%20%20%20%20%20%3Cmeta%20name%3D%22viewport%22%20content%3D%22width%3Ddevice-width%2C%0A%20%20%20%20%20%20%20%20%20%20%20%20%20%20%20%20initial-scale%3D1.0%2C%20maximum-scale%3D1.0%2C%20user-scalable%3Dno%22%20/%3E%0A%20%20%20%20%20%20%20%20%20%20%20%20%3Cstyle%3E%0A%20%20%20%20%20%20%20%20%20%20%20%20%20%20%20%20%23map_c21bef2d689f456387d355578d1fb164%20%7B%0A%20%20%20%20%20%20%20%20%20%20%20%20%20%20%20%20%20%20%20%20position%3A%20relative%3B%0A%20%20%20%20%20%20%20%20%20%20%20%20%20%20%20%20%20%20%20%20width%3A%20100.0%25%3B%0A%20%20%20%20%20%20%20%20%20%20%20%20%20%20%20%20%20%20%20%20height%3A%20100.0%25%3B%0A%20%20%20%20%20%20%20%20%20%20%20%20%20%20%20%20%20%20%20%20left%3A%200.0%25%3B%0A%20%20%20%20%20%20%20%20%20%20%20%20%20%20%20%20%20%20%20%20top%3A%200.0%25%3B%0A%20%20%20%20%20%20%20%20%20%20%20%20%20%20%20%20%7D%0A%20%20%20%20%20%20%20%20%20%20%20%20%3C/style%3E%0A%20%20%20%20%20%20%20%20%0A%3C/head%3E%0A%3Cbody%3E%20%20%20%20%0A%20%20%20%20%0A%20%20%20%20%20%20%20%20%20%20%20%20%3Cdiv%20class%3D%22folium-map%22%20id%3D%22map_c21bef2d689f456387d355578d1fb164%22%20%3E%3C/div%3E%0A%20%20%20%20%20%20%20%20%0A%3C/body%3E%0A%3Cscript%3E%20%20%20%20%0A%20%20%20%20%0A%20%20%20%20%20%20%20%20%20%20%20%20var%20map_c21bef2d689f456387d355578d1fb164%20%3D%20L.map%28%0A%20%20%20%20%20%20%20%20%20%20%20%20%20%20%20%20%22map_c21bef2d689f456387d355578d1fb164%22%2C%0A%20%20%20%20%20%20%20%20%20%20%20%20%20%20%20%20%7B%0A%20%20%20%20%20%20%20%20%20%20%20%20%20%20%20%20%20%20%20%20center%3A%20%5B40.41703%2C%20-3.7034796%5D%2C%0A%20%20%20%20%20%20%20%20%20%20%20%20%20%20%20%20%20%20%20%20crs%3A%20L.CRS.EPSG3857%2C%0A%20%20%20%20%20%20%20%20%20%20%20%20%20%20%20%20%20%20%20%20zoom%3A%2015%2C%0A%20%20%20%20%20%20%20%20%20%20%20%20%20%20%20%20%20%20%20%20zoomControl%3A%20true%2C%0A%20%20%20%20%20%20%20%20%20%20%20%20%20%20%20%20%20%20%20%20preferCanvas%3A%20false%2C%0A%20%20%20%20%20%20%20%20%20%20%20%20%20%20%20%20%7D%0A%20%20%20%20%20%20%20%20%20%20%20%20%29%3B%0A%0A%20%20%20%20%20%20%20%20%20%20%20%20%0A%0A%20%20%20%20%20%20%20%20%0A%20%20%20%20%0A%20%20%20%20%20%20%20%20%20%20%20%20var%20tile_layer_7958269981704dbda527c4aeadf497b0%20%3D%20L.tileLayer%28%0A%20%20%20%20%20%20%20%20%20%20%20%20%20%20%20%20%22https%3A//%7Bs%7D.tile.openstreetmap.org/%7Bz%7D/%7Bx%7D/%7By%7D.png%22%2C%0A%20%20%20%20%20%20%20%20%20%20%20%20%20%20%20%20%7B%22attribution%22%3A%20%22Data%20by%20%5Cu0026copy%3B%20%5Cu003ca%20href%3D%5C%22http%3A//openstreetmap.org%5C%22%5Cu003eOpenStreetMap%5Cu003c/a%5Cu003e%2C%20under%20%5Cu003ca%20href%3D%5C%22http%3A//www.openstreetmap.org/copyright%5C%22%5Cu003eODbL%5Cu003c/a%5Cu003e.%22%2C%20%22detectRetina%22%3A%20false%2C%20%22maxNativeZoom%22%3A%2018%2C%20%22maxZoom%22%3A%2018%2C%20%22minZoom%22%3A%200%2C%20%22noWrap%22%3A%20false%2C%20%22opacity%22%3A%201%2C%20%22subdomains%22%3A%20%22abc%22%2C%20%22tms%22%3A%20false%7D%0A%20%20%20%20%20%20%20%20%20%20%20%20%29.addTo%28map_c21bef2d689f456387d355578d1fb164%29%3B%0A%20%20%20%20%20%20%20%20%0A%20%20%20%20%0A%20%20%20%20%20%20%20%20%20%20%20%20var%20marker_892dd0ea8817472b96beb38e50f2f257%20%3D%20L.marker%28%0A%20%20%20%20%20%20%20%20%20%20%20%20%20%20%20%20%5B40.416881555677016%2C%20-3.703038460187899%5D%2C%0A%20%20%20%20%20%20%20%20%20%20%20%20%20%20%20%20%7B%7D%0A%20%20%20%20%20%20%20%20%20%20%20%20%29.addTo%28map_c21bef2d689f456387d355578d1fb164%29%3B%0A%20%20%20%20%20%20%20%20%0A%20%20%20%20%0A%20%20%20%20%20%20%20%20%20%20%20%20var%20icon_f7b3312d95604727ae5eeaa0dacb40f9%20%3D%20L.AwesomeMarkers.icon%28%0A%20%20%20%20%20%20%20%20%20%20%20%20%20%20%20%20%7B%22extraClasses%22%3A%20%22fa-rotate-0%22%2C%20%22icon%22%3A%20%22train%22%2C%20%22iconColor%22%3A%20%22black%22%2C%20%22markerColor%22%3A%20%22cadetblue%22%2C%20%22prefix%22%3A%20%22fa%22%7D%0A%20%20%20%20%20%20%20%20%20%20%20%20%29%3B%0A%20%20%20%20%20%20%20%20%20%20%20%20marker_892dd0ea8817472b96beb38e50f2f257.setIcon%28icon_f7b3312d95604727ae5eeaa0dacb40f9%29%3B%0A%20%20%20%20%20%20%20%20%0A%20%20%20%20%0A%20%20%20%20%20%20%20%20%20%20%20%20marker_892dd0ea8817472b96beb38e50f2f257.bindTooltip%28%0A%20%20%20%20%20%20%20%20%20%20%20%20%20%20%20%20%60%3Cdiv%3E%0A%20%20%20%20%20%20%20%20%20%20%20%20%20%20%20%20%20%20%20%20%20Metro%20Sol%0A%20%20%20%20%20%20%20%20%20%20%20%20%20%20%20%20%20%3C/div%3E%60%2C%0A%20%20%20%20%20%20%20%20%20%20%20%20%20%20%20%20%7B%22sticky%22%3A%20true%7D%0A%20%20%20%20%20%20%20%20%20%20%20%20%29%3B%0A%20%20%20%20%20%20%20%20%0A%20%20%20%20%0A%20%20%20%20%20%20%20%20%20%20%20%20var%20marker_88548820997a448d99180df2633175c5%20%3D%20L.marker%28%0A%20%20%20%20%20%20%20%20%20%20%20%20%20%20%20%20%5B40.41694264946852%2C%20-3.7030062744743986%5D%2C%0A%20%20%20%20%20%20%20%20%20%20%20%20%20%20%20%20%7B%7D%0A%20%20%20%20%20%20%20%20%20%20%20%20%29.addTo%28map_c21bef2d689f456387d355578d1fb164%29%3B%0A%20%20%20%20%20%20%20%20%0A%20%20%20%20%0A%20%20%20%20%20%20%20%20%20%20%20%20var%20icon_149a868629994fb29b8a9b9ae2f28993%20%3D%20L.AwesomeMarkers.icon%28%0A%20%20%20%20%20%20%20%20%20%20%20%20%20%20%20%20%7B%22extraClasses%22%3A%20%22fa-rotate-0%22%2C%20%22icon%22%3A%20%22train%22%2C%20%22iconColor%22%3A%20%22black%22%2C%20%22markerColor%22%3A%20%22cadetblue%22%2C%20%22prefix%22%3A%20%22fa%22%7D%0A%20%20%20%20%20%20%20%20%20%20%20%20%29%3B%0A%20%20%20%20%20%20%20%20%20%20%20%20marker_88548820997a448d99180df2633175c5.setIcon%28icon_149a868629994fb29b8a9b9ae2f28993%29%3B%0A%20%20%20%20%20%20%20%20%0A%20%20%20%20%0A%20%20%20%20%20%20%20%20%20%20%20%20marker_88548820997a448d99180df2633175c5.bindTooltip%28%0A%20%20%20%20%20%20%20%20%20%20%20%20%20%20%20%20%60%3Cdiv%3E%0A%20%20%20%20%20%20%20%20%20%20%20%20%20%20%20%20%20%20%20%20%20Cercan%C3%ADas%20Sol%0A%20%20%20%20%20%20%20%20%20%20%20%20%20%20%20%20%20%3C/div%3E%60%2C%0A%20%20%20%20%20%20%20%20%20%20%20%20%20%20%20%20%7B%22sticky%22%3A%20true%7D%0A%20%20%20%20%20%20%20%20%20%20%20%20%29%3B%0A%20%20%20%20%20%20%20%20%0A%20%20%20%20%0A%20%20%20%20%20%20%20%20%20%20%20%20var%20marker_87007fafca08425b8cae4b3aa94622cb%20%3D%20L.marker%28%0A%20%20%20%20%20%20%20%20%20%20%20%20%20%20%20%20%5B40.417539%2C%20-3.702775%5D%2C%0A%20%20%20%20%20%20%20%20%20%20%20%20%20%20%20%20%7B%7D%0A%20%20%20%20%20%20%20%20%20%20%20%20%29.addTo%28map_c21bef2d689f456387d355578d1fb164%29%3B%0A%20%20%20%20%20%20%20%20%0A%20%20%20%20%0A%20%20%20%20%20%20%20%20%20%20%20%20var%20icon_c680dec0cc5d480f965b9d8e59822d4d%20%3D%20L.AwesomeMarkers.icon%28%0A%20%20%20%20%20%20%20%20%20%20%20%20%20%20%20%20%7B%22extraClasses%22%3A%20%22fa-rotate-0%22%2C%20%22icon%22%3A%20%22coffee%22%2C%20%22iconColor%22%3A%20%22black%22%2C%20%22markerColor%22%3A%20%22red%22%2C%20%22prefix%22%3A%20%22fa%22%7D%0A%20%20%20%20%20%20%20%20%20%20%20%20%29%3B%0A%20%20%20%20%20%20%20%20%20%20%20%20marker_87007fafca08425b8cae4b3aa94622cb.setIcon%28icon_c680dec0cc5d480f965b9d8e59822d4d%29%3B%0A%20%20%20%20%20%20%20%20%0A%20%20%20%20%0A%20%20%20%20%20%20%20%20%20%20%20%20marker_87007fafca08425b8cae4b3aa94622cb.bindTooltip%28%0A%20%20%20%20%20%20%20%20%20%20%20%20%20%20%20%20%60%3Cdiv%3E%0A%20%20%20%20%20%20%20%20%20%20%20%20%20%20%20%20%20%20%20%20%20Starbucks%0A%20%20%20%20%20%20%20%20%20%20%20%20%20%20%20%20%20%3C/div%3E%60%2C%0A%20%20%20%20%20%20%20%20%20%20%20%20%20%20%20%20%7B%22sticky%22%3A%20true%7D%0A%20%20%20%20%20%20%20%20%20%20%20%20%29%3B%0A%20%20%20%20%20%20%20%20%0A%20%20%20%20%0A%20%20%20%20%20%20%20%20%20%20%20%20var%20marker_24b2a617aa6848b6be5ecc6382dae3fd%20%3D%20L.marker%28%0A%20%20%20%20%20%20%20%20%20%20%20%20%20%20%20%20%5B40.4174674%2C%20-3.7043957%5D%2C%0A%20%20%20%20%20%20%20%20%20%20%20%20%20%20%20%20%7B%7D%0A%20%20%20%20%20%20%20%20%20%20%20%20%29.addTo%28map_c21bef2d689f456387d355578d1fb164%29%3B%0A%20%20%20%20%20%20%20%20%0A%20%20%20%20%0A%20%20%20%20%20%20%20%20%20%20%20%20var%20icon_c25d2c0d351748a393089c33a43043cf%20%3D%20L.AwesomeMarkers.icon%28%0A%20%20%20%20%20%20%20%20%20%20%20%20%20%20%20%20%7B%22extraClasses%22%3A%20%22fa-rotate-0%22%2C%20%22icon%22%3A%20%22coffee%22%2C%20%22iconColor%22%3A%20%22black%22%2C%20%22markerColor%22%3A%20%22red%22%2C%20%22prefix%22%3A%20%22fa%22%7D%0A%20%20%20%20%20%20%20%20%20%20%20%20%29%3B%0A%20%20%20%20%20%20%20%20%20%20%20%20marker_24b2a617aa6848b6be5ecc6382dae3fd.setIcon%28icon_c25d2c0d351748a393089c33a43043cf%29%3B%0A%20%20%20%20%20%20%20%20%0A%20%20%20%20%0A%20%20%20%20%20%20%20%20%20%20%20%20marker_24b2a617aa6848b6be5ecc6382dae3fd.bindTooltip%28%0A%20%20%20%20%20%20%20%20%20%20%20%20%20%20%20%20%60%3Cdiv%3E%0A%20%20%20%20%20%20%20%20%20%20%20%20%20%20%20%20%20%20%20%20%20Starbucks%0A%20%20%20%20%20%20%20%20%20%20%20%20%20%20%20%20%20%3C/div%3E%60%2C%0A%20%20%20%20%20%20%20%20%20%20%20%20%20%20%20%20%7B%22sticky%22%3A%20true%7D%0A%20%20%20%20%20%20%20%20%20%20%20%20%29%3B%0A%20%20%20%20%20%20%20%20%0A%20%20%20%20%0A%20%20%20%20%20%20%20%20%20%20%20%20var%20marker_9b6be87596974fcdb7b0df24d2a756e4%20%3D%20L.marker%28%0A%20%20%20%20%20%20%20%20%20%20%20%20%20%20%20%20%5B40.41748942152583%2C%20-3.70466514037747%5D%2C%0A%20%20%20%20%20%20%20%20%20%20%20%20%20%20%20%20%7B%7D%0A%20%20%20%20%20%20%20%20%20%20%20%20%29.addTo%28map_c21bef2d689f456387d355578d1fb164%29%3B%0A%20%20%20%20%20%20%20%20%0A%20%20%20%20%0A%20%20%20%20%20%20%20%20%20%20%20%20var%20icon_02825447ce574e23a8510c6d0d4ea6a5%20%3D%20L.AwesomeMarkers.icon%28%0A%20%20%20%20%20%20%20%20%20%20%20%20%20%20%20%20%7B%22extraClasses%22%3A%20%22fa-rotate-0%22%2C%20%22icon%22%3A%20%22coffee%22%2C%20%22iconColor%22%3A%20%22black%22%2C%20%22markerColor%22%3A%20%22red%22%2C%20%22prefix%22%3A%20%22fa%22%7D%0A%20%20%20%20%20%20%20%20%20%20%20%20%29%3B%0A%20%20%20%20%20%20%20%20%20%20%20%20marker_9b6be87596974fcdb7b0df24d2a756e4.setIcon%28icon_02825447ce574e23a8510c6d0d4ea6a5%29%3B%0A%20%20%20%20%20%20%20%20%0A%20%20%20%20%0A%20%20%20%20%20%20%20%20%20%20%20%20marker_9b6be87596974fcdb7b0df24d2a756e4.bindTooltip%28%0A%20%20%20%20%20%20%20%20%20%20%20%20%20%20%20%20%60%3Cdiv%3E%0A%20%20%20%20%20%20%20%20%20%20%20%20%20%20%20%20%20%20%20%20%20Starbucks%0A%20%20%20%20%20%20%20%20%20%20%20%20%20%20%20%20%20%3C/div%3E%60%2C%0A%20%20%20%20%20%20%20%20%20%20%20%20%20%20%20%20%7B%22sticky%22%3A%20true%7D%0A%20%20%20%20%20%20%20%20%20%20%20%20%29%3B%0A%20%20%20%20%20%20%20%20%0A%20%20%20%20%0A%20%20%20%20%20%20%20%20%20%20%20%20var%20marker_01ebac2b63324b2aafcf7a493042875b%20%3D%20L.marker%28%0A%20%20%20%20%20%20%20%20%20%20%20%20%20%20%20%20%5B40.41558314100989%2C%20-3.701298236846924%5D%2C%0A%20%20%20%20%20%20%20%20%20%20%20%20%20%20%20%20%7B%7D%0A%20%20%20%20%20%20%20%20%20%20%20%20%29.addTo%28map_c21bef2d689f456387d355578d1fb164%29%3B%0A%20%20%20%20%20%20%20%20%0A%20%20%20%20%0A%20%20%20%20%20%20%20%20%20%20%20%20var%20icon_ed1e1e2006364400a4417d32364c7dc2%20%3D%20L.AwesomeMarkers.icon%28%0A%20%20%20%20%20%20%20%20%20%20%20%20%20%20%20%20%7B%22extraClasses%22%3A%20%22fa-rotate-0%22%2C%20%22icon%22%3A%20%22leaf%22%2C%20%22iconColor%22%3A%20%22black%22%2C%20%22markerColor%22%3A%20%22green%22%2C%20%22prefix%22%3A%20%22fa%22%7D%0A%20%20%20%20%20%20%20%20%20%20%20%20%29%3B%0A%20%20%20%20%20%20%20%20%20%20%20%20marker_01ebac2b63324b2aafcf7a493042875b.setIcon%28icon_ed1e1e2006364400a4417d32364c7dc2%29%3B%0A%20%20%20%20%20%20%20%20%0A%20%20%20%20%0A%20%20%20%20%20%20%20%20%20%20%20%20marker_01ebac2b63324b2aafcf7a493042875b.bindTooltip%28%0A%20%20%20%20%20%20%20%20%20%20%20%20%20%20%20%20%60%3Cdiv%3E%0A%20%20%20%20%20%20%20%20%20%20%20%20%20%20%20%20%20%20%20%20%20RESTAURANTE%20VEGANO%20PLANT%20GRILL%0A%20%20%20%20%20%20%20%20%20%20%20%20%20%20%20%20%20%3C/div%3E%60%2C%0A%20%20%20%20%20%20%20%20%20%20%20%20%20%20%20%20%7B%22sticky%22%3A%20true%7D%0A%20%20%20%20%20%20%20%20%20%20%20%20%29%3B%0A%20%20%20%20%20%20%20%20%0A%20%20%20%20%0A%20%20%20%20%20%20%20%20%20%20%20%20var%20marker_515cef464d1949f08fa1d22ceca89c8c%20%3D%20L.marker%28%0A%20%20%20%20%20%20%20%20%20%20%20%20%20%20%20%20%5B40.41719516711848%2C%20-3.706118548830636%5D%2C%0A%20%20%20%20%20%20%20%20%20%20%20%20%20%20%20%20%7B%7D%0A%20%20%20%20%20%20%20%20%20%20%20%20%29.addTo%28map_c21bef2d689f456387d355578d1fb164%29%3B%0A%20%20%20%20%20%20%20%20%0A%20%20%20%20%0A%20%20%20%20%20%20%20%20%20%20%20%20var%20icon_de52d299efd94344ab7273cbbd8bef84%20%3D%20L.AwesomeMarkers.icon%28%0A%20%20%20%20%20%20%20%20%20%20%20%20%20%20%20%20%7B%22extraClasses%22%3A%20%22fa-rotate-0%22%2C%20%22icon%22%3A%20%22coffee%22%2C%20%22iconColor%22%3A%20%22black%22%2C%20%22markerColor%22%3A%20%22red%22%2C%20%22prefix%22%3A%20%22fa%22%7D%0A%20%20%20%20%20%20%20%20%20%20%20%20%29%3B%0A%20%20%20%20%20%20%20%20%20%20%20%20marker_515cef464d1949f08fa1d22ceca89c8c.setIcon%28icon_de52d299efd94344ab7273cbbd8bef84%29%3B%0A%20%20%20%20%20%20%20%20%0A%20%20%20%20%0A%20%20%20%20%20%20%20%20%20%20%20%20marker_515cef464d1949f08fa1d22ceca89c8c.bindTooltip%28%0A%20%20%20%20%20%20%20%20%20%20%20%20%20%20%20%20%60%3Cdiv%3E%0A%20%20%20%20%20%20%20%20%20%20%20%20%20%20%20%20%20%20%20%20%20Starbucks%0A%20%20%20%20%20%20%20%20%20%20%20%20%20%20%20%20%20%3C/div%3E%60%2C%0A%20%20%20%20%20%20%20%20%20%20%20%20%20%20%20%20%7B%22sticky%22%3A%20true%7D%0A%20%20%20%20%20%20%20%20%20%20%20%20%29%3B%0A%20%20%20%20%20%20%20%20%0A%20%20%20%20%0A%20%20%20%20%20%20%20%20%20%20%20%20var%20marker_baae9843461545a6af852b9c8e1420c7%20%3D%20L.marker%28%0A%20%20%20%20%20%20%20%20%20%20%20%20%20%20%20%20%5B40.42014039388448%2C%20-3.702886033408268%5D%2C%0A%20%20%20%20%20%20%20%20%20%20%20%20%20%20%20%20%7B%7D%0A%20%20%20%20%20%20%20%20%20%20%20%20%29.addTo%28map_c21bef2d689f456387d355578d1fb164%29%3B%0A%20%20%20%20%20%20%20%20%0A%20%20%20%20%0A%20%20%20%20%20%20%20%20%20%20%20%20var%20icon_df880afb47384fdf8e4715238575f0fa%20%3D%20L.AwesomeMarkers.icon%28%0A%20%20%20%20%20%20%20%20%20%20%20%20%20%20%20%20%7B%22extraClasses%22%3A%20%22fa-rotate-0%22%2C%20%22icon%22%3A%20%22coffee%22%2C%20%22iconColor%22%3A%20%22black%22%2C%20%22markerColor%22%3A%20%22red%22%2C%20%22prefix%22%3A%20%22fa%22%7D%0A%20%20%20%20%20%20%20%20%20%20%20%20%29%3B%0A%20%20%20%20%20%20%20%20%20%20%20%20marker_baae9843461545a6af852b9c8e1420c7.setIcon%28icon_df880afb47384fdf8e4715238575f0fa%29%3B%0A%20%20%20%20%20%20%20%20%0A%20%20%20%20%0A%20%20%20%20%20%20%20%20%20%20%20%20marker_baae9843461545a6af852b9c8e1420c7.bindTooltip%28%0A%20%20%20%20%20%20%20%20%20%20%20%20%20%20%20%20%60%3Cdiv%3E%0A%20%20%20%20%20%20%20%20%20%20%20%20%20%20%20%20%20%20%20%20%20Starbucks%0A%20%20%20%20%20%20%20%20%20%20%20%20%20%20%20%20%20%3C/div%3E%60%2C%0A%20%20%20%20%20%20%20%20%20%20%20%20%20%20%20%20%7B%22sticky%22%3A%20true%7D%0A%20%20%20%20%20%20%20%20%20%20%20%20%29%3B%0A%20%20%20%20%20%20%20%20%0A%20%20%20%20%0A%20%20%20%20%20%20%20%20%20%20%20%20var%20marker_5742f9ee61a44b148f2dbe807e05595b%20%3D%20L.marker%28%0A%20%20%20%20%20%20%20%20%20%20%20%20%20%20%20%20%5B40.419667845686355%2C%20-3.7061354223688325%5D%2C%0A%20%20%20%20%20%20%20%20%20%20%20%20%20%20%20%20%7B%7D%0A%20%20%20%20%20%20%20%20%20%20%20%20%29.addTo%28map_c21bef2d689f456387d355578d1fb164%29%3B%0A%20%20%20%20%20%20%20%20%0A%20%20%20%20%0A%20%20%20%20%20%20%20%20%20%20%20%20var%20icon_99ce04319b474df9a2185710655705c0%20%3D%20L.AwesomeMarkers.icon%28%0A%20%20%20%20%20%20%20%20%20%20%20%20%20%20%20%20%7B%22extraClasses%22%3A%20%22fa-rotate-0%22%2C%20%22icon%22%3A%20%22coffee%22%2C%20%22iconColor%22%3A%20%22black%22%2C%20%22markerColor%22%3A%20%22red%22%2C%20%22prefix%22%3A%20%22fa%22%7D%0A%20%20%20%20%20%20%20%20%20%20%20%20%29%3B%0A%20%20%20%20%20%20%20%20%20%20%20%20marker_5742f9ee61a44b148f2dbe807e05595b.setIcon%28icon_99ce04319b474df9a2185710655705c0%29%3B%0A%20%20%20%20%20%20%20%20%0A%20%20%20%20%0A%20%20%20%20%20%20%20%20%20%20%20%20marker_5742f9ee61a44b148f2dbe807e05595b.bindTooltip%28%0A%20%20%20%20%20%20%20%20%20%20%20%20%20%20%20%20%60%3Cdiv%3E%0A%20%20%20%20%20%20%20%20%20%20%20%20%20%20%20%20%20%20%20%20%20Starbucks%0A%20%20%20%20%20%20%20%20%20%20%20%20%20%20%20%20%20%3C/div%3E%60%2C%0A%20%20%20%20%20%20%20%20%20%20%20%20%20%20%20%20%7B%22sticky%22%3A%20true%7D%0A%20%20%20%20%20%20%20%20%20%20%20%20%29%3B%0A%20%20%20%20%20%20%20%20%0A%20%20%20%20%0A%20%20%20%20%20%20%20%20%20%20%20%20var%20marker_7416bfad4c9c47968f76971807dd3da5%20%3D%20L.marker%28%0A%20%20%20%20%20%20%20%20%20%20%20%20%20%20%20%20%5B40.4207436951422%2C%20-3.7048809200424286%5D%2C%0A%20%20%20%20%20%20%20%20%20%20%20%20%20%20%20%20%7B%7D%0A%20%20%20%20%20%20%20%20%20%20%20%20%29.addTo%28map_c21bef2d689f456387d355578d1fb164%29%3B%0A%20%20%20%20%20%20%20%20%0A%20%20%20%20%0A%20%20%20%20%20%20%20%20%20%20%20%20var%20icon_f38e6b288828440db16652ca0421e4cb%20%3D%20L.AwesomeMarkers.icon%28%0A%20%20%20%20%20%20%20%20%20%20%20%20%20%20%20%20%7B%22extraClasses%22%3A%20%22fa-rotate-0%22%2C%20%22icon%22%3A%20%22leaf%22%2C%20%22iconColor%22%3A%20%22black%22%2C%20%22markerColor%22%3A%20%22green%22%2C%20%22prefix%22%3A%20%22fa%22%7D%0A%20%20%20%20%20%20%20%20%20%20%20%20%29%3B%0A%20%20%20%20%20%20%20%20%20%20%20%20marker_7416bfad4c9c47968f76971807dd3da5.setIcon%28icon_f38e6b288828440db16652ca0421e4cb%29%3B%0A%20%20%20%20%20%20%20%20%0A%20%20%20%20%0A%20%20%20%20%20%20%20%20%20%20%20%20marker_7416bfad4c9c47968f76971807dd3da5.bindTooltip%28%0A%20%20%20%20%20%20%20%20%20%20%20%20%20%20%20%20%60%3Cdiv%3E%0A%20%20%20%20%20%20%20%20%20%20%20%20%20%20%20%20%20%20%20%20%20Shi-Shang%0A%20%20%20%20%20%20%20%20%20%20%20%20%20%20%20%20%20%3C/div%3E%60%2C%0A%20%20%20%20%20%20%20%20%20%20%20%20%20%20%20%20%7B%22sticky%22%3A%20true%7D%0A%20%20%20%20%20%20%20%20%20%20%20%20%29%3B%0A%20%20%20%20%20%20%20%20%0A%20%20%20%20%0A%20%20%20%20%20%20%20%20%20%20%20%20var%20marker_6498d16756e6400d96100deafcaba870%20%3D%20L.marker%28%0A%20%20%20%20%20%20%20%20%20%20%20%20%20%20%20%20%5B40.421095%2C%20-3.70256%5D%2C%0A%20%20%20%20%20%20%20%20%20%20%20%20%20%20%20%20%7B%7D%0A%20%20%20%20%20%20%20%20%20%20%20%20%29.addTo%28map_c21bef2d689f456387d355578d1fb164%29%3B%0A%20%20%20%20%20%20%20%20%0A%20%20%20%20%0A%20%20%20%20%20%20%20%20%20%20%20%20var%20icon_f562b3781d3846f99117e2b666f76e40%20%3D%20L.AwesomeMarkers.icon%28%0A%20%20%20%20%20%20%20%20%20%20%20%20%20%20%20%20%7B%22extraClasses%22%3A%20%22fa-rotate-0%22%2C%20%22icon%22%3A%20%22coffee%22%2C%20%22iconColor%22%3A%20%22black%22%2C%20%22markerColor%22%3A%20%22red%22%2C%20%22prefix%22%3A%20%22fa%22%7D%0A%20%20%20%20%20%20%20%20%20%20%20%20%29%3B%0A%20%20%20%20%20%20%20%20%20%20%20%20marker_6498d16756e6400d96100deafcaba870.setIcon%28icon_f562b3781d3846f99117e2b666f76e40%29%3B%0A%20%20%20%20%20%20%20%20%0A%20%20%20%20%0A%20%20%20%20%20%20%20%20%20%20%20%20marker_6498d16756e6400d96100deafcaba870.bindTooltip%28%0A%20%20%20%20%20%20%20%20%20%20%20%20%20%20%20%20%60%3Cdiv%3E%0A%20%20%20%20%20%20%20%20%20%20%20%20%20%20%20%20%20%20%20%20%20Starbucks%0A%20%20%20%20%20%20%20%20%20%20%20%20%20%20%20%20%20%3C/div%3E%60%2C%0A%20%20%20%20%20%20%20%20%20%20%20%20%20%20%20%20%7B%22sticky%22%3A%20true%7D%0A%20%20%20%20%20%20%20%20%20%20%20%20%29%3B%0A%20%20%20%20%20%20%20%20%0A%20%20%20%20%0A%20%20%20%20%20%20%20%20%20%20%20%20var%20marker_05dd41114ff943f394a8bec86b48f540%20%3D%20L.marker%28%0A%20%20%20%20%20%20%20%20%20%20%20%20%20%20%20%20%5B40.418038185194774%2C%20-3.699371513099982%5D%2C%0A%20%20%20%20%20%20%20%20%20%20%20%20%20%20%20%20%7B%7D%0A%20%20%20%20%20%20%20%20%20%20%20%20%29.addTo%28map_c21bef2d689f456387d355578d1fb164%29%3B%0A%20%20%20%20%20%20%20%20%0A%20%20%20%20%0A%20%20%20%20%20%20%20%20%20%20%20%20var%20icon_b31d80b0271446c2a37185db5f5fb59c%20%3D%20L.AwesomeMarkers.icon%28%0A%20%20%20%20%20%20%20%20%20%20%20%20%20%20%20%20%7B%22extraClasses%22%3A%20%22fa-rotate-0%22%2C%20%22icon%22%3A%20%22coffee%22%2C%20%22iconColor%22%3A%20%22black%22%2C%20%22markerColor%22%3A%20%22red%22%2C%20%22prefix%22%3A%20%22fa%22%7D%0A%20%20%20%20%20%20%20%20%20%20%20%20%29%3B%0A%20%20%20%20%20%20%20%20%20%20%20%20marker_05dd41114ff943f394a8bec86b48f540.setIcon%28icon_b31d80b0271446c2a37185db5f5fb59c%29%3B%0A%20%20%20%20%20%20%20%20%0A%20%20%20%20%0A%20%20%20%20%20%20%20%20%20%20%20%20marker_05dd41114ff943f394a8bec86b48f540.bindTooltip%28%0A%20%20%20%20%20%20%20%20%20%20%20%20%20%20%20%20%60%3Cdiv%3E%0A%20%20%20%20%20%20%20%20%20%20%20%20%20%20%20%20%20%20%20%20%20Starbucks%0A%20%20%20%20%20%20%20%20%20%20%20%20%20%20%20%20%20%3C/div%3E%60%2C%0A%20%20%20%20%20%20%20%20%20%20%20%20%20%20%20%20%7B%22sticky%22%3A%20true%7D%0A%20%20%20%20%20%20%20%20%20%20%20%20%29%3B%0A%20%20%20%20%20%20%20%20%0A%20%20%20%20%0A%20%20%20%20%20%20%20%20%20%20%20%20var%20marker_4acc95934cbd42c49103bd4307233036%20%3D%20L.marker%28%0A%20%20%20%20%20%20%20%20%20%20%20%20%20%20%20%20%5B40.41703%2C%20-3.7034796%5D%2C%0A%20%20%20%20%20%20%20%20%20%20%20%20%20%20%20%20%7B%7D%0A%20%20%20%20%20%20%20%20%20%20%20%20%29.addTo%28map_c21bef2d689f456387d355578d1fb164%29%3B%0A%20%20%20%20%20%20%20%20%0A%20%20%20%20%0A%20%20%20%20%20%20%20%20%20%20%20%20var%20icon_21ba93687928474d8ba68bf52e7c63b8%20%3D%20L.AwesomeMarkers.icon%28%0A%20%20%20%20%20%20%20%20%20%20%20%20%20%20%20%20%7B%22extraClasses%22%3A%20%22fa-rotate-0%22%2C%20%22icon%22%3A%20%22map-marker%22%2C%20%22iconColor%22%3A%20%22black%22%2C%20%22markerColor%22%3A%20%22pink%22%2C%20%22prefix%22%3A%20%22fa%22%7D%0A%20%20%20%20%20%20%20%20%20%20%20%20%29%3B%0A%20%20%20%20%20%20%20%20%20%20%20%20marker_4acc95934cbd42c49103bd4307233036.setIcon%28icon_21ba93687928474d8ba68bf52e7c63b8%29%3B%0A%20%20%20%20%20%20%20%20%0A%20%20%20%20%0A%20%20%20%20%20%20%20%20%20%20%20%20marker_4acc95934cbd42c49103bd4307233036.bindTooltip%28%0A%20%20%20%20%20%20%20%20%20%20%20%20%20%20%20%20%60%3Cdiv%3E%0A%20%20%20%20%20%20%20%20%20%20%20%20%20%20%20%20%20%20%20%20%20oficina%0A%20%20%20%20%20%20%20%20%20%20%20%20%20%20%20%20%20%3C/div%3E%60%2C%0A%20%20%20%20%20%20%20%20%20%20%20%20%20%20%20%20%7B%22sticky%22%3A%20true%7D%0A%20%20%20%20%20%20%20%20%20%20%20%20%29%3B%0A%20%20%20%20%20%20%20%20%0A%3C/script%3E onload=\"this.contentDocument.open();this.contentDocument.write(    decodeURIComponent(this.getAttribute('data-html')));this.contentDocument.close();\" allowfullscreen webkitallowfullscreen mozallowfullscreen></iframe></div></div>"
      ],
      "text/plain": [
       "<folium.folium.Map at 0x7fde4c6398b0>"
      ]
     },
     "execution_count": 130,
     "metadata": {},
     "output_type": "execute_result"
    }
   ],
   "source": [
    "map_madrid"
   ]
  },
  {
   "cell_type": "code",
   "execution_count": null,
   "id": "1298bf1e",
   "metadata": {},
   "outputs": [],
   "source": []
  }
 ],
 "metadata": {
  "kernelspec": {
   "display_name": "ironhack",
   "language": "python",
   "name": "ironhack"
  },
  "language_info": {
   "codemirror_mode": {
    "name": "ipython",
    "version": 3
   },
   "file_extension": ".py",
   "mimetype": "text/x-python",
   "name": "python",
   "nbconvert_exporter": "python",
   "pygments_lexer": "ipython3",
   "version": "3.8.5"
  }
 },
 "nbformat": 4,
 "nbformat_minor": 5
}
